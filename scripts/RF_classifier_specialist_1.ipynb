{
 "cells": [
  {
   "cell_type": "code",
   "execution_count": 1,
   "metadata": {},
   "outputs": [],
   "source": [
    "from six.moves import cPickle as pickle\n",
    "\n",
    "import sys\n",
    "# reload(sys)\n",
    "# sys.setdefaultencoding('utf-8')\n",
    "\n",
    "import os as os\n",
    "import fnmatch\n",
    "import argparse\n",
    "import pathlib\n",
    "import time\n",
    "import itertools\n",
    "\n",
    "import numpy as np\n",
    "if \"DISPLAY\" not in os.environ:\n",
    "    mpl.use('Agg')\n",
    "import matplotlib.pyplot as plt\n",
    "import seaborn as sns\n",
    "import pandas as pd\n",
    "\n",
    "import scipy.io as sio\n",
    "import glob \n",
    "\n",
    "from scipy.stats import randint as sp_randint\n",
    "from sklearn.preprocessing import LabelEncoder\n",
    "from sklearn.decomposition import PCA, KernelPCA\n",
    "from sklearn.model_selection import GridSearchCV\n",
    "from sklearn.model_selection import RandomizedSearchCV\n",
    "from sklearn.model_selection import KFold  # k-fold cross validation StratifiedKFold\n",
    "from sklearn.model_selection import StratifiedKFold\n",
    "from sklearn.preprocessing import StandardScaler  # data normalization\n",
    "from sklearn import svm\n",
    "from sklearn.ensemble import RandomForestClassifier  # random forest model\n",
    "from sklearn.pipeline import Pipeline # model pipeline\n",
    "from sklearn.model_selection import train_test_split\n",
    "from sklearn import metrics\n",
    "from sklearn.metrics import make_scorer\n",
    "\n",
    "\n",
    "%reload_ext autoreload\n",
    "\n",
    "%matplotlib inline\n",
    "plt.rcParams['figure.figsize'] = (10.0, 8.0) # set default size of plots\n",
    "plt.rcParams['image.interpolation'] = 'nearest'\n",
    "plt.rcParams['image.cmap'] = 'gray'\n",
    "plt.rc('text', usetex=True)\n",
    "plt.rc('font', family='times')\n",
    "\n",
    "plt.rcParams.update({'font.size': 22})\n",
    "# for auto-reloading external modules\n",
    "# see http://stackoverflow.com/questions/1907993/autoreload-of-modules-in-ipython\n",
    "%reload_ext autoreload\n",
    "%autoreload 2\n",
    "\n"
   ]
  },
  {
   "cell_type": "code",
   "execution_count": 2,
   "metadata": {},
   "outputs": [],
   "source": [
    "def plot_confusion_matrix(cm, classes,\n",
    "                          normalize=False,\n",
    "                          title='Confusion matrix',\n",
    "                          cmap=plt.cm.Blues):\n",
    "    \"\"\"\n",
    "    This function prints and plots the confusion matrix.\n",
    "    Normalization can be applied by setting `normalize=True`.\n",
    "    \"\"\"\n",
    "    if normalize:\n",
    "        cm = cm.astype('float') / cm.sum(axis=1)[:, np.newaxis]\n",
    "        print(\"Normalized confusion matrix\")\n",
    "    else:\n",
    "        print('Confusion matrix, without normalization')\n",
    "\n",
    "    print(cm)\n",
    "\n",
    "    plt.imshow(cm, interpolation='nearest', cmap=cmap)\n",
    "    plt.title(title)\n",
    "    plt.colorbar()\n",
    "    tick_marks = np.arange(len(classes))\n",
    "    plt.xticks(tick_marks, classes, rotation=45)\n",
    "    plt.yticks(tick_marks, classes)\n",
    "\n",
    "    fmt = '.2f' if normalize else 'd'\n",
    "    thresh = cm.max() / 2.\n",
    "    for i, j in itertools.product(range(cm.shape[0]), range(cm.shape[1])):\n",
    "        plt.text(j, i, format(cm[i, j], fmt),\n",
    "                 horizontalalignment=\"center\",\n",
    "                 color=\"white\" if cm[i, j] > thresh else \"black\")\n",
    "\n",
    "    plt.tight_layout()\n",
    "    plt.ylabel('True label')\n",
    "    plt.xlabel('Predicted label')"
   ]
  },
  {
   "cell_type": "code",
   "execution_count": 3,
   "metadata": {},
   "outputs": [
    {
     "name": "stdout",
     "output_type": "stream",
     "text": [
      "['B', 'B', 'B', 'B', 'B', 'B', 'B', 'B', 'B', 'B', 'B', 'B', 'B', 'B', 'B', 'B', 'B', 'B', 'B', 'B', 'B', 'B', 'B', 'B', 'B', 'B', 'B', 'B', 'B', 'B', 'A', 'A', 'B', 'B', 'B', 'B', 'B', 'B', 'B', 'B', 'B', 'B', 'B', 'B', 'B', 'B', 'B', 'B', 'B', 'B', 'B', 'B', 'B', 'B', 'B', 'B', 'B', 'B', 'B', 'B', 'B', 'B', 'B', 'B', 'B', 'B', 'B', 'B', 'B', 'B', 'B', 'B', 'B', 'B', 'B', 'B', 'B', 'B', 'B', 'B', 'B', 'B', 'B', 'B', 'B', 'B', 'B', 'B', 'B', 'B', 'B', 'B', 'B', 'B', 'B', 'B', 'B', 'B', 'B', 'B', 'B', 'B', 'B', 'B', 'B', 'B', 'B', 'B', 'B', 'B', 'B', 'B', 'B', 'B', 'B', 'B', 'B', 'B', 'B', 'A', 'A', 'A', 'A', 'A', 'A', 'A', 'A', 'A', 'B', 'B', 'B', 'B', 'B', 'B', 'B', 'A', 'A', 'A', 'A', 'A', 'A', 'A', 'A', 'A', 'A', 'A', 'A', 'A', 'A', 'A', 'A', 'A', 'A']\n",
      "[1 1 1 1 1 1 1 1 1 1 1 1 1 1 1 1 1 1 1 1 1 1 1 1 1 1 1 1 1 1 0 0 1 1 1 1 1\n",
      " 1 1 1 1 1 1 1 1 1 1 1 1 1 1 1 1 1 1 1 1 1 1 1 1 1 1 1 1 1 1 1 1 1 1 1 1 1\n",
      " 1 1 1 1 1 1 1 1 1 1 1 1 1 1 1 1 1 1 1 1 1 1 1 1 1 1 1 1 1 1 1 1 1 1 1 1 1\n",
      " 1 1 1 1 1 1 1 1 0 0 0 0 0 0 0 0 0 1 1 1 1 1 1 1 0 0 0 0 0 0 0 0 0 0 0 0 0\n",
      " 0 0 0 0 0]\n"
     ]
    }
   ],
   "source": [
    "knownNames = glob.glob(\"../dataset/Dados_SONAR/[DEFH]*.mat\")\n",
    "\n",
    "unknownNames = glob.glob(\"../dataset/Dados_SONAR/[ABCG]*.mat\")\n",
    "\n",
    "X = [sio.loadmat(x)['ent_norm'] for x in knownNames]\n",
    "\n",
    "X_unknown = [sio.loadmat(x)['ent_norm'] for x in unknownNames]\n",
    "\n",
    "\n",
    "\n",
    "Y = [(x.split('/')[-1][0]) for x in knownNames]\n",
    "Y = ['A' if y=='D' else y for y in Y]\n",
    "Y = ['B' if y!='A' else y for y in Y]\n",
    "\n",
    "print(Y)\n",
    "\n",
    "le = LabelEncoder()\n",
    "target = le.fit_transform(Y)\n",
    "\n",
    "print(target)\n"
   ]
  },
  {
   "cell_type": "code",
   "execution_count": 4,
   "metadata": {},
   "outputs": [],
   "source": [
    "def increase_samples(data, wLength, ovSamples, label=None):\n",
    "    \n",
    "    y = []\n",
    "    newLabel = []\n",
    "    for counter, x in enumerate(data):\n",
    "        size = np.shape(x)[0]\n",
    "        beginWindowIndex = 0\n",
    "        endWindowIndex = wLength\n",
    "        if label is None:\n",
    "            label2 = []\n",
    "        else:    \n",
    "            label2 = label[counter]\n",
    "        \n",
    "        while True:\n",
    "            vector = np.reshape(x[beginWindowIndex:endWindowIndex,:], -1)\n",
    "            y.append(vector)\n",
    "            beginWindowIndex = beginWindowIndex + ovSamples\n",
    "            endWindowIndex = endWindowIndex + ovSamples\n",
    "            newLabel.append(label2)\n",
    "            if endWindowIndex > size:\n",
    "                break\n",
    "            \n",
    "    y = np.stack(y)\n",
    "    return y, newLabel "
   ]
  },
  {
   "cell_type": "code",
   "execution_count": 5,
   "metadata": {},
   "outputs": [],
   "source": [
    "windowLength = 10"
   ]
  },
  {
   "cell_type": "code",
   "execution_count": 6,
   "metadata": {},
   "outputs": [],
   "source": [
    "X_train, X_test, y_train, y_test = train_test_split(X, target, test_size=0.3, random_state=42)\n"
   ]
  },
  {
   "cell_type": "code",
   "execution_count": 7,
   "metadata": {},
   "outputs": [],
   "source": [
    "xMatrixTrainExtended,y_trainExtended = increase_samples(X_train, windowLength, 1, y_train)\n",
    "# print(xMatrixTrainExtended.shape)\n",
    "# print(xMatrix.shape)\n",
    "# print(len(y_trainExtended))"
   ]
  },
  {
   "cell_type": "code",
   "execution_count": 8,
   "metadata": {},
   "outputs": [],
   "source": [
    "model = Pipeline([('pca', PCA()), ('rf', RandomForestClassifier(random_state=42, class_weight='balanced'))])\n",
    "# model = Pipeline([('reduce_dim', PCA()), ('rf', RandomForestClassifier(random_state=42, class_weight='balanced'))])\n"
   ]
  },
  {
   "cell_type": "code",
   "execution_count": 9,
   "metadata": {},
   "outputs": [],
   "source": [
    "xMatrixTest = np.stack([x[:windowLength,:].reshape(-1) for x in X_test])\n"
   ]
  },
  {
   "cell_type": "code",
   "execution_count": 10,
   "metadata": {},
   "outputs": [],
   "source": [
    "fold = StratifiedKFold(10)\n"
   ]
  },
  {
   "cell_type": "code",
   "execution_count": 11,
   "metadata": {},
   "outputs": [
    {
     "name": "stdout",
     "output_type": "stream",
     "text": [
      "(10288, 5570)\n"
     ]
    },
    {
     "data": {
      "text/plain": [
       "RandomizedSearchCV(cv=StratifiedKFold(n_splits=10, random_state=None, shuffle=False),\n",
       "          error_score='raise',\n",
       "          estimator=Pipeline(memory=None,\n",
       "     steps=[('pca', PCA(copy=True, iterated_power='auto', n_components=None, random_state=None,\n",
       "  svd_solver='auto', tol=0.0, whiten=False)), ('rf', RandomForestClassifier(bootstrap=True, class_weight='balanced',\n",
       "            criterion='gini', max_depth=None, max_features='auto',\n",
       "            max_leaf_node...stimators=10, n_jobs=1, oob_score=False, random_state=42,\n",
       "            verbose=0, warm_start=False))]),\n",
       "          fit_params=None, iid=True, n_iter=10, n_jobs=1,\n",
       "          param_distributions={'pca__n_components': <scipy.stats._distn_infrastructure.rv_frozen object at 0x7f0a444de190>, 'rf__criterion': ['gini'], 'rf__n_jobs': [-1], 'rf__n_estimators': <scipy.stats._distn_infrastructure.rv_frozen object at 0x7f0a150c6110>, 'rf__min_samples_leaf': <scipy.stats._distn_infrastructure.rv_frozen object at 0x7f0a150c6210>},\n",
       "          pre_dispatch='2*n_jobs', random_state=None, refit=True,\n",
       "          return_train_score='warn', scoring=make_scorer(accuracy_score),\n",
       "          verbose=0)"
      ]
     },
     "execution_count": 11,
     "metadata": {},
     "output_type": "execute_result"
    }
   ],
   "source": [
    "# parameters = {'pca__n_components': [252], 'rf__n_estimators': [82], 'rf__n_jobs': [-1],\n",
    "#               'rf__min_samples_leaf': [35], 'rf__criterion': ['gini']}\n",
    "metric = metrics.make_scorer(metrics.accuracy_score)\n",
    "# metric = metrics.make_scorer(metrics.precision_score, average='weighted')\n",
    "\n",
    "\n",
    "\n",
    "parameters = {'pca__n_components': sp_randint(10, 500), 'rf__n_estimators': sp_randint(10, 100), 'rf__n_jobs': [-1],\n",
    "              'rf__min_samples_leaf': sp_randint(1, 100), 'rf__criterion': ['gini']}\n",
    "\n",
    "\n",
    "# parameters = {'pca__n_components': sp_randint(10, 200)}\n",
    "\n",
    "gridsearchcv = RandomizedSearchCV(model, parameters, scoring=metric, cv=fold, n_iter=10)\n",
    "\n",
    "print(xMatrixTrainExtended.shape)\n",
    "\n",
    "# gridsearchcv = GridSearchCV(model, parameters, n_jobs=3, cv=fold, scoring=metric)\n",
    "gridsearchcv.fit(xMatrixTrainExtended, y_trainExtended)"
   ]
  },
  {
   "cell_type": "code",
   "execution_count": 12,
   "metadata": {},
   "outputs": [
    {
     "name": "stderr",
     "output_type": "stream",
     "text": [
      "/home/felipe/miniconda2/envs/siemens2.7/lib/python2.7/site-packages/sklearn/utils/deprecation.py:122: FutureWarning: You are accessing a training score ('mean_train_score'), which will not be available by default any more in 0.21. If you need training scores, please set return_train_score=True\n",
      "  warnings.warn(*warn_args, **warn_kwargs)\n",
      "/home/felipe/miniconda2/envs/siemens2.7/lib/python2.7/site-packages/sklearn/utils/deprecation.py:122: FutureWarning: You are accessing a training score ('split0_train_score'), which will not be available by default any more in 0.21. If you need training scores, please set return_train_score=True\n",
      "  warnings.warn(*warn_args, **warn_kwargs)\n",
      "/home/felipe/miniconda2/envs/siemens2.7/lib/python2.7/site-packages/sklearn/utils/deprecation.py:122: FutureWarning: You are accessing a training score ('split1_train_score'), which will not be available by default any more in 0.21. If you need training scores, please set return_train_score=True\n",
      "  warnings.warn(*warn_args, **warn_kwargs)\n",
      "/home/felipe/miniconda2/envs/siemens2.7/lib/python2.7/site-packages/sklearn/utils/deprecation.py:122: FutureWarning: You are accessing a training score ('split2_train_score'), which will not be available by default any more in 0.21. If you need training scores, please set return_train_score=True\n",
      "  warnings.warn(*warn_args, **warn_kwargs)\n",
      "/home/felipe/miniconda2/envs/siemens2.7/lib/python2.7/site-packages/sklearn/utils/deprecation.py:122: FutureWarning: You are accessing a training score ('split3_train_score'), which will not be available by default any more in 0.21. If you need training scores, please set return_train_score=True\n",
      "  warnings.warn(*warn_args, **warn_kwargs)\n",
      "/home/felipe/miniconda2/envs/siemens2.7/lib/python2.7/site-packages/sklearn/utils/deprecation.py:122: FutureWarning: You are accessing a training score ('split4_train_score'), which will not be available by default any more in 0.21. If you need training scores, please set return_train_score=True\n",
      "  warnings.warn(*warn_args, **warn_kwargs)\n",
      "/home/felipe/miniconda2/envs/siemens2.7/lib/python2.7/site-packages/sklearn/utils/deprecation.py:122: FutureWarning: You are accessing a training score ('split5_train_score'), which will not be available by default any more in 0.21. If you need training scores, please set return_train_score=True\n",
      "  warnings.warn(*warn_args, **warn_kwargs)\n",
      "/home/felipe/miniconda2/envs/siemens2.7/lib/python2.7/site-packages/sklearn/utils/deprecation.py:122: FutureWarning: You are accessing a training score ('split6_train_score'), which will not be available by default any more in 0.21. If you need training scores, please set return_train_score=True\n",
      "  warnings.warn(*warn_args, **warn_kwargs)\n",
      "/home/felipe/miniconda2/envs/siemens2.7/lib/python2.7/site-packages/sklearn/utils/deprecation.py:122: FutureWarning: You are accessing a training score ('split7_train_score'), which will not be available by default any more in 0.21. If you need training scores, please set return_train_score=True\n",
      "  warnings.warn(*warn_args, **warn_kwargs)\n",
      "/home/felipe/miniconda2/envs/siemens2.7/lib/python2.7/site-packages/sklearn/utils/deprecation.py:122: FutureWarning: You are accessing a training score ('split8_train_score'), which will not be available by default any more in 0.21. If you need training scores, please set return_train_score=True\n",
      "  warnings.warn(*warn_args, **warn_kwargs)\n",
      "/home/felipe/miniconda2/envs/siemens2.7/lib/python2.7/site-packages/sklearn/utils/deprecation.py:122: FutureWarning: You are accessing a training score ('split9_train_score'), which will not be available by default any more in 0.21. If you need training scores, please set return_train_score=True\n",
      "  warnings.warn(*warn_args, **warn_kwargs)\n",
      "/home/felipe/miniconda2/envs/siemens2.7/lib/python2.7/site-packages/sklearn/utils/deprecation.py:122: FutureWarning: You are accessing a training score ('std_train_score'), which will not be available by default any more in 0.21. If you need training scores, please set return_train_score=True\n",
      "  warnings.warn(*warn_args, **warn_kwargs)\n"
     ]
    },
    {
     "data": {
      "text/plain": [
       "{'mean_fit_time': array([  5.54151766,   6.8307616 ,   7.90745509,   4.00138953,\n",
       "          8.23296034,   2.39512048,   4.62196059,  10.83839886,\n",
       "          7.02054441,   7.37815216]),\n",
       " 'mean_score_time': array([ 0.18193915,  0.1857017 ,  0.18587799,  0.17372792,  0.18671107,\n",
       "         0.15795696,  0.1772341 ,  0.20118518,  0.17946277,  0.18507075]),\n",
       " 'mean_test_score': array([ 0.97890747,  0.97715785,  0.98055988,  0.97346423,  0.97949067,\n",
       "         0.98046267,  0.97385303,  0.97939347,  0.98026827,  0.97657465]),\n",
       " 'mean_train_score': array([ 0.99936278,  0.9999136 ,  1.        ,  0.99960039,  0.99914675,\n",
       "         0.9999892 ,  1.        ,  0.99989199,  0.99948156,  0.99909279]),\n",
       " 'param_pca__n_components': masked_array(data = [203 286 276 140 346 45 170 372 228 303],\n",
       "              mask = [False False False False False False False False False False],\n",
       "        fill_value = ?),\n",
       " 'param_rf__criterion': masked_array(data = ['gini' 'gini' 'gini' 'gini' 'gini' 'gini' 'gini' 'gini' 'gini' 'gini'],\n",
       "              mask = [False False False False False False False False False False],\n",
       "        fill_value = ?),\n",
       " 'param_rf__min_samples_leaf': masked_array(data = [67 24 4 49 68 7 4 23 63 56],\n",
       "              mask = [False False False False False False False False False False],\n",
       "        fill_value = ?),\n",
       " 'param_rf__n_estimators': masked_array(data = [98 37 81 49 45 35 37 76 94 27],\n",
       "              mask = [False False False False False False False False False False],\n",
       "        fill_value = ?),\n",
       " 'param_rf__n_jobs': masked_array(data = [-1 -1 -1 -1 -1 -1 -1 -1 -1 -1],\n",
       "              mask = [False False False False False False False False False False],\n",
       "        fill_value = ?),\n",
       " 'params': [{'pca__n_components': 203,\n",
       "   'rf__criterion': 'gini',\n",
       "   'rf__min_samples_leaf': 67,\n",
       "   'rf__n_estimators': 98,\n",
       "   'rf__n_jobs': -1},\n",
       "  {'pca__n_components': 286,\n",
       "   'rf__criterion': 'gini',\n",
       "   'rf__min_samples_leaf': 24,\n",
       "   'rf__n_estimators': 37,\n",
       "   'rf__n_jobs': -1},\n",
       "  {'pca__n_components': 276,\n",
       "   'rf__criterion': 'gini',\n",
       "   'rf__min_samples_leaf': 4,\n",
       "   'rf__n_estimators': 81,\n",
       "   'rf__n_jobs': -1},\n",
       "  {'pca__n_components': 140,\n",
       "   'rf__criterion': 'gini',\n",
       "   'rf__min_samples_leaf': 49,\n",
       "   'rf__n_estimators': 49,\n",
       "   'rf__n_jobs': -1},\n",
       "  {'pca__n_components': 346,\n",
       "   'rf__criterion': 'gini',\n",
       "   'rf__min_samples_leaf': 68,\n",
       "   'rf__n_estimators': 45,\n",
       "   'rf__n_jobs': -1},\n",
       "  {'pca__n_components': 45,\n",
       "   'rf__criterion': 'gini',\n",
       "   'rf__min_samples_leaf': 7,\n",
       "   'rf__n_estimators': 35,\n",
       "   'rf__n_jobs': -1},\n",
       "  {'pca__n_components': 170,\n",
       "   'rf__criterion': 'gini',\n",
       "   'rf__min_samples_leaf': 4,\n",
       "   'rf__n_estimators': 37,\n",
       "   'rf__n_jobs': -1},\n",
       "  {'pca__n_components': 372,\n",
       "   'rf__criterion': 'gini',\n",
       "   'rf__min_samples_leaf': 23,\n",
       "   'rf__n_estimators': 76,\n",
       "   'rf__n_jobs': -1},\n",
       "  {'pca__n_components': 228,\n",
       "   'rf__criterion': 'gini',\n",
       "   'rf__min_samples_leaf': 63,\n",
       "   'rf__n_estimators': 94,\n",
       "   'rf__n_jobs': -1},\n",
       "  {'pca__n_components': 303,\n",
       "   'rf__criterion': 'gini',\n",
       "   'rf__min_samples_leaf': 56,\n",
       "   'rf__n_estimators': 27,\n",
       "   'rf__n_jobs': -1}],\n",
       " 'rank_test_score': array([ 6,  7,  1, 10,  4,  2,  9,  5,  3,  8], dtype=int32),\n",
       " 'split0_test_score': array([ 0.98640777,  0.98349515,  0.9815534 ,  0.97864078,  0.98058252,\n",
       "         0.98252427,  0.98737864,  0.98543689,  0.98058252,  0.96893204]),\n",
       " 'split0_train_score': array([ 0.99967596,  0.99989199,  1.        ,  0.99989199,  0.99967596,\n",
       "         1.        ,  1.        ,  1.        ,  0.99956794,  0.99913588]),\n",
       " 'split1_test_score': array([ 0.99805825,  0.99708738,  0.98058252,  0.99320388,  0.99902913,\n",
       "         0.99029126,  0.97281553,  1.        ,  0.99708738,  0.99708738]),\n",
       " 'split1_train_score': array([ 0.99837978,  0.99989199,  1.        ,  0.99870382,  0.99697559,\n",
       "         0.99989199,  1.        ,  0.99945993,  0.99773169,  0.99891985]),\n",
       " 'split2_test_score': array([ 0.99223301,  0.97669903,  0.97184466,  0.98834951,  0.98932039,\n",
       "         0.99320388,  0.98543689,  0.98446602,  0.99514563,  0.96601942]),\n",
       " 'split2_train_score': array([ 0.99956794,  1.        ,  1.        ,  0.99967596,  0.99902787,\n",
       "         1.        ,  1.        ,  1.        ,  0.99978397,  0.99913588]),\n",
       " 'split3_test_score': array([ 0.88532556,  0.88921283,  0.96015549,  0.85811467,  0.9047619 ,\n",
       "         0.90087464,  0.89212828,  0.89795918,  0.90767736,  0.92225462]),\n",
       " 'split3_train_score': array([ 0.99891997,  1.        ,  1.        ,  0.99935198,  0.99913598,\n",
       "         1.        ,  1.        ,  1.        ,  0.99913598,  0.99816395]),\n",
       " 'split4_test_score': array([ 0.99708455,  0.99222546,  0.9776482 ,  0.99805637,  0.98445092,\n",
       "         0.99805637,  1.        ,  0.99125364,  0.9941691 ,  0.99222546]),\n",
       " 'split4_train_score': array([ 0.99945998,  0.99978399,  1.        ,  0.99978399,  0.99891997,\n",
       "         1.        ,  1.        ,  0.99978399,  0.99945998,  0.99956799]),\n",
       " 'split5_test_score': array([ 0.99513619,  0.99513619,  1.        ,  0.99610895,  0.99610895,\n",
       "         0.99708171,  0.98638132,  0.99902724,  0.99902724,  0.98832685]),\n",
       " 'split5_train_score': array([ 0.99967603,  0.99989201,  1.        ,  0.99967603,  0.99935205,\n",
       "         1.        ,  1.        ,  0.99978402,  1.        ,  0.99978402]),\n",
       " 'split6_test_score': array([ 0.99124514,  0.99416342,  0.98832685,  0.97957198,  0.99610895,\n",
       "         0.99319066,  0.97762646,  0.99513619,  0.9844358 ,  0.99027237]),\n",
       " 'split6_train_score': array([ 0.99935205,  0.99989201,  1.        ,  0.99956803,  0.99935205,\n",
       "         1.        ,  1.        ,  1.        ,  0.99989201,  0.9987041 ]),\n",
       " 'split7_test_score': array([ 0.95330739,  0.95428016,  0.95428016,  0.95525292,  0.95330739,\n",
       "         0.95622568,  0.94747082,  0.95136187,  0.95428016,  0.95233463]),\n",
       " 'split7_train_score': array([ 0.99989201,  1.        ,  1.        ,  1.        ,  1.        ,\n",
       "         1.        ,  1.        ,  1.        ,  0.99989201,  0.99946004]),\n",
       " 'split8_test_score': array([ 1.,  1.,  1.,  1.,  1.,  1.,  1.,  1.,  1.,  1.]),\n",
       " 'split8_train_score': array([ 0.9987041 ,  0.99978402,  1.        ,  0.99935205,  0.99956803,\n",
       "         1.        ,  1.        ,  0.99989201,  0.99956803,  0.99859611]),\n",
       " 'split9_test_score': array([ 0.99027237,  0.98929961,  0.99124514,  0.98735409,  0.99124514,\n",
       "         0.99319066,  0.98929961,  0.98929961,  0.99027237,  0.98832685]),\n",
       " 'split9_train_score': array([ 1.        ,  1.        ,  1.        ,  1.        ,  0.99946004,\n",
       "         1.        ,  1.        ,  1.        ,  0.99978402,  0.99946004]),\n",
       " 'std_fit_time': array([ 0.67873946,  0.30768095,  0.65602292,  0.70083206,  0.86622876,\n",
       "         0.4369359 ,  0.42200935,  1.50320836,  0.5433715 ,  1.32412924]),\n",
       " 'std_score_time': array([ 0.01423907,  0.01147491,  0.00684662,  0.01191818,  0.00995931,\n",
       "         0.00903503,  0.01201046,  0.01594889,  0.01306411,  0.01533703]),\n",
       " 'std_test_score': array([ 0.03366713,  0.03194457,  0.01456582,  0.0404094 ,  0.02808115,\n",
       "         0.02911477,  0.03077449,  0.03033367,  0.0273889 ,  0.02320874]),\n",
       " 'std_train_score': array([  5.03012382e-04,   8.08183227e-05,   0.00000000e+00,\n",
       "          3.71187548e-04,   7.84069212e-04,   3.24044070e-05,\n",
       "          0.00000000e+00,   1.67331121e-04,   6.31309909e-04,\n",
       "          4.76181821e-04])}"
      ]
     },
     "execution_count": 12,
     "metadata": {},
     "output_type": "execute_result"
    }
   ],
   "source": [
    "gridsearchcv.cv_results_"
   ]
  },
  {
   "cell_type": "code",
   "execution_count": 18,
   "metadata": {},
   "outputs": [
    {
     "name": "stdout",
     "output_type": "stream",
     "text": [
      "{'pca__n_components': 276, 'rf__n_jobs': -1, 'rf__criterion': 'gini', 'rf__n_estimators': 81, 'rf__min_samples_leaf': 4}\n",
      "(array([ 0.97890747,  0.97715785,  0.98055988,  0.97346423,  0.97949067,\n",
      "        0.98046267,  0.97385303,  0.97939347,  0.98026827,  0.97657465]), array([ 0.03366713,  0.03194457,  0.01456582,  0.0404094 ,  0.02808115,\n",
      "        0.02911477,  0.03077449,  0.03033367,  0.0273889 ,  0.02320874]))\n",
      "Confusion matrix, without normalization\n",
      "[[ 661   15]\n",
      " [   0 4132]]\n"
     ]
    },
    {
     "data": {
      "image/png": "[encoded data removed]",
      "text/plain": [
       "<matplotlib.figure.Figure at 0x7f0a14701f90>"
      ]
     },
     "metadata": {},
     "output_type": "display_data"
    }
   ],
   "source": [
    "best_n_components = gridsearchcv.best_params_['pca__n_components']\n",
    "\n",
    "xMatrixTestExtended,y_testExtended = increase_samples(X_test, windowLength, 1, y_test)\n",
    "xMatrixUnknownExtended,_ = increase_samples(X_unknown, windowLength, 1)\n",
    "\n",
    "print(gridsearchcv.best_params_)\n",
    "means = gridsearchcv.cv_results_['mean_test_score']\n",
    "stds = gridsearchcv.cv_results_['std_test_score']\n",
    "\n",
    "print(means,stds)\n",
    "# print(zip(gridsearchcv.best_estimator_.predict_proba(xMatrixTestExtended), np.array(y_testExtended)))\n",
    "acc = metrics.accuracy_score(y_testExtended, gridsearchcv.best_estimator_.predict(xMatrixTestExtended))\n",
    "F1 = metrics.f1_score(y_testExtended, gridsearchcv.best_estimator_.predict(xMatrixTestExtended), average='weighted')\n",
    "prec = metrics.precision_score(y_testExtended, gridsearchcv.best_estimator_.predict(xMatrixTestExtended), average='weighted')\n",
    "\n",
    "confusionMatrix = metrics.confusion_matrix(y_testExtended, gridsearchcv.best_estimator_.predict(xMatrixTestExtended))\n",
    "\n",
    "plt.figure()\n",
    "plot_confusion_matrix(confusionMatrix,normalize=False, classes=['D', 'EFH'])\n",
    "# print(np.max(resultsTest,axis=1))\n"
   ]
  },
  {
   "cell_type": "code",
   "execution_count": 19,
   "metadata": {},
   "outputs": [
    {
     "data": {
      "image/png": "[encoded data removed]",
      "text/plain": [
       "<matplotlib.figure.Figure at 0x7f09f90b05d0>"
      ]
     },
     "metadata": {},
     "output_type": "display_data"
    },
    {
     "data": {
      "image/png": "[encoded data removed]",
      "text/plain": [
       "<matplotlib.figure.Figure at 0x7f09f8cdccd0>"
      ]
     },
     "metadata": {},
     "output_type": "display_data"
    },
    {
     "name": "stdout",
     "output_type": "stream",
     "text": [
      "[[ 0.02469136  0.97530864]\n",
      " [ 0.04883629  0.95116371]\n",
      " [ 0.06078891  0.93921109]\n",
      " [ 0.08096898  0.91903102]\n",
      " [ 0.05773036  0.94226964]\n",
      " [ 0.0313643   0.9686357 ]\n",
      " [ 0.04412521  0.95587479]\n",
      " [ 0.053353    0.946647  ]\n",
      " [ 0.05880274  0.94119726]\n",
      " [ 0.02617372  0.97382628]\n",
      " [ 0.02417507  0.97582493]\n",
      " [ 0.05969248  0.94030752]\n",
      " [ 0.11790645  0.88209355]\n",
      " [ 0.07652125  0.92347875]\n",
      " [ 0.05954051  0.94045949]\n",
      " [ 0.0395652   0.9604348 ]\n",
      " [ 0.05610567  0.94389433]\n",
      " [ 0.04718783  0.95281217]\n",
      " [ 0.05479929  0.94520071]\n",
      " [ 0.02326204  0.97673796]]\n"
     ]
    }
   ],
   "source": [
    "resultsTestProb = gridsearchcv.best_estimator_.predict_proba(xMatrixTestExtended)\n",
    "resultsTest = gridsearchcv.best_estimator_.predict(xMatrixTestExtended)\n",
    "resultsTrainProb = gridsearchcv.best_estimator_.predict_proba(xMatrixTrainExtended)\n",
    "\n",
    "\n",
    "# print(resultsTestProb)\n",
    "# print()\n",
    "resultsUnknown = gridsearchcv.best_estimator_.predict_proba(xMatrixUnknownExtended)\n",
    "\n",
    "# print(resultsUnknown)\n",
    "\n",
    "x = np.abs(resultsTest - y_testExtended)\n",
    "# print(np.where(x !=0))\n",
    "\n",
    "aux2 = np.array(resultsTestProb)\n",
    "aux3 = np.array(y_testExtended)\n",
    "\n",
    "indexA = (aux3 == 0) \n",
    "indexB = (aux3 == 1) & (x == 0)\n",
    "indexC = (aux3 == 2) & (x == 0)\n",
    "indexH = (aux3 == 3) & (x == 0)\n",
    "\n",
    "# print(indexA)\n",
    "\n",
    "\n",
    "acertos_A = resultsTestProb[indexA,0]\n",
    "acertos_B = resultsTestProb[indexB,1]\n",
    "\n",
    "index = np.where(x == 0)\n",
    "\n",
    "\n",
    "aux = aux2[np.where(x==0),aux3[np.where(x==0)]]\n",
    "plt.figure()\n",
    "plt.hist(resultsTestProb[indexA,0], bins=50, facecolor='blue', alpha=0.75)\n",
    "plt.show()\n",
    "\n",
    "plt.figure()\n",
    "plt.hist(resultsUnknown[:,1], 50, facecolor='blue', alpha=0.75)\n",
    "plt.show()\n",
    "\n",
    "print(resultsUnknown[:20,:])"
   ]
  },
  {
   "cell_type": "code",
   "execution_count": 20,
   "metadata": {},
   "outputs": [],
   "source": [
    "dictionary = {'acc': acc, 'f1': F1, 'prec': prec, 'mean_test_score': means, 'std_test_score': stds, \n",
    "              'confMatrix': confusionMatrix, 'bestParams': gridsearchcv.best_params_, 'testData': xMatrixTestExtended,\n",
    "             'testLabels': y_testExtended}\n",
    "\n",
    "sio.savemat('results_class1.mat', dictionary)\n",
    "\n",
    "pickle.dump( gridsearchcv, open( \"model_class1.p\", \"wb\" ) )"
   ]
  }
 ],
 "metadata": {
  "kernelspec": {
   "display_name": "Python 2",
   "language": "python",
   "name": "python2"
  },
  "language_info": {
   "codemirror_mode": {
    "name": "ipython",
    "version": 2
   },
   "file_extension": ".py",
   "mimetype": "text/x-python",
   "name": "python",
   "nbconvert_exporter": "python",
   "pygments_lexer": "ipython2",
   "version": "2.7.14"
  }
 },
 "nbformat": 4,
 "nbformat_minor": 2
}
