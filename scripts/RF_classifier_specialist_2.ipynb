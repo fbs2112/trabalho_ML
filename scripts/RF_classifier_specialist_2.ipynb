{
 "cells": [
  {
   "cell_type": "code",
   "execution_count": 1,
   "metadata": {},
   "outputs": [],
   "source": [
    "from six.moves import cPickle as pickle\n",
    "\n",
    "import sys\n",
    "# reload(sys)\n",
    "# sys.setdefaultencoding('utf-8')\n",
    "\n",
    "import os as os\n",
    "import fnmatch\n",
    "import argparse\n",
    "import pathlib\n",
    "import time\n",
    "import itertools\n",
    "\n",
    "import numpy as np\n",
    "if \"DISPLAY\" not in os.environ:\n",
    "    mpl.use('Agg')\n",
    "import matplotlib.pyplot as plt\n",
    "import seaborn as sns\n",
    "import pandas as pd\n",
    "\n",
    "import scipy.io as sio\n",
    "import glob \n",
    "\n",
    "from scipy.stats import randint as sp_randint\n",
    "from sklearn.preprocessing import LabelEncoder\n",
    "from sklearn.decomposition import PCA, KernelPCA\n",
    "from sklearn.model_selection import GridSearchCV\n",
    "from sklearn.model_selection import RandomizedSearchCV\n",
    "from sklearn.model_selection import KFold  # k-fold cross validation StratifiedKFold\n",
    "from sklearn.model_selection import StratifiedKFold\n",
    "from sklearn.preprocessing import StandardScaler  # data normalization\n",
    "from sklearn import svm\n",
    "from sklearn.ensemble import RandomForestClassifier  # random forest model\n",
    "from sklearn.pipeline import Pipeline # model pipeline\n",
    "from sklearn.model_selection import train_test_split\n",
    "from sklearn import metrics\n",
    "from sklearn.metrics import make_scorer\n",
    "\n",
    "\n",
    "%reload_ext autoreload\n",
    "\n",
    "%matplotlib inline\n",
    "plt.rcParams['figure.figsize'] = (10.0, 8.0) # set default size of plots\n",
    "plt.rcParams['image.interpolation'] = 'nearest'\n",
    "plt.rcParams['image.cmap'] = 'gray'\n",
    "plt.rc('text', usetex=True)\n",
    "plt.rc('font', family='times')\n",
    "\n",
    "plt.rcParams.update({'font.size': 22})\n",
    "# for auto-reloading external modules\n",
    "# see http://stackoverflow.com/questions/1907993/autoreload-of-modules-in-ipython\n",
    "%reload_ext autoreload\n",
    "%autoreload 2\n",
    "\n"
   ]
  },
  {
   "cell_type": "code",
   "execution_count": 2,
   "metadata": {},
   "outputs": [],
   "source": [
    "def plot_confusion_matrix(cm, classes,\n",
    "                          normalize=False,\n",
    "                          title='Confusion matrix',\n",
    "                          cmap=plt.cm.Blues):\n",
    "    \"\"\"\n",
    "    This function prints and plots the confusion matrix.\n",
    "    Normalization can be applied by setting `normalize=True`.\n",
    "    \"\"\"\n",
    "    if normalize:\n",
    "        cm = cm.astype('float') / cm.sum(axis=1)[:, np.newaxis]\n",
    "        print(\"Normalized confusion matrix\")\n",
    "    else:\n",
    "        print('Confusion matrix, without normalization')\n",
    "\n",
    "    print(cm)\n",
    "\n",
    "    plt.imshow(cm, interpolation='nearest', cmap=cmap)\n",
    "    plt.title(title)\n",
    "    plt.colorbar()\n",
    "    tick_marks = np.arange(len(classes))\n",
    "    plt.xticks(tick_marks, classes, rotation=45)\n",
    "    plt.yticks(tick_marks, classes)\n",
    "\n",
    "    fmt = '.2f' if normalize else 'd'\n",
    "    thresh = cm.max() / 2.\n",
    "    for i, j in itertools.product(range(cm.shape[0]), range(cm.shape[1])):\n",
    "        plt.text(j, i, format(cm[i, j], fmt),\n",
    "                 horizontalalignment=\"center\",\n",
    "                 color=\"white\" if cm[i, j] > thresh else \"black\")\n",
    "\n",
    "    plt.tight_layout()\n",
    "    plt.ylabel('True label')\n",
    "    plt.xlabel('Predicted label')"
   ]
  },
  {
   "cell_type": "code",
   "execution_count": 3,
   "metadata": {},
   "outputs": [
    {
     "name": "stdout",
     "output_type": "stream",
     "text": [
      "['B', 'B', 'B', 'B', 'B', 'B', 'B', 'B', 'B', 'B', 'B', 'B', 'B', 'B', 'B', 'B', 'B', 'B', 'B', 'B', 'B', 'B', 'B', 'B', 'B', 'B', 'B', 'B', 'B', 'B', 'B', 'B', 'A', 'A', 'A', 'A', 'B', 'B', 'A', 'A', 'A', 'A', 'A', 'A', 'A', 'A', 'A', 'A', 'A', 'A', 'A', 'A', 'A', 'A', 'A', 'B', 'B', 'B', 'B', 'B', 'B', 'B', 'B', 'B', 'B', 'B', 'B', 'B', 'B', 'B', 'B', 'A', 'A', 'A', 'A', 'A', 'A', 'B', 'B', 'B', 'B', 'B', 'B', 'B', 'B', 'B', 'B', 'A', 'A', 'A', 'A', 'A', 'A', 'A', 'A', 'A', 'A', 'A', 'A', 'A', 'A', 'A', 'A', 'A', 'A', 'A', 'A', 'A', 'A', 'A', 'A', 'A', 'A', 'A', 'A', 'A', 'A', 'A', 'A', 'B', 'B', 'B', 'B', 'B', 'B', 'B', 'B', 'B', 'A', 'A', 'A', 'A', 'A', 'A', 'A', 'B', 'B', 'B', 'B', 'B', 'B', 'B', 'B', 'B', 'B', 'B', 'B', 'B', 'B', 'B', 'B', 'B', 'B']\n",
      "[1 1 1 1 1 1 1 1 1 1 1 1 1 1 1 1 1 1 1 1 1 1 1 1 1 1 1 1 1 1 1 1 0 0 0 0 1\n",
      " 1 0 0 0 0 0 0 0 0 0 0 0 0 0 0 0 0 0 1 1 1 1 1 1 1 1 1 1 1 1 1 1 1 1 0 0 0\n",
      " 0 0 0 1 1 1 1 1 1 1 1 1 1 0 0 0 0 0 0 0 0 0 0 0 0 0 0 0 0 0 0 0 0 0 0 0 0\n",
      " 0 0 0 0 0 0 0 0 1 1 1 1 1 1 1 1 1 0 0 0 0 0 0 0 1 1 1 1 1 1 1 1 1 1 1 1 1\n",
      " 1 1 1 1 1]\n"
     ]
    }
   ],
   "source": [
    "knownNames = glob.glob(\"../dataset/Dados_SONAR/[DEFH]*.mat\")\n",
    "\n",
    "unknownNames = glob.glob(\"../dataset/Dados_SONAR/[ABCG]*.mat\")\n",
    "\n",
    "X = [sio.loadmat(x)['ent_norm'] for x in knownNames]\n",
    "\n",
    "X_unknown = [sio.loadmat(x)['ent_norm'] for x in unknownNames]\n",
    "\n",
    "\n",
    "\n",
    "Y = [(x.split('/')[-1][0]) for x in knownNames]\n",
    "Y = ['A' if y=='E' else y for y in Y]\n",
    "Y = ['B' if y!='A' else y for y in Y]\n",
    "\n",
    "print(Y)\n",
    "\n",
    "le = LabelEncoder()\n",
    "target = le.fit_transform(Y)\n",
    "\n",
    "print(target)\n"
   ]
  },
  {
   "cell_type": "code",
   "execution_count": 4,
   "metadata": {},
   "outputs": [],
   "source": [
    "def increase_samples(data, wLength, ovSamples, label=None):\n",
    "    \n",
    "    y = []\n",
    "    newLabel = []\n",
    "    for counter, x in enumerate(data):\n",
    "        size = np.shape(x)[0]\n",
    "        beginWindowIndex = 0\n",
    "        endWindowIndex = wLength\n",
    "        if label is None:\n",
    "            label2 = []\n",
    "        else:    \n",
    "            label2 = label[counter]\n",
    "        \n",
    "        while True:\n",
    "            vector = np.reshape(x[beginWindowIndex:endWindowIndex,:], -1)\n",
    "            y.append(vector)\n",
    "            beginWindowIndex = beginWindowIndex + ovSamples\n",
    "            endWindowIndex = endWindowIndex + ovSamples\n",
    "            newLabel.append(label2)\n",
    "            if endWindowIndex > size:\n",
    "                break\n",
    "            \n",
    "    y = np.stack(y)\n",
    "    return y, newLabel "
   ]
  },
  {
   "cell_type": "code",
   "execution_count": 5,
   "metadata": {},
   "outputs": [],
   "source": [
    "windowLength = 10"
   ]
  },
  {
   "cell_type": "code",
   "execution_count": 6,
   "metadata": {},
   "outputs": [],
   "source": [
    "X_train, X_test, y_train, y_test = train_test_split(X, target, test_size=0.3, random_state=42)\n"
   ]
  },
  {
   "cell_type": "code",
   "execution_count": 7,
   "metadata": {},
   "outputs": [],
   "source": [
    "xMatrixTrainExtended,y_trainExtended = increase_samples(X_train, windowLength, 1, y_train)\n",
    "# print(xMatrixTrainExtended.shape)\n",
    "# print(xMatrix.shape)\n",
    "# print(len(y_trainExtended))"
   ]
  },
  {
   "cell_type": "code",
   "execution_count": 8,
   "metadata": {},
   "outputs": [],
   "source": [
    "model = Pipeline([('pca', PCA()), ('rf', RandomForestClassifier(random_state=42, class_weight='balanced'))])\n",
    "# model = Pipeline([('reduce_dim', PCA()), ('rf', RandomForestClassifier(random_state=42, class_weight='balanced'))])\n"
   ]
  },
  {
   "cell_type": "code",
   "execution_count": 9,
   "metadata": {},
   "outputs": [],
   "source": [
    "xMatrixTest = np.stack([x[:windowLength,:].reshape(-1) for x in X_test])\n"
   ]
  },
  {
   "cell_type": "code",
   "execution_count": 10,
   "metadata": {},
   "outputs": [],
   "source": [
    "fold = StratifiedKFold(10)\n"
   ]
  },
  {
   "cell_type": "code",
   "execution_count": 11,
   "metadata": {},
   "outputs": [
    {
     "name": "stdout",
     "output_type": "stream",
     "text": [
      "(10288, 5570)\n"
     ]
    },
    {
     "data": {
      "text/plain": [
       "RandomizedSearchCV(cv=StratifiedKFold(n_splits=10, random_state=None, shuffle=False),\n",
       "          error_score='raise',\n",
       "          estimator=Pipeline(memory=None,\n",
       "     steps=[('pca', PCA(copy=True, iterated_power='auto', n_components=None, random_state=None,\n",
       "  svd_solver='auto', tol=0.0, whiten=False)), ('rf', RandomForestClassifier(bootstrap=True, class_weight='balanced',\n",
       "            criterion='gini', max_depth=None, max_features='auto',\n",
       "            max_leaf_node...stimators=10, n_jobs=1, oob_score=False, random_state=42,\n",
       "            verbose=0, warm_start=False))]),\n",
       "          fit_params=None, iid=True, n_iter=10, n_jobs=1,\n",
       "          param_distributions={'pca__n_components': <scipy.stats._distn_infrastructure.rv_frozen object at 0x7eff28383190>, 'rf__criterion': ['gini'], 'rf__n_jobs': [-1], 'rf__n_estimators': <scipy.stats._distn_infrastructure.rv_frozen object at 0x7efef7716110>, 'rf__min_samples_leaf': <scipy.stats._distn_infrastructure.rv_frozen object at 0x7efef7716210>},\n",
       "          pre_dispatch='2*n_jobs', random_state=None, refit=True,\n",
       "          return_train_score='warn', scoring=make_scorer(accuracy_score),\n",
       "          verbose=0)"
      ]
     },
     "execution_count": 11,
     "metadata": {},
     "output_type": "execute_result"
    }
   ],
   "source": [
    "# parameters = {'pca__n_components': [252], 'rf__n_estimators': [82], 'rf__n_jobs': [-1],\n",
    "#               'rf__min_samples_leaf': [35], 'rf__criterion': ['gini']}\n",
    "metric = metrics.make_scorer(metrics.accuracy_score)\n",
    "# metric = metrics.make_scorer(metrics.precision_score, average='weighted')\n",
    "\n",
    "\n",
    "\n",
    "parameters = {'pca__n_components': sp_randint(10, 500), 'rf__n_estimators': sp_randint(10, 100), 'rf__n_jobs': [-1],\n",
    "              'rf__min_samples_leaf': sp_randint(1, 100), 'rf__criterion': ['gini']}\n",
    "\n",
    "\n",
    "# parameters = {'pca__n_components': sp_randint(10, 200)}\n",
    "\n",
    "gridsearchcv = RandomizedSearchCV(model, parameters, scoring=metric, cv=fold, n_iter=10)\n",
    "\n",
    "print(xMatrixTrainExtended.shape)\n",
    "\n",
    "# gridsearchcv = GridSearchCV(model, parameters, n_jobs=3, cv=fold, scoring=metric)\n",
    "gridsearchcv.fit(xMatrixTrainExtended, y_trainExtended)"
   ]
  },
  {
   "cell_type": "code",
   "execution_count": 12,
   "metadata": {},
   "outputs": [
    {
     "name": "stderr",
     "output_type": "stream",
     "text": [
      "/home/felipe/miniconda2/envs/siemens2.7/lib/python2.7/site-packages/sklearn/utils/deprecation.py:122: FutureWarning: You are accessing a training score ('mean_train_score'), which will not be available by default any more in 0.21. If you need training scores, please set return_train_score=True\n",
      "  warnings.warn(*warn_args, **warn_kwargs)\n",
      "/home/felipe/miniconda2/envs/siemens2.7/lib/python2.7/site-packages/sklearn/utils/deprecation.py:122: FutureWarning: You are accessing a training score ('split0_train_score'), which will not be available by default any more in 0.21. If you need training scores, please set return_train_score=True\n",
      "  warnings.warn(*warn_args, **warn_kwargs)\n",
      "/home/felipe/miniconda2/envs/siemens2.7/lib/python2.7/site-packages/sklearn/utils/deprecation.py:122: FutureWarning: You are accessing a training score ('split1_train_score'), which will not be available by default any more in 0.21. If you need training scores, please set return_train_score=True\n",
      "  warnings.warn(*warn_args, **warn_kwargs)\n",
      "/home/felipe/miniconda2/envs/siemens2.7/lib/python2.7/site-packages/sklearn/utils/deprecation.py:122: FutureWarning: You are accessing a training score ('split2_train_score'), which will not be available by default any more in 0.21. If you need training scores, please set return_train_score=True\n",
      "  warnings.warn(*warn_args, **warn_kwargs)\n",
      "/home/felipe/miniconda2/envs/siemens2.7/lib/python2.7/site-packages/sklearn/utils/deprecation.py:122: FutureWarning: You are accessing a training score ('split3_train_score'), which will not be available by default any more in 0.21. If you need training scores, please set return_train_score=True\n",
      "  warnings.warn(*warn_args, **warn_kwargs)\n",
      "/home/felipe/miniconda2/envs/siemens2.7/lib/python2.7/site-packages/sklearn/utils/deprecation.py:122: FutureWarning: You are accessing a training score ('split4_train_score'), which will not be available by default any more in 0.21. If you need training scores, please set return_train_score=True\n",
      "  warnings.warn(*warn_args, **warn_kwargs)\n",
      "/home/felipe/miniconda2/envs/siemens2.7/lib/python2.7/site-packages/sklearn/utils/deprecation.py:122: FutureWarning: You are accessing a training score ('split5_train_score'), which will not be available by default any more in 0.21. If you need training scores, please set return_train_score=True\n",
      "  warnings.warn(*warn_args, **warn_kwargs)\n",
      "/home/felipe/miniconda2/envs/siemens2.7/lib/python2.7/site-packages/sklearn/utils/deprecation.py:122: FutureWarning: You are accessing a training score ('split6_train_score'), which will not be available by default any more in 0.21. If you need training scores, please set return_train_score=True\n",
      "  warnings.warn(*warn_args, **warn_kwargs)\n",
      "/home/felipe/miniconda2/envs/siemens2.7/lib/python2.7/site-packages/sklearn/utils/deprecation.py:122: FutureWarning: You are accessing a training score ('split7_train_score'), which will not be available by default any more in 0.21. If you need training scores, please set return_train_score=True\n",
      "  warnings.warn(*warn_args, **warn_kwargs)\n",
      "/home/felipe/miniconda2/envs/siemens2.7/lib/python2.7/site-packages/sklearn/utils/deprecation.py:122: FutureWarning: You are accessing a training score ('split8_train_score'), which will not be available by default any more in 0.21. If you need training scores, please set return_train_score=True\n",
      "  warnings.warn(*warn_args, **warn_kwargs)\n",
      "/home/felipe/miniconda2/envs/siemens2.7/lib/python2.7/site-packages/sklearn/utils/deprecation.py:122: FutureWarning: You are accessing a training score ('split9_train_score'), which will not be available by default any more in 0.21. If you need training scores, please set return_train_score=True\n",
      "  warnings.warn(*warn_args, **warn_kwargs)\n",
      "/home/felipe/miniconda2/envs/siemens2.7/lib/python2.7/site-packages/sklearn/utils/deprecation.py:122: FutureWarning: You are accessing a training score ('std_train_score'), which will not be available by default any more in 0.21. If you need training scores, please set return_train_score=True\n",
      "  warnings.warn(*warn_args, **warn_kwargs)\n"
     ]
    },
    {
     "data": {
      "text/plain": [
       "{'mean_fit_time': array([ 10.92576878,   2.89053614,  10.10630016,   4.39031622,\n",
       "         13.2584424 ,  12.35063159,   6.28777771,  11.46971564,\n",
       "          3.0751214 ,   6.30144978]),\n",
       " 'mean_score_time': array([ 0.22052457,  0.16310606,  0.21687605,  0.16394329,  0.23637457,\n",
       "         0.22307408,  0.18410959,  0.22385864,  0.1603785 ,  0.19499402]),\n",
       " 'mean_test_score': array([ 0.9371112 ,  0.93468118,  0.94265163,  0.93254277,  0.93905521,\n",
       "         0.93973561,  0.9374028 ,  0.93905521,  0.94527605,  0.93069596]),\n",
       " 'mean_train_score': array([ 0.99957881,  0.99720278,  1.        ,  0.99686798,  0.99859604,\n",
       "         0.9999892 ,  0.99785079,  0.99830443,  0.9999676 ,  0.999892  ]),\n",
       " 'param_pca__n_components': masked_array(data = [396 61 347 149 460 379 226 380 65 182],\n",
       "              mask = [False False False False False False False False False False],\n",
       "        fill_value = ?),\n",
       " 'param_rf__criterion': masked_array(data = ['gini' 'gini' 'gini' 'gini' 'gini' 'gini' 'gini' 'gini' 'gini' 'gini'],\n",
       "              mask = [False False False False False False False False False False],\n",
       "        fill_value = ?),\n",
       " 'param_rf__min_samples_leaf': masked_array(data = [35 84 2 68 52 8 75 70 14 29],\n",
       "              mask = [False False False False False False False False False False],\n",
       "        fill_value = ?),\n",
       " 'param_rf__n_estimators': masked_array(data = [76 54 52 22 66 69 40 79 29 82],\n",
       "              mask = [False False False False False False False False False False],\n",
       "        fill_value = ?),\n",
       " 'param_rf__n_jobs': masked_array(data = [-1 -1 -1 -1 -1 -1 -1 -1 -1 -1],\n",
       "              mask = [False False False False False False False False False False],\n",
       "        fill_value = ?),\n",
       " 'params': [{'pca__n_components': 396,\n",
       "   'rf__criterion': 'gini',\n",
       "   'rf__min_samples_leaf': 35,\n",
       "   'rf__n_estimators': 76,\n",
       "   'rf__n_jobs': -1},\n",
       "  {'pca__n_components': 61,\n",
       "   'rf__criterion': 'gini',\n",
       "   'rf__min_samples_leaf': 84,\n",
       "   'rf__n_estimators': 54,\n",
       "   'rf__n_jobs': -1},\n",
       "  {'pca__n_components': 347,\n",
       "   'rf__criterion': 'gini',\n",
       "   'rf__min_samples_leaf': 2,\n",
       "   'rf__n_estimators': 52,\n",
       "   'rf__n_jobs': -1},\n",
       "  {'pca__n_components': 149,\n",
       "   'rf__criterion': 'gini',\n",
       "   'rf__min_samples_leaf': 68,\n",
       "   'rf__n_estimators': 22,\n",
       "   'rf__n_jobs': -1},\n",
       "  {'pca__n_components': 460,\n",
       "   'rf__criterion': 'gini',\n",
       "   'rf__min_samples_leaf': 52,\n",
       "   'rf__n_estimators': 66,\n",
       "   'rf__n_jobs': -1},\n",
       "  {'pca__n_components': 379,\n",
       "   'rf__criterion': 'gini',\n",
       "   'rf__min_samples_leaf': 8,\n",
       "   'rf__n_estimators': 69,\n",
       "   'rf__n_jobs': -1},\n",
       "  {'pca__n_components': 226,\n",
       "   'rf__criterion': 'gini',\n",
       "   'rf__min_samples_leaf': 75,\n",
       "   'rf__n_estimators': 40,\n",
       "   'rf__n_jobs': -1},\n",
       "  {'pca__n_components': 380,\n",
       "   'rf__criterion': 'gini',\n",
       "   'rf__min_samples_leaf': 70,\n",
       "   'rf__n_estimators': 79,\n",
       "   'rf__n_jobs': -1},\n",
       "  {'pca__n_components': 65,\n",
       "   'rf__criterion': 'gini',\n",
       "   'rf__min_samples_leaf': 14,\n",
       "   'rf__n_estimators': 29,\n",
       "   'rf__n_jobs': -1},\n",
       "  {'pca__n_components': 182,\n",
       "   'rf__criterion': 'gini',\n",
       "   'rf__min_samples_leaf': 29,\n",
       "   'rf__n_estimators': 82,\n",
       "   'rf__n_jobs': -1}],\n",
       " 'rank_test_score': array([ 7,  8,  2,  9,  4,  3,  6,  4,  1, 10], dtype=int32),\n",
       " 'split0_test_score': array([ 0.98543689,  0.9815534 ,  0.9815534 ,  0.93786408,  0.98640777,\n",
       "         0.99902913,  0.99514563,  0.99223301,  0.98640777,  0.98640777]),\n",
       " 'split0_train_score': array([ 1.        ,  0.99729963,  1.        ,  0.99848779,  0.99967596,\n",
       "         1.        ,  0.99794772,  0.99945993,  1.        ,  0.99989199]),\n",
       " 'split1_test_score': array([ 0.94563107,  0.94757282,  0.94368932,  0.92330097,  0.95048544,\n",
       "         0.9592233 ,  0.91747573,  0.95048544,  0.96504854,  0.95048544]),\n",
       " 'split1_train_score': array([ 1.        ,  0.9970836 ,  1.        ,  0.99524735,  0.99956794,\n",
       "         1.        ,  0.99816375,  0.99881184,  0.99978397,  0.99989199]),\n",
       " 'split2_test_score': array([ 0.97959184,  0.98153547,  0.98056365,  0.98250729,  0.98056365,\n",
       "         0.98056365,  0.97959184,  0.98056365,  0.98445092,  0.98153547]),\n",
       " 'split2_train_score': array([ 0.99913598,  0.99427584,  1.        ,  0.99459985,  0.99827195,\n",
       "         1.        ,  0.99675991,  0.99902797,  1.        ,  1.        ]),\n",
       " 'split3_test_score': array([ 0.99708455,  0.99805637,  1.        ,  0.94752187,  0.9941691 ,\n",
       "         0.99708455,  0.99319728,  0.99611273,  0.98736638,  1.        ]),\n",
       " 'split3_train_score': array([ 0.99891997,  0.99740793,  1.        ,  0.99870396,  0.99816395,\n",
       "         1.        ,  0.99708392,  0.99708392,  1.        ,  0.999892  ]),\n",
       " 'split4_test_score': array([ 0.71039845,  0.71039845,  0.75704568,  0.78231293,  0.74927114,\n",
       "         0.72206025,  0.75315841,  0.75510204,  0.797862  ,  0.71622935]),\n",
       " 'split4_train_score': array([ 0.99978399,  0.99816395,  1.        ,  0.99524787,  0.99859596,\n",
       "         1.        ,  0.99740793,  0.99783994,  1.        ,  0.99967599]),\n",
       " 'split5_test_score': array([ 0.87366375,  0.88532556,  0.90281827,  0.88629738,  0.86005831,\n",
       "         0.90184645,  0.86588921,  0.86103013,  0.90087464,  0.83284742]),\n",
       " 'split5_train_score': array([ 1.        ,  0.99870396,  1.        ,  0.99881197,  0.99945998,\n",
       "         1.        ,  0.99956799,  0.99935198,  1.        ,  1.        ]),\n",
       " 'split6_test_score': array([ 0.98638132,  0.96789883,  0.98540856,  0.95330739,  0.96984436,\n",
       "         0.9688716 ,  0.96789883,  0.96692607,  0.96498054,  0.97470817]),\n",
       " 'split6_train_score': array([ 1.        ,  0.99935205,  1.        ,  0.99632829,  0.99946004,\n",
       "         1.        ,  0.99935205,  0.99924406,  0.99989201,  1.        ]),\n",
       " 'split7_test_score': array([ 0.99902724,  0.99513619,  1.        ,  0.99902724,  0.99902724,\n",
       "         0.99513619,  0.99027237,  0.98249027,  0.99513619,  0.99805447]),\n",
       " 'split7_train_score': array([ 0.99989201,  0.99665227,  1.        ,  0.99838013,  0.99816415,\n",
       "         1.        ,  0.99838013,  0.99794816,  1.        ,  1.        ]),\n",
       " 'split8_test_score': array([ 1.        ,  1.        ,  0.99902724,  0.99902724,  1.        ,\n",
       "         1.        ,  1.        ,  1.        ,  1.        ,  1.        ]),\n",
       " 'split8_train_score': array([ 0.9988121 ,  0.99557235,  1.        ,  0.99589633,  0.99708423,\n",
       "         0.99989201,  0.99654428,  0.99686825,  1.        ,  0.99978402]),\n",
       " 'split9_test_score': array([ 0.89396887,  0.87937743,  0.87645914,  0.91439689,  0.90077821,\n",
       "         0.87354086,  0.9114786 ,  0.90564202,  0.87062257,  0.86673152]),\n",
       " 'split9_train_score': array([ 0.99924406,  0.9975162 ,  1.        ,  0.99697624,  0.9975162 ,\n",
       "         1.        ,  0.99730022,  0.99740821,  1.        ,  0.99978402]),\n",
       " 'std_fit_time': array([ 0.6487247 ,  0.3485944 ,  0.52062875,  0.41826925,  0.69325508,\n",
       "         0.50099438,  0.76765098,  0.88795101,  0.42862148,  0.54888838]),\n",
       " 'std_score_time': array([ 0.01903445,  0.01104183,  0.01843653,  0.0115938 ,  0.04091916,\n",
       "         0.01792044,  0.02031235,  0.02431426,  0.01150488,  0.01616985]),\n",
       " 'std_test_score': array([ 0.08678494,  0.08567482,  0.07413051,  0.06094342,  0.07688971,\n",
       "         0.08343073,  0.07483753,  0.07440711,  0.06366503,  0.09045801]),\n",
       " 'std_train_score': array([  4.66891805e-04,   1.39603004e-03,   0.00000000e+00,\n",
       "          1.53957850e-03,   8.67962989e-04,   3.23974082e-05,\n",
       "          9.78490950e-04,   9.37793794e-04,   6.91605979e-05,\n",
       "          1.07998359e-04])}"
      ]
     },
     "execution_count": 12,
     "metadata": {},
     "output_type": "execute_result"
    }
   ],
   "source": [
    "gridsearchcv.cv_results_"
   ]
  },
  {
   "cell_type": "code",
   "execution_count": 16,
   "metadata": {},
   "outputs": [
    {
     "name": "stdout",
     "output_type": "stream",
     "text": [
      "{'pca__n_components': 65, 'rf__n_jobs': -1, 'rf__criterion': 'gini', 'rf__n_estimators': 29, 'rf__min_samples_leaf': 14}\n",
      "(array([ 0.9371112 ,  0.93468118,  0.94265163,  0.93254277,  0.93905521,\n",
      "        0.93973561,  0.9374028 ,  0.93905521,  0.94527605,  0.93069596]), array([ 0.08678494,  0.08567482,  0.07413051,  0.06094342,  0.07688971,\n",
      "        0.08343073,  0.07483753,  0.07440711,  0.06366503,  0.09045801]))\n",
      "Confusion matrix, without normalization\n",
      "[[1722   63]\n",
      " [  41 2982]]\n"
     ]
    },
    {
     "data": {
      "image/png": "[encoded data removed]",
      "text/plain": [
       "<matplotlib.figure.Figure at 0x7efedb5f6810>"
      ]
     },
     "metadata": {},
     "output_type": "display_data"
    }
   ],
   "source": [
    "best_n_components = gridsearchcv.best_params_['pca__n_components']\n",
    "\n",
    "xMatrixTestExtended,y_testExtended = increase_samples(X_test, windowLength, 1, y_test)\n",
    "xMatrixUnknownExtended,_ = increase_samples(X_unknown, windowLength, 1)\n",
    "\n",
    "print(gridsearchcv.best_params_)\n",
    "means = gridsearchcv.cv_results_['mean_test_score']\n",
    "stds = gridsearchcv.cv_results_['std_test_score']\n",
    "\n",
    "print(means,stds)\n",
    "# print(zip(gridsearchcv.best_estimator_.predict_proba(xMatrixTestExtended), np.array(y_testExtended)))\n",
    "acc = metrics.accuracy_score(y_testExtended, gridsearchcv.best_estimator_.predict(xMatrixTestExtended))\n",
    "F1 = metrics.f1_score(y_testExtended, gridsearchcv.best_estimator_.predict(xMatrixTestExtended), average='weighted')\n",
    "prec = metrics.precision_score(y_testExtended, gridsearchcv.best_estimator_.predict(xMatrixTestExtended), average='weighted')\n",
    "\n",
    "confusionMatrix = metrics.confusion_matrix(y_testExtended, gridsearchcv.best_estimator_.predict(xMatrixTestExtended))\n",
    "\n",
    "plt.figure()\n",
    "plot_confusion_matrix(confusionMatrix,normalize=False, classes=['E', 'DFH'])\n",
    "# print(np.max(resultsTest,axis=1))\n"
   ]
  },
  {
   "cell_type": "code",
   "execution_count": 14,
   "metadata": {},
   "outputs": [
    {
     "data": {
      "image/png": "[encoded data removed]",
      "text/plain": [
       "<matplotlib.figure.Figure at 0x7efedb609850>"
      ]
     },
     "metadata": {},
     "output_type": "display_data"
    },
    {
     "data": {
      "image/png": "[encoded data removed]",
      "text/plain": [
       "<matplotlib.figure.Figure at 0x7efedb73a490>"
      ]
     },
     "metadata": {},
     "output_type": "display_data"
    },
    {
     "name": "stdout",
     "output_type": "stream",
     "text": [
      "[[ 0.3131153   0.6868847 ]\n",
      " [ 0.41619796  0.58380204]\n",
      " [ 0.45422629  0.54577371]\n",
      " [ 0.48192607  0.51807393]\n",
      " [ 0.48339187  0.51660813]\n",
      " [ 0.54125348  0.45874652]\n",
      " [ 0.55846629  0.44153371]\n",
      " [ 0.53936553  0.46063447]\n",
      " [ 0.52604714  0.47395286]\n",
      " [ 0.53894691  0.46105309]\n",
      " [ 0.54275601  0.45724399]\n",
      " [ 0.54368818  0.45631182]\n",
      " [ 0.53221022  0.46778978]\n",
      " [ 0.39172722  0.60827278]\n",
      " [ 0.33828202  0.66171798]\n",
      " [ 0.32294099  0.67705901]\n",
      " [ 0.33455614  0.66544386]\n",
      " [ 0.23734064  0.76265936]\n",
      " [ 0.23466921  0.76533079]\n",
      " [ 0.23572851  0.76427149]]\n"
     ]
    }
   ],
   "source": [
    "resultsTestProb = gridsearchcv.best_estimator_.predict_proba(xMatrixTestExtended)\n",
    "resultsTest = gridsearchcv.best_estimator_.predict(xMatrixTestExtended)\n",
    "resultsTrainProb = gridsearchcv.best_estimator_.predict_proba(xMatrixTrainExtended)\n",
    "\n",
    "\n",
    "# print(resultsTestProb)\n",
    "# print()\n",
    "resultsUnknown = gridsearchcv.best_estimator_.predict_proba(xMatrixUnknownExtended)\n",
    "\n",
    "# print(resultsUnknown)\n",
    "\n",
    "x = np.abs(resultsTest - y_testExtended)\n",
    "# print(np.where(x !=0))\n",
    "\n",
    "aux2 = np.array(resultsTestProb)\n",
    "aux3 = np.array(y_testExtended)\n",
    "\n",
    "indexA = (aux3 == 0) & (x == 0)\n",
    "indexB = (aux3 == 1) & (x == 0)\n",
    "indexC = (aux3 == 2) & (x == 0)\n",
    "indexH = (aux3 == 3) & (x == 0)\n",
    "\n",
    "# print(indexA)\n",
    "\n",
    "\n",
    "acertos_A = resultsTestProb[indexA,0]\n",
    "acertos_B = resultsTestProb[indexB,1]\n",
    "\n",
    "index = np.where(x == 0)\n",
    "\n",
    "\n",
    "aux = aux2[np.where(x==0),aux3[np.where(x==0)]]\n",
    "plt.figure()\n",
    "plt.hist(acertos_A, bins=50, facecolor='blue', alpha=0.75)\n",
    "plt.show()\n",
    "\n",
    "resultsUnknown2 = resultsUnknown.reshape(-1)\n",
    "\n",
    "plt.figure()\n",
    "plt.hist(resultsUnknown2, 50, facecolor='blue', alpha=0.75)\n",
    "plt.show()\n",
    "\n",
    "print(resultsUnknown[:20,:])"
   ]
  },
  {
   "cell_type": "code",
   "execution_count": 15,
   "metadata": {},
   "outputs": [],
   "source": [
    "dictionary = {'acc': acc, 'f1': F1, 'prec': prec, 'mean_test_score': means, 'std_test_score': stds, \n",
    "              'confMatrix': confusionMatrix, 'bestParams': gridsearchcv.best_params_}\n",
    "\n",
    "sio.savemat('results_class2.mat', dictionary)\n",
    "\n",
    "pickle.dump( gridsearchcv, open( \"model_class2.p\", \"wb\" ) )"
   ]
  }
 ],
 "metadata": {
  "kernelspec": {
   "display_name": "Python 2",
   "language": "python",
   "name": "python2"
  },
  "language_info": {
   "codemirror_mode": {
    "name": "ipython",
    "version": 2
   },
   "file_extension": ".py",
   "mimetype": "text/x-python",
   "name": "python",
   "nbconvert_exporter": "python",
   "pygments_lexer": "ipython2",
   "version": "2.7.14"
  }
 },
 "nbformat": 4,
 "nbformat_minor": 2
}
