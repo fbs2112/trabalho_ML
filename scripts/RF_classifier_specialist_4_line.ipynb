{
 "cells": [
  {
   "cell_type": "code",
   "execution_count": 1,
   "metadata": {},
   "outputs": [],
   "source": [
    "from six.moves import cPickle as pickle\n",
    "\n",
    "import sys\n",
    "# reload(sys)\n",
    "# sys.setdefaultencoding('utf-8')\n",
    "\n",
    "import os as os\n",
    "import fnmatch\n",
    "import argparse\n",
    "import pathlib\n",
    "import time\n",
    "import itertools\n",
    "\n",
    "import numpy as np\n",
    "if \"DISPLAY\" not in os.environ:\n",
    "    mpl.use('Agg')\n",
    "import matplotlib.pyplot as plt\n",
    "import seaborn as sns\n",
    "import pandas as pd\n",
    "\n",
    "import scipy.io as sio\n",
    "import glob \n",
    "\n",
    "from scipy.stats import randint as sp_randint\n",
    "from sklearn.preprocessing import LabelEncoder\n",
    "from sklearn.decomposition import PCA, KernelPCA\n",
    "from sklearn.model_selection import GridSearchCV\n",
    "from sklearn.model_selection import RandomizedSearchCV\n",
    "from sklearn.model_selection import KFold  # k-fold cross validation StratifiedKFold\n",
    "from sklearn.model_selection import StratifiedKFold\n",
    "from sklearn.preprocessing import StandardScaler  # data normalization\n",
    "from sklearn import svm\n",
    "from sklearn.ensemble import RandomForestClassifier  # random forest model\n",
    "from sklearn.pipeline import Pipeline # model pipeline\n",
    "from sklearn.model_selection import train_test_split\n",
    "from sklearn import metrics\n",
    "from sklearn.metrics import make_scorer\n",
    "\n",
    "\n",
    "%reload_ext autoreload\n",
    "\n",
    "%matplotlib inline\n",
    "plt.rcParams['figure.figsize'] = (10.0, 8.0) # set default size of plots\n",
    "plt.rcParams['image.interpolation'] = 'nearest'\n",
    "plt.rcParams['image.cmap'] = 'gray'\n",
    "plt.rc('text', usetex=True)\n",
    "plt.rc('font', family='times')\n",
    "\n",
    "plt.rcParams.update({'font.size': 22})\n",
    "# for auto-reloading external modules\n",
    "# see http://stackoverflow.com/questions/1907993/autoreload-of-modules-in-ipython\n",
    "%reload_ext autoreload\n",
    "%autoreload 2\n",
    "\n"
   ]
  },
  {
   "cell_type": "code",
   "execution_count": 2,
   "metadata": {},
   "outputs": [],
   "source": [
    "def plot_confusion_matrix(cm, classes,\n",
    "                          normalize=False,\n",
    "                          title='Confusion matrix',\n",
    "                          cmap=plt.cm.Blues):\n",
    "    \"\"\"\n",
    "    This function prints and plots the confusion matrix.\n",
    "    Normalization can be applied by setting `normalize=True`.\n",
    "    \"\"\"\n",
    "    if normalize:\n",
    "        cm = cm.astype('float') / cm.sum(axis=1)[:, np.newaxis]\n",
    "        print(\"Normalized confusion matrix\")\n",
    "    else:\n",
    "        print('Confusion matrix, without normalization')\n",
    "\n",
    "    print(cm)\n",
    "\n",
    "    plt.imshow(cm, interpolation='nearest', cmap=cmap)\n",
    "    plt.title(title)\n",
    "    plt.colorbar()\n",
    "    tick_marks = np.arange(len(classes))\n",
    "    plt.xticks(tick_marks, classes, rotation=45)\n",
    "    plt.yticks(tick_marks, classes)\n",
    "\n",
    "    fmt = '.2f' if normalize else 'd'\n",
    "    thresh = cm.max() / 2.\n",
    "    for i, j in itertools.product(range(cm.shape[0]), range(cm.shape[1])):\n",
    "        plt.text(j, i, format(cm[i, j], fmt),\n",
    "                 horizontalalignment=\"center\",\n",
    "                 color=\"white\" if cm[i, j] > thresh else \"black\")\n",
    "\n",
    "    plt.tight_layout()\n",
    "    plt.ylabel('True label')\n",
    "    plt.xlabel('Predicted label')"
   ]
  },
  {
   "cell_type": "code",
   "execution_count": 3,
   "metadata": {},
   "outputs": [
    {
     "name": "stdout",
     "output_type": "stream",
     "text": [
      "['A', 'A', 'A', 'A', 'A', 'A', 'A', 'A', 'A', 'A', 'A', 'A', 'A', 'A', 'A', 'A', 'A', 'A', 'A', 'A', 'A', 'A', 'A', 'A', 'A', 'A', 'A', 'A', 'A', 'A', 'B', 'B', 'B', 'B', 'B', 'B', 'B', 'A', 'B', 'B', 'B', 'B', 'B', 'B', 'B', 'B', 'B', 'B', 'B', 'B', 'B', 'B', 'B', 'B', 'B', 'B', 'B', 'B', 'B', 'B', 'B', 'B', 'B', 'B', 'B', 'B', 'B', 'B', 'B', 'B', 'B', 'B', 'B', 'B', 'B', 'B', 'B', 'B', 'B', 'B', 'B', 'B', 'B', 'B', 'B', 'B', 'B', 'B', 'B', 'B', 'B', 'B', 'B', 'B', 'B', 'B', 'B', 'B', 'B', 'B', 'B', 'B', 'B', 'B', 'B', 'B', 'B', 'B', 'B', 'B', 'B', 'B', 'B', 'B', 'B', 'B', 'B', 'B', 'B', 'B', 'B', 'B', 'B', 'B', 'B', 'B', 'B', 'B', 'B', 'B', 'B', 'B', 'B', 'B', 'B', 'B', 'B', 'B', 'B', 'B', 'B', 'B', 'B', 'B', 'B', 'B', 'B', 'B', 'B', 'B', 'B', 'B', 'B']\n",
      "[0 0 0 0 0 0 0 0 0 0 0 0 0 0 0 0 0 0 0 0 0 0 0 0 0 0 0 0 0 0 1 1 1 1 1 1 1\n",
      " 0 1 1 1 1 1 1 1 1 1 1 1 1 1 1 1 1 1 1 1 1 1 1 1 1 1 1 1 1 1 1 1 1 1 1 1 1\n",
      " 1 1 1 1 1 1 1 1 1 1 1 1 1 1 1 1 1 1 1 1 1 1 1 1 1 1 1 1 1 1 1 1 1 1 1 1 1\n",
      " 1 1 1 1 1 1 1 1 1 1 1 1 1 1 1 1 1 1 1 1 1 1 1 1 1 1 1 1 1 1 1 1 1 1 1 1 1\n",
      " 1 1 1 1 1]\n"
     ]
    }
   ],
   "source": [
    "knownNames = glob.glob(\"../dataset/Dados_SONAR/[DEFH]*.mat\")\n",
    "\n",
    "unknownNames = glob.glob(\"../dataset/Dados_SONAR/[ABCG]*.mat\")\n",
    "\n",
    "X = [sio.loadmat(x)['ent_norm'] for x in knownNames]\n",
    "\n",
    "X_unknown = [sio.loadmat(x)['ent_norm'] for x in unknownNames]\n",
    "\n",
    "\n",
    "\n",
    "Y = [(x.split('/')[-1][0]) for x in knownNames]\n",
    "Y = ['A' if y=='H' else y for y in Y]\n",
    "Y = ['B' if y!='A' else y for y in Y]\n",
    "\n",
    "print(Y)\n",
    "\n",
    "le = LabelEncoder()\n",
    "target = le.fit_transform(Y)\n",
    "\n",
    "print(target)\n"
   ]
  },
  {
   "cell_type": "code",
   "execution_count": 4,
   "metadata": {},
   "outputs": [],
   "source": [
    "def increase_samples(data, wLength, ovSamples, label=None):\n",
    "    \n",
    "    y = []\n",
    "    newLabel = []\n",
    "    for counter, x in enumerate(data):\n",
    "        size = np.shape(x)[0]\n",
    "        beginWindowIndex = 0\n",
    "        endWindowIndex = wLength\n",
    "        if label is None:\n",
    "            label2 = []\n",
    "        else:    \n",
    "            label2 = label[counter]\n",
    "        \n",
    "        while True:\n",
    "            vector = np.reshape(x[beginWindowIndex:endWindowIndex,:], -1)\n",
    "            y.append(vector)\n",
    "            beginWindowIndex = beginWindowIndex + ovSamples\n",
    "            endWindowIndex = endWindowIndex + ovSamples\n",
    "            newLabel.append(label2)\n",
    "            if endWindowIndex > size:\n",
    "                break\n",
    "            \n",
    "    y = np.stack(y)\n",
    "    return y, newLabel "
   ]
  },
  {
   "cell_type": "code",
   "execution_count": 5,
   "metadata": {},
   "outputs": [],
   "source": [
    "windowLength = 1"
   ]
  },
  {
   "cell_type": "code",
   "execution_count": 6,
   "metadata": {},
   "outputs": [],
   "source": [
    "X_train, X_test, y_train, y_test = train_test_split(X, target, test_size=0.3, random_state=42)\n"
   ]
  },
  {
   "cell_type": "code",
   "execution_count": 7,
   "metadata": {},
   "outputs": [],
   "source": [
    "xMatrixTrainExtended,y_trainExtended = increase_samples(X_train, windowLength, 1, y_train)\n",
    "# print(xMatrixTrainExtended.shape)\n",
    "# print(xMatrix.shape)\n",
    "# print(len(y_trainExtended))"
   ]
  },
  {
   "cell_type": "code",
   "execution_count": 8,
   "metadata": {},
   "outputs": [],
   "source": [
    "model = Pipeline([('pca', PCA()), ('rf', RandomForestClassifier(random_state=42, class_weight='balanced'))])\n",
    "# model = Pipeline([('reduce_dim', PCA()), ('rf', RandomForestClassifier(random_state=42, class_weight='balanced'))])\n"
   ]
  },
  {
   "cell_type": "code",
   "execution_count": 9,
   "metadata": {},
   "outputs": [],
   "source": [
    "xMatrixTest = np.stack([x[:windowLength,:].reshape(-1) for x in X_test])\n"
   ]
  },
  {
   "cell_type": "code",
   "execution_count": 10,
   "metadata": {},
   "outputs": [],
   "source": [
    "fold = StratifiedKFold(10)\n"
   ]
  },
  {
   "cell_type": "code",
   "execution_count": 11,
   "metadata": {},
   "outputs": [
    {
     "name": "stdout",
     "output_type": "stream",
     "text": [
      "(10288, 5570)\n"
     ]
    },
    {
     "data": {
      "text/plain": [
       "RandomizedSearchCV(cv=StratifiedKFold(n_splits=10, random_state=None, shuffle=False),\n",
       "          error_score='raise',\n",
       "          estimator=Pipeline(memory=None,\n",
       "     steps=[('pca', PCA(copy=True, iterated_power='auto', n_components=None, random_state=None,\n",
       "  svd_solver='auto', tol=0.0, whiten=False)), ('rf', RandomForestClassifier(bootstrap=True, class_weight='balanced',\n",
       "            criterion='gini', max_depth=None, max_features='auto',\n",
       "            max_leaf_node...stimators=10, n_jobs=1, oob_score=False, random_state=42,\n",
       "            verbose=0, warm_start=False))]),\n",
       "          fit_params=None, iid=True, n_iter=10, n_jobs=1,\n",
       "          param_distributions={'pca__n_components': <scipy.stats._distn_infrastructure.rv_frozen object at 0x7f440c60c190>, 'rf__criterion': ['gini'], 'rf__n_jobs': [-1], 'rf__n_estimators': <scipy.stats._distn_infrastructure.rv_frozen object at 0x7f43dd9f8110>, 'rf__min_samples_leaf': <scipy.stats._distn_infrastructure.rv_frozen object at 0x7f43dd9f8210>},\n",
       "          pre_dispatch='2*n_jobs', random_state=None, refit=True,\n",
       "          return_train_score='warn', scoring=make_scorer(accuracy_score),\n",
       "          verbose=0)"
      ]
     },
     "execution_count": 11,
     "metadata": {},
     "output_type": "execute_result"
    }
   ],
   "source": [
    "# parameters = {'pca__n_components': [252], 'rf__n_estimators': [82], 'rf__n_jobs': [-1],\n",
    "#               'rf__min_samples_leaf': [35], 'rf__criterion': ['gini']}\n",
    "metric = metrics.make_scorer(metrics.accuracy_score)\n",
    "# metric = metrics.make_scorer(metrics.precision_score, average='weighted')\n",
    "\n",
    "\n",
    "\n",
    "parameters = {'pca__n_components': sp_randint(10, 500), 'rf__n_estimators': sp_randint(10, 100), 'rf__n_jobs': [-1],\n",
    "              'rf__min_samples_leaf': sp_randint(1, 100), 'rf__criterion': ['gini']}\n",
    "\n",
    "\n",
    "# parameters = {'pca__n_components': sp_randint(10, 200)}\n",
    "\n",
    "gridsearchcv = RandomizedSearchCV(model, parameters, scoring=metric, cv=fold, n_iter=10)\n",
    "\n",
    "print(xMatrixTrainExtended.shape)\n",
    "\n",
    "# gridsearchcv = GridSearchCV(model, parameters, n_jobs=3, cv=fold, scoring=metric)\n",
    "gridsearchcv.fit(xMatrixTrainExtended, y_trainExtended)"
   ]
  },
  {
   "cell_type": "code",
   "execution_count": 12,
   "metadata": {},
   "outputs": [
    {
     "name": "stderr",
     "output_type": "stream",
     "text": [
      "/home/felipe/miniconda2/envs/siemens2.7/lib/python2.7/site-packages/sklearn/utils/deprecation.py:122: FutureWarning: You are accessing a training score ('mean_train_score'), which will not be available by default any more in 0.21. If you need training scores, please set return_train_score=True\n",
      "  warnings.warn(*warn_args, **warn_kwargs)\n",
      "/home/felipe/miniconda2/envs/siemens2.7/lib/python2.7/site-packages/sklearn/utils/deprecation.py:122: FutureWarning: You are accessing a training score ('split0_train_score'), which will not be available by default any more in 0.21. If you need training scores, please set return_train_score=True\n",
      "  warnings.warn(*warn_args, **warn_kwargs)\n",
      "/home/felipe/miniconda2/envs/siemens2.7/lib/python2.7/site-packages/sklearn/utils/deprecation.py:122: FutureWarning: You are accessing a training score ('split1_train_score'), which will not be available by default any more in 0.21. If you need training scores, please set return_train_score=True\n",
      "  warnings.warn(*warn_args, **warn_kwargs)\n",
      "/home/felipe/miniconda2/envs/siemens2.7/lib/python2.7/site-packages/sklearn/utils/deprecation.py:122: FutureWarning: You are accessing a training score ('split2_train_score'), which will not be available by default any more in 0.21. If you need training scores, please set return_train_score=True\n",
      "  warnings.warn(*warn_args, **warn_kwargs)\n",
      "/home/felipe/miniconda2/envs/siemens2.7/lib/python2.7/site-packages/sklearn/utils/deprecation.py:122: FutureWarning: You are accessing a training score ('split3_train_score'), which will not be available by default any more in 0.21. If you need training scores, please set return_train_score=True\n",
      "  warnings.warn(*warn_args, **warn_kwargs)\n",
      "/home/felipe/miniconda2/envs/siemens2.7/lib/python2.7/site-packages/sklearn/utils/deprecation.py:122: FutureWarning: You are accessing a training score ('split4_train_score'), which will not be available by default any more in 0.21. If you need training scores, please set return_train_score=True\n",
      "  warnings.warn(*warn_args, **warn_kwargs)\n",
      "/home/felipe/miniconda2/envs/siemens2.7/lib/python2.7/site-packages/sklearn/utils/deprecation.py:122: FutureWarning: You are accessing a training score ('split5_train_score'), which will not be available by default any more in 0.21. If you need training scores, please set return_train_score=True\n",
      "  warnings.warn(*warn_args, **warn_kwargs)\n",
      "/home/felipe/miniconda2/envs/siemens2.7/lib/python2.7/site-packages/sklearn/utils/deprecation.py:122: FutureWarning: You are accessing a training score ('split6_train_score'), which will not be available by default any more in 0.21. If you need training scores, please set return_train_score=True\n",
      "  warnings.warn(*warn_args, **warn_kwargs)\n",
      "/home/felipe/miniconda2/envs/siemens2.7/lib/python2.7/site-packages/sklearn/utils/deprecation.py:122: FutureWarning: You are accessing a training score ('split7_train_score'), which will not be available by default any more in 0.21. If you need training scores, please set return_train_score=True\n",
      "  warnings.warn(*warn_args, **warn_kwargs)\n",
      "/home/felipe/miniconda2/envs/siemens2.7/lib/python2.7/site-packages/sklearn/utils/deprecation.py:122: FutureWarning: You are accessing a training score ('split8_train_score'), which will not be available by default any more in 0.21. If you need training scores, please set return_train_score=True\n",
      "  warnings.warn(*warn_args, **warn_kwargs)\n",
      "/home/felipe/miniconda2/envs/siemens2.7/lib/python2.7/site-packages/sklearn/utils/deprecation.py:122: FutureWarning: You are accessing a training score ('split9_train_score'), which will not be available by default any more in 0.21. If you need training scores, please set return_train_score=True\n",
      "  warnings.warn(*warn_args, **warn_kwargs)\n",
      "/home/felipe/miniconda2/envs/siemens2.7/lib/python2.7/site-packages/sklearn/utils/deprecation.py:122: FutureWarning: You are accessing a training score ('std_train_score'), which will not be available by default any more in 0.21. If you need training scores, please set return_train_score=True\n",
      "  warnings.warn(*warn_args, **warn_kwargs)\n"
     ]
    },
    {
     "data": {
      "text/plain": [
       "{'mean_fit_time': array([ 10.45475791,   6.6535049 ,   7.49388506,   7.95285225,\n",
       "         13.29687898,   2.15038559,  11.75284278,  10.48900051,\n",
       "          9.90959792,   7.57899473]),\n",
       " 'mean_score_time': array([ 0.22640584,  0.19575262,  0.2112705 ,  0.19550135,  0.23441288,\n",
       "         0.15256453,  0.22761869,  0.23046651,  0.22638876,  0.18679271]),\n",
       " 'mean_test_score': array([ 0.97161742,  0.97054821,  0.969479  ,  0.96364697,  0.97453344,\n",
       "         0.97754666,  0.96675739,  0.97229782,  0.95528771,  0.968993  ]),\n",
       " 'mean_train_score': array([ 0.99793723,  0.999622  ,  0.99980561,  0.99732157,  0.99910361,\n",
       "         0.99519395,  0.99748362,  0.99569084,  0.99790481,  0.99582046]),\n",
       " 'param_pca__n_components': masked_array(data = [398 250 299 292 471 33 434 395 374 257],\n",
       "              mask = [False False False False False False False False False False],\n",
       "        fill_value = ?),\n",
       " 'param_rf__criterion': masked_array(data = ['gini' 'gini' 'gini' 'gini' 'gini' 'gini' 'gini' 'gini' 'gini' 'gini'],\n",
       "              mask = [False False False False False False False False False False],\n",
       "        fill_value = ?),\n",
       " 'param_rf__min_samples_leaf': masked_array(data = [62 15 13 60 27 68 76 89 34 94],\n",
       "              mask = [False False False False False False False False False False],\n",
       "        fill_value = ?),\n",
       " 'param_rf__n_estimators': masked_array(data = [80 40 26 28 49 27 60 48 15 82],\n",
       "              mask = [False False False False False False False False False False],\n",
       "        fill_value = ?),\n",
       " 'param_rf__n_jobs': masked_array(data = [-1 -1 -1 -1 -1 -1 -1 -1 -1 -1],\n",
       "              mask = [False False False False False False False False False False],\n",
       "        fill_value = ?),\n",
       " 'params': [{'pca__n_components': 398,\n",
       "   'rf__criterion': 'gini',\n",
       "   'rf__min_samples_leaf': 62,\n",
       "   'rf__n_estimators': 80,\n",
       "   'rf__n_jobs': -1},\n",
       "  {'pca__n_components': 250,\n",
       "   'rf__criterion': 'gini',\n",
       "   'rf__min_samples_leaf': 15,\n",
       "   'rf__n_estimators': 40,\n",
       "   'rf__n_jobs': -1},\n",
       "  {'pca__n_components': 299,\n",
       "   'rf__criterion': 'gini',\n",
       "   'rf__min_samples_leaf': 13,\n",
       "   'rf__n_estimators': 26,\n",
       "   'rf__n_jobs': -1},\n",
       "  {'pca__n_components': 292,\n",
       "   'rf__criterion': 'gini',\n",
       "   'rf__min_samples_leaf': 60,\n",
       "   'rf__n_estimators': 28,\n",
       "   'rf__n_jobs': -1},\n",
       "  {'pca__n_components': 471,\n",
       "   'rf__criterion': 'gini',\n",
       "   'rf__min_samples_leaf': 27,\n",
       "   'rf__n_estimators': 49,\n",
       "   'rf__n_jobs': -1},\n",
       "  {'pca__n_components': 33,\n",
       "   'rf__criterion': 'gini',\n",
       "   'rf__min_samples_leaf': 68,\n",
       "   'rf__n_estimators': 27,\n",
       "   'rf__n_jobs': -1},\n",
       "  {'pca__n_components': 434,\n",
       "   'rf__criterion': 'gini',\n",
       "   'rf__min_samples_leaf': 76,\n",
       "   'rf__n_estimators': 60,\n",
       "   'rf__n_jobs': -1},\n",
       "  {'pca__n_components': 395,\n",
       "   'rf__criterion': 'gini',\n",
       "   'rf__min_samples_leaf': 89,\n",
       "   'rf__n_estimators': 48,\n",
       "   'rf__n_jobs': -1},\n",
       "  {'pca__n_components': 374,\n",
       "   'rf__criterion': 'gini',\n",
       "   'rf__min_samples_leaf': 34,\n",
       "   'rf__n_estimators': 15,\n",
       "   'rf__n_jobs': -1},\n",
       "  {'pca__n_components': 257,\n",
       "   'rf__criterion': 'gini',\n",
       "   'rf__min_samples_leaf': 94,\n",
       "   'rf__n_estimators': 82,\n",
       "   'rf__n_jobs': -1}],\n",
       " 'rank_test_score': array([ 4,  5,  6,  9,  2,  1,  8,  3, 10,  7], dtype=int32),\n",
       " 'split0_test_score': array([ 0.98543689,  0.96019417,  0.95145631,  0.96213592,  0.97087379,\n",
       "         0.99223301,  0.96699029,  0.99417476,  0.92038835,  0.98252427]),\n",
       " 'split0_train_score': array([ 0.99902787,  1.        ,  0.99978397,  0.99859581,  0.99945993,\n",
       "         0.99654353,  0.99870382,  0.99686757,  0.99870382,  0.99837978]),\n",
       " 'split1_test_score': array([ 0.99902913,  1.        ,  1.        ,  0.97864078,  0.99902913,\n",
       "         1.        ,  0.97961165,  0.99029126,  0.98834951,  0.98058252]),\n",
       " 'split1_train_score': array([ 0.99827176,  0.99945993,  1.        ,  0.9970836 ,  0.99956794,\n",
       "         0.99254699,  0.99751566,  0.99503132,  0.99805574,  0.99719162]),\n",
       " 'split2_test_score': array([ 0.96404276,  0.9494655 ,  0.98833819,  0.96015549,  0.96501458,\n",
       "         0.9552964 ,  0.98736638,  0.96501458,  0.93294461,  0.97278912]),\n",
       " 'split2_train_score': array([ 0.99751593,  0.99956799,  1.        ,  0.99621989,  0.99881197,\n",
       "         0.99341182,  0.99783994,  0.99751593,  0.99708392,  0.99535587]),\n",
       " 'split3_test_score': array([ 0.97959184,  0.99902818,  0.98833819,  0.99028183,  0.98056365,\n",
       "         0.98833819,  0.9776482 ,  0.9941691 ,  0.9718173 ,  0.99319728]),\n",
       " 'split3_train_score': array([ 0.99945998,  0.999892  ,  1.        ,  0.99956799,  1.        ,\n",
       "         0.99611189,  0.99935198,  0.99837995,  0.99956799,  0.99913598]),\n",
       " 'split4_test_score': array([ 0.86297376,  0.8649174 ,  0.89115646,  0.83965015,  0.8931001 ,\n",
       "         0.90379009,  0.84645287,  0.87560739,  0.88046647,  0.8649174 ]),\n",
       " 'split4_train_score': array([ 0.99816395,  0.99967599,  0.99978399,  0.99729992,  0.99837995,\n",
       "         0.99762393,  0.99837995,  0.99827195,  0.99924398,  0.99783994]),\n",
       " 'split5_test_score': array([ 0.96890185,  0.97376093,  0.96598639,  0.96209913,  0.96501458,\n",
       "         0.98056365,  0.94169096,  0.93586006,  0.93683188,  0.93586006]),\n",
       " 'split5_train_score': array([ 0.99740793,  0.99924398,  0.99967599,  0.99319581,  0.99870396,\n",
       "         0.99438384,  0.99492386,  0.99373582,  0.99621989,  0.99125176]),\n",
       " 'split6_test_score': array([ 0.99513619,  0.98638132,  0.9766537 ,  0.99513619,  0.99319066,\n",
       "         0.97178988,  0.99513619,  0.99513619,  0.97178988,  0.97568093]),\n",
       " 'split6_train_score': array([ 0.9988121 ,  1.        ,  0.99989201,  0.99935205,  0.99902808,\n",
       "         0.99816415,  0.99838013,  0.99578834,  0.99676026,  0.99708423]),\n",
       " 'split7_test_score': array([ 0.98929961,  0.98540856,  0.99708171,  0.96303502,  0.99027237,\n",
       "         0.98929961,  0.98249027,  0.99027237,  0.98249027,  0.99513619]),\n",
       " 'split7_train_score': array([ 0.99816415,  0.99946004,  0.99924406,  0.99816415,  0.99848812,\n",
       "         0.99600432,  0.99708423,  0.99514039,  0.99643629,  0.99611231]),\n",
       " 'split8_test_score': array([ 1.        ,  1.        ,  0.97373541,  0.99708171,  1.        ,\n",
       "         1.        ,  1.        ,  1.        ,  0.99902724,  1.        ]),\n",
       " 'split8_train_score': array([ 0.99697624,  1.        ,  0.99989201,  0.9962203 ,  0.99946004,\n",
       "         0.99416847,  0.9950324 ,  0.99362851,  0.99784017,  0.99265659]),\n",
       " 'split9_test_score': array([ 0.97178988,  0.98638132,  0.96206226,  0.98832685,  0.98832685,\n",
       "         0.99416342,  0.99027237,  0.98249027,  0.9688716 ,  0.98929961]),\n",
       " 'split9_train_score': array([ 0.99557235,  0.99892009,  0.99978402,  0.9975162 ,  0.99913607,\n",
       "         0.99298056,  0.99762419,  0.9925486 ,  0.99913607,  0.99319654]),\n",
       " 'std_fit_time': array([ 0.85569553,  1.00010189,  1.15283644,  1.22454249,  1.41613085,\n",
       "         0.26110982,  1.52155269,  1.3558043 ,  0.91645288,  0.76405975]),\n",
       " 'std_score_time': array([ 0.02597658,  0.01510673,  0.013524  ,  0.01294022,  0.01713965,\n",
       "         0.00505748,  0.02576291,  0.02185592,  0.03678506,  0.0070517 ]),\n",
       " 'std_test_score': array([ 0.03814142,  0.03871734,  0.03000488,  0.04364231,  0.02982942,\n",
       "         0.02780886,  0.04303738,  0.03705167,  0.03483371,  0.03866568]),\n",
       " 'std_train_score': array([ 0.00107062,  0.00034575,  0.0002149 ,  0.00176199,  0.00049266,\n",
       "         0.00186647,  0.00139481,  0.00193147,  0.00117134,  0.00251331])}"
      ]
     },
     "execution_count": 12,
     "metadata": {},
     "output_type": "execute_result"
    }
   ],
   "source": [
    "gridsearchcv.cv_results_"
   ]
  },
  {
   "cell_type": "code",
   "execution_count": 13,
   "metadata": {},
   "outputs": [
    {
     "name": "stdout",
     "output_type": "stream",
     "text": [
      "{'pca__n_components': 33, 'rf__n_jobs': -1, 'rf__criterion': 'gini', 'rf__n_estimators': 27, 'rf__min_samples_leaf': 68}\n",
      "(array([ 0.97161742,  0.97054821,  0.969479  ,  0.96364697,  0.97453344,\n",
      "        0.97754666,  0.96675739,  0.97229782,  0.95528771,  0.968993  ]), array([ 0.03814142,  0.03871734,  0.03000488,  0.04364231,  0.02982942,\n",
      "        0.02780886,  0.04303738,  0.03705167,  0.03483371,  0.03866568]))\n",
      "Confusion matrix, without normalization\n",
      "[[1125   56]\n",
      " [ 104 3523]]\n"
     ]
    },
    {
     "data": {
      "image/png": "[encoded data removed]",
      "text/plain": [
       "<matplotlib.figure.Figure at 0x7f43dda23310>"
      ]
     },
     "metadata": {},
     "output_type": "display_data"
    }
   ],
   "source": [
    "best_n_components = gridsearchcv.best_params_['pca__n_components']\n",
    "\n",
    "xMatrixTestExtended,y_testExtended = increase_samples(X_test, windowLength, 1, y_test)\n",
    "xMatrixUnknownExtended,_ = increase_samples(X_unknown, windowLength, 1)\n",
    "\n",
    "print(gridsearchcv.best_params_)\n",
    "means = gridsearchcv.cv_results_['mean_test_score']\n",
    "stds = gridsearchcv.cv_results_['std_test_score']\n",
    "\n",
    "print(means,stds)\n",
    "# print(zip(gridsearchcv.best_estimator_.predict_proba(xMatrixTestExtended), np.array(y_testExtended)))\n",
    "acc = metrics.accuracy_score(y_testExtended, gridsearchcv.best_estimator_.predict(xMatrixTestExtended))\n",
    "F1 = metrics.f1_score(y_testExtended, gridsearchcv.best_estimator_.predict(xMatrixTestExtended), average='weighted')\n",
    "prec = metrics.precision_score(y_testExtended, gridsearchcv.best_estimator_.predict(xMatrixTestExtended), average='weighted')\n",
    "\n",
    "confusionMatrix = metrics.confusion_matrix(y_testExtended, gridsearchcv.best_estimator_.predict(xMatrixTestExtended))\n",
    "\n",
    "plt.figure()\n",
    "plot_confusion_matrix(confusionMatrix,normalize=False, classes=['H', 'DEF'])\n",
    "# print(np.max(resultsTest,axis=1))\n"
   ]
  },
  {
   "cell_type": "code",
   "execution_count": 14,
   "metadata": {},
   "outputs": [
    {
     "data": {
      "image/png": "[encoded data removed]",
      "text/plain": [
       "<matplotlib.figure.Figure at 0x7f43dd0ca510>"
      ]
     },
     "metadata": {},
     "output_type": "display_data"
    },
    {
     "data": {
      "image/png": "[encoded data removed]",
      "text/plain": [
       "<matplotlib.figure.Figure at 0x7f43c1a26ed0>"
      ]
     },
     "metadata": {},
     "output_type": "display_data"
    },
    {
     "name": "stdout",
     "output_type": "stream",
     "text": [
      "[[ 0.04617715  0.95382285]\n",
      " [ 0.03474546  0.96525454]\n",
      " [ 0.03474546  0.96525454]\n",
      " [ 0.04210922  0.95789078]\n",
      " [ 0.04210922  0.95789078]\n",
      " [ 0.03474546  0.96525454]\n",
      " [ 0.0535409   0.9464591 ]\n",
      " [ 0.0535409   0.9464591 ]\n",
      " [ 0.0535409   0.9464591 ]\n",
      " [ 0.05882324  0.94117676]\n",
      " [ 0.06171862  0.93828138]\n",
      " [ 0.06572413  0.93427587]\n",
      " [ 0.06572413  0.93427587]\n",
      " [ 0.05225558  0.94774442]\n",
      " [ 0.04907253  0.95092747]\n",
      " [ 0.04907253  0.95092747]\n",
      " [ 0.06128216  0.93871784]\n",
      " [ 0.12624726  0.87375274]\n",
      " [ 0.11584019  0.88415981]\n",
      " [ 0.07901721  0.92098279]]\n"
     ]
    }
   ],
   "source": [
    "resultsTestProb = gridsearchcv.best_estimator_.predict_proba(xMatrixTestExtended)\n",
    "resultsTest = gridsearchcv.best_estimator_.predict(xMatrixTestExtended)\n",
    "resultsTrainProb = gridsearchcv.best_estimator_.predict_proba(xMatrixTrainExtended)\n",
    "\n",
    "\n",
    "# print(resultsTestProb)\n",
    "# print()\n",
    "resultsUnknown = gridsearchcv.best_estimator_.predict_proba(xMatrixUnknownExtended)\n",
    "\n",
    "# print(resultsUnknown)\n",
    "\n",
    "x = np.abs(resultsTest - y_testExtended)\n",
    "# print(np.where(x !=0))\n",
    "\n",
    "aux2 = np.array(resultsTestProb)\n",
    "aux3 = np.array(y_testExtended)\n",
    "\n",
    "indexA = (aux3 == 0) \n",
    "indexB = (aux3 == 1) & (x == 0)\n",
    "indexC = (aux3 == 2) & (x == 0)\n",
    "indexH = (aux3 == 3) & (x == 0)\n",
    "\n",
    "# print(indexA)\n",
    "\n",
    "\n",
    "acertos_A = resultsTestProb[indexA,0]\n",
    "acertos_B = resultsTestProb[indexB,1]\n",
    "\n",
    "index = np.where(x == 0)\n",
    "\n",
    "\n",
    "aux = aux2[np.where(x==0),aux3[np.where(x==0)]]\n",
    "plt.figure()\n",
    "plt.hist(resultsTestProb[indexA,0], bins=50, facecolor='blue', alpha=0.75)\n",
    "plt.show()\n",
    "\n",
    "plt.figure()\n",
    "plt.hist(resultsUnknown[:,1], 50, facecolor='blue', alpha=0.75)\n",
    "plt.show()\n",
    "\n",
    "print(resultsUnknown[:20,:])"
   ]
  },
  {
   "cell_type": "code",
   "execution_count": 15,
   "metadata": {},
   "outputs": [],
   "source": [
    "dictionary = {'acc': acc, 'f1': F1, 'prec': prec, 'mean_test_score': means, 'std_test_score': stds, \n",
    "              'confMatrix': confusionMatrix, 'bestParams': gridsearchcv.best_params_, 'testData': xMatrixTestExtended,\n",
    "             'testLabels': y_testExtended}\n",
    "\n",
    "sio.savemat('results_class4_line.mat', dictionary)\n",
    "\n",
    "pickle.dump( gridsearchcv, open( \"model_class4_line.p\", \"wb\" ) )"
   ]
  }
 ],
 "metadata": {
  "kernelspec": {
   "display_name": "Python 2",
   "language": "python",
   "name": "python2"
  },
  "language_info": {
   "codemirror_mode": {
    "name": "ipython",
    "version": 2
   },
   "file_extension": ".py",
   "mimetype": "text/x-python",
   "name": "python",
   "nbconvert_exporter": "python",
   "pygments_lexer": "ipython2",
   "version": "2.7.14"
  }
 },
 "nbformat": 4,
 "nbformat_minor": 2
}
