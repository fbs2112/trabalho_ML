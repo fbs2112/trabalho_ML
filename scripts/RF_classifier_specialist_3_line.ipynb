{
 "cells": [
  {
   "cell_type": "code",
   "execution_count": 1,
   "metadata": {},
   "outputs": [],
   "source": [
    "from six.moves import cPickle as pickle\n",
    "\n",
    "import sys\n",
    "# reload(sys)\n",
    "# sys.setdefaultencoding('utf-8')\n",
    "\n",
    "import os as os\n",
    "import fnmatch\n",
    "import argparse\n",
    "import pathlib\n",
    "import time\n",
    "import itertools\n",
    "\n",
    "import numpy as np\n",
    "if \"DISPLAY\" not in os.environ:\n",
    "    mpl.use('Agg')\n",
    "import matplotlib.pyplot as plt\n",
    "import seaborn as sns\n",
    "import pandas as pd\n",
    "\n",
    "import scipy.io as sio\n",
    "import glob \n",
    "\n",
    "from scipy.stats import randint as sp_randint\n",
    "from sklearn.preprocessing import LabelEncoder\n",
    "from sklearn.decomposition import PCA, KernelPCA\n",
    "from sklearn.model_selection import GridSearchCV\n",
    "from sklearn.model_selection import RandomizedSearchCV\n",
    "from sklearn.model_selection import KFold  # k-fold cross validation StratifiedKFold\n",
    "from sklearn.model_selection import StratifiedKFold\n",
    "from sklearn.preprocessing import StandardScaler  # data normalization\n",
    "from sklearn import svm\n",
    "from sklearn.ensemble import RandomForestClassifier  # random forest model\n",
    "from sklearn.pipeline import Pipeline # model pipeline\n",
    "from sklearn.model_selection import train_test_split\n",
    "from sklearn import metrics\n",
    "from sklearn.metrics import make_scorer\n",
    "\n",
    "\n",
    "%reload_ext autoreload\n",
    "\n",
    "%matplotlib inline\n",
    "plt.rcParams['figure.figsize'] = (10.0, 8.0) # set default size of plots\n",
    "plt.rcParams['image.interpolation'] = 'nearest'\n",
    "plt.rcParams['image.cmap'] = 'gray'\n",
    "plt.rc('text', usetex=True)\n",
    "plt.rc('font', family='times')\n",
    "\n",
    "plt.rcParams.update({'font.size': 22})\n",
    "# for auto-reloading external modules\n",
    "# see http://stackoverflow.com/questions/1907993/autoreload-of-modules-in-ipython\n",
    "%reload_ext autoreload\n",
    "%autoreload 2\n",
    "\n"
   ]
  },
  {
   "cell_type": "code",
   "execution_count": 2,
   "metadata": {},
   "outputs": [],
   "source": [
    "def plot_confusion_matrix(cm, classes,\n",
    "                          normalize=False,\n",
    "                          title='Confusion matrix',\n",
    "                          cmap=plt.cm.Blues):\n",
    "    \"\"\"\n",
    "    This function prints and plots the confusion matrix.\n",
    "    Normalization can be applied by setting `normalize=True`.\n",
    "    \"\"\"\n",
    "    if normalize:\n",
    "        cm = cm.astype('float') / cm.sum(axis=1)[:, np.newaxis]\n",
    "        print(\"Normalized confusion matrix\")\n",
    "    else:\n",
    "        print('Confusion matrix, without normalization')\n",
    "\n",
    "    print(cm)\n",
    "\n",
    "    plt.imshow(cm, interpolation='nearest', cmap=cmap)\n",
    "    plt.title(title)\n",
    "    plt.colorbar()\n",
    "    tick_marks = np.arange(len(classes))\n",
    "    plt.xticks(tick_marks, classes, rotation=45)\n",
    "    plt.yticks(tick_marks, classes)\n",
    "\n",
    "    fmt = '.2f' if normalize else 'd'\n",
    "    thresh = cm.max() / 2.\n",
    "    for i, j in itertools.product(range(cm.shape[0]), range(cm.shape[1])):\n",
    "        plt.text(j, i, format(cm[i, j], fmt),\n",
    "                 horizontalalignment=\"center\",\n",
    "                 color=\"white\" if cm[i, j] > thresh else \"black\")\n",
    "\n",
    "    plt.tight_layout()\n",
    "    plt.ylabel('True label')\n",
    "    plt.xlabel('Predicted label')"
   ]
  },
  {
   "cell_type": "code",
   "execution_count": 3,
   "metadata": {},
   "outputs": [
    {
     "name": "stdout",
     "output_type": "stream",
     "text": [
      "['B', 'B', 'B', 'B', 'B', 'B', 'B', 'B', 'B', 'B', 'B', 'B', 'B', 'B', 'B', 'B', 'B', 'B', 'B', 'B', 'B', 'B', 'B', 'B', 'B', 'B', 'B', 'B', 'B', 'B', 'B', 'B', 'B', 'B', 'B', 'B', 'A', 'B', 'B', 'B', 'B', 'B', 'B', 'B', 'B', 'B', 'B', 'B', 'B', 'B', 'B', 'B', 'B', 'B', 'B', 'A', 'A', 'A', 'A', 'A', 'A', 'A', 'A', 'A', 'A', 'A', 'A', 'A', 'A', 'A', 'A', 'B', 'B', 'B', 'B', 'B', 'B', 'A', 'A', 'A', 'A', 'A', 'A', 'A', 'A', 'A', 'A', 'B', 'B', 'B', 'B', 'B', 'B', 'B', 'B', 'B', 'B', 'B', 'B', 'B', 'B', 'B', 'B', 'B', 'B', 'B', 'B', 'B', 'B', 'B', 'B', 'B', 'B', 'B', 'B', 'B', 'B', 'B', 'B', 'B', 'B', 'B', 'B', 'B', 'B', 'B', 'B', 'B', 'B', 'B', 'B', 'B', 'B', 'B', 'B', 'B', 'B', 'B', 'B', 'B', 'B', 'B', 'B', 'B', 'B', 'B', 'B', 'B', 'B', 'B', 'B', 'B', 'B']\n",
      "[1 1 1 1 1 1 1 1 1 1 1 1 1 1 1 1 1 1 1 1 1 1 1 1 1 1 1 1 1 1 1 1 1 1 1 1 0\n",
      " 1 1 1 1 1 1 1 1 1 1 1 1 1 1 1 1 1 1 0 0 0 0 0 0 0 0 0 0 0 0 0 0 0 0 1 1 1\n",
      " 1 1 1 0 0 0 0 0 0 0 0 0 0 1 1 1 1 1 1 1 1 1 1 1 1 1 1 1 1 1 1 1 1 1 1 1 1\n",
      " 1 1 1 1 1 1 1 1 1 1 1 1 1 1 1 1 1 1 1 1 1 1 1 1 1 1 1 1 1 1 1 1 1 1 1 1 1\n",
      " 1 1 1 1 1]\n"
     ]
    }
   ],
   "source": [
    "knownNames = glob.glob(\"../dataset/Dados_SONAR/[DEFH]*.mat\")\n",
    "\n",
    "unknownNames = glob.glob(\"../dataset/Dados_SONAR/[ABCG]*.mat\")\n",
    "\n",
    "X = [sio.loadmat(x)['ent_norm'] for x in knownNames]\n",
    "\n",
    "X_unknown = [sio.loadmat(x)['ent_norm'] for x in unknownNames]\n",
    "\n",
    "\n",
    "\n",
    "Y = [(x.split('/')[-1][0]) for x in knownNames]\n",
    "Y = ['A' if y=='F' else y for y in Y]\n",
    "Y = ['B' if y!='A' else y for y in Y]\n",
    "\n",
    "print(Y)\n",
    "\n",
    "le = LabelEncoder()\n",
    "target = le.fit_transform(Y)\n",
    "\n",
    "print(target)\n"
   ]
  },
  {
   "cell_type": "code",
   "execution_count": 4,
   "metadata": {},
   "outputs": [],
   "source": [
    "def increase_samples(data, wLength, ovSamples, label=None):\n",
    "    \n",
    "    y = []\n",
    "    newLabel = []\n",
    "    for counter, x in enumerate(data):\n",
    "        size = np.shape(x)[0]\n",
    "        beginWindowIndex = 0\n",
    "        endWindowIndex = wLength\n",
    "        if label is None:\n",
    "            label2 = []\n",
    "        else:    \n",
    "            label2 = label[counter]\n",
    "        \n",
    "        while True:\n",
    "            vector = np.reshape(x[beginWindowIndex:endWindowIndex,:], -1)\n",
    "            y.append(vector)\n",
    "            beginWindowIndex = beginWindowIndex + ovSamples\n",
    "            endWindowIndex = endWindowIndex + ovSamples\n",
    "            newLabel.append(label2)\n",
    "            if endWindowIndex > size:\n",
    "                break\n",
    "            \n",
    "    y = np.stack(y)\n",
    "    return y, newLabel "
   ]
  },
  {
   "cell_type": "code",
   "execution_count": 5,
   "metadata": {},
   "outputs": [],
   "source": [
    "windowLength = 1"
   ]
  },
  {
   "cell_type": "code",
   "execution_count": 6,
   "metadata": {},
   "outputs": [],
   "source": [
    "X_train, X_test, y_train, y_test = train_test_split(X, target, test_size=0.3, random_state=42)\n"
   ]
  },
  {
   "cell_type": "code",
   "execution_count": 7,
   "metadata": {},
   "outputs": [],
   "source": [
    "xMatrixTrainExtended,y_trainExtended = increase_samples(X_train, windowLength, 1, y_train)\n",
    "# print(xMatrixTrainExtended.shape)\n",
    "# print(xMatrix.shape)\n",
    "# print(len(y_trainExtended))"
   ]
  },
  {
   "cell_type": "code",
   "execution_count": 8,
   "metadata": {},
   "outputs": [],
   "source": [
    "model = Pipeline([('pca', PCA()), ('rf', RandomForestClassifier(random_state=42, class_weight='balanced'))])\n",
    "# model = Pipeline([('reduce_dim', PCA()), ('rf', RandomForestClassifier(random_state=42, class_weight='balanced'))])\n"
   ]
  },
  {
   "cell_type": "code",
   "execution_count": 9,
   "metadata": {},
   "outputs": [],
   "source": [
    "xMatrixTest = np.stack([x[:windowLength,:].reshape(-1) for x in X_test])\n"
   ]
  },
  {
   "cell_type": "code",
   "execution_count": 10,
   "metadata": {},
   "outputs": [],
   "source": [
    "fold = StratifiedKFold(10)\n"
   ]
  },
  {
   "cell_type": "code",
   "execution_count": 11,
   "metadata": {},
   "outputs": [
    {
     "name": "stdout",
     "output_type": "stream",
     "text": [
      "(10288, 5570)\n"
     ]
    },
    {
     "data": {
      "text/plain": [
       "RandomizedSearchCV(cv=StratifiedKFold(n_splits=10, random_state=None, shuffle=False),\n",
       "          error_score='raise',\n",
       "          estimator=Pipeline(memory=None,\n",
       "     steps=[('pca', PCA(copy=True, iterated_power='auto', n_components=None, random_state=None,\n",
       "  svd_solver='auto', tol=0.0, whiten=False)), ('rf', RandomForestClassifier(bootstrap=True, class_weight='balanced',\n",
       "            criterion='gini', max_depth=None, max_features='auto',\n",
       "            max_leaf_node...stimators=10, n_jobs=1, oob_score=False, random_state=42,\n",
       "            verbose=0, warm_start=False))]),\n",
       "          fit_params=None, iid=True, n_iter=10, n_jobs=1,\n",
       "          param_distributions={'pca__n_components': <scipy.stats._distn_infrastructure.rv_frozen object at 0x7f4cec4ef150>, 'rf__criterion': ['gini'], 'rf__n_jobs': [-1], 'rf__n_estimators': <scipy.stats._distn_infrastructure.rv_frozen object at 0x7f4cbd0b7110>, 'rf__min_samples_leaf': <scipy.stats._distn_infrastructure.rv_frozen object at 0x7f4cbd0b7210>},\n",
       "          pre_dispatch='2*n_jobs', random_state=None, refit=True,\n",
       "          return_train_score='warn', scoring=make_scorer(accuracy_score),\n",
       "          verbose=0)"
      ]
     },
     "execution_count": 11,
     "metadata": {},
     "output_type": "execute_result"
    }
   ],
   "source": [
    "# parameters = {'pca__n_components': [252], 'rf__n_estimators': [82], 'rf__n_jobs': [-1],\n",
    "#               'rf__min_samples_leaf': [35], 'rf__criterion': ['gini']}\n",
    "metric = metrics.make_scorer(metrics.accuracy_score)\n",
    "# metric = metrics.make_scorer(metrics.precision_score, average='weighted')\n",
    "\n",
    "\n",
    "\n",
    "parameters = {'pca__n_components': sp_randint(10, 500), 'rf__n_estimators': sp_randint(10, 100), 'rf__n_jobs': [-1],\n",
    "              'rf__min_samples_leaf': sp_randint(1, 100), 'rf__criterion': ['gini']}\n",
    "\n",
    "\n",
    "# parameters = {'pca__n_components': sp_randint(10, 200)}\n",
    "\n",
    "gridsearchcv = RandomizedSearchCV(model, parameters, scoring=metric, cv=fold, n_iter=10)\n",
    "\n",
    "print(xMatrixTrainExtended.shape)\n",
    "\n",
    "# gridsearchcv = GridSearchCV(model, parameters, n_jobs=3, cv=fold, scoring=metric)\n",
    "gridsearchcv.fit(xMatrixTrainExtended, y_trainExtended)"
   ]
  },
  {
   "cell_type": "code",
   "execution_count": 12,
   "metadata": {},
   "outputs": [
    {
     "name": "stderr",
     "output_type": "stream",
     "text": [
      "/home/felipe/miniconda2/envs/siemens2.7/lib/python2.7/site-packages/sklearn/utils/deprecation.py:122: FutureWarning: You are accessing a training score ('mean_train_score'), which will not be available by default any more in 0.21. If you need training scores, please set return_train_score=True\n",
      "  warnings.warn(*warn_args, **warn_kwargs)\n",
      "/home/felipe/miniconda2/envs/siemens2.7/lib/python2.7/site-packages/sklearn/utils/deprecation.py:122: FutureWarning: You are accessing a training score ('split0_train_score'), which will not be available by default any more in 0.21. If you need training scores, please set return_train_score=True\n",
      "  warnings.warn(*warn_args, **warn_kwargs)\n",
      "/home/felipe/miniconda2/envs/siemens2.7/lib/python2.7/site-packages/sklearn/utils/deprecation.py:122: FutureWarning: You are accessing a training score ('split1_train_score'), which will not be available by default any more in 0.21. If you need training scores, please set return_train_score=True\n",
      "  warnings.warn(*warn_args, **warn_kwargs)\n",
      "/home/felipe/miniconda2/envs/siemens2.7/lib/python2.7/site-packages/sklearn/utils/deprecation.py:122: FutureWarning: You are accessing a training score ('split2_train_score'), which will not be available by default any more in 0.21. If you need training scores, please set return_train_score=True\n",
      "  warnings.warn(*warn_args, **warn_kwargs)\n",
      "/home/felipe/miniconda2/envs/siemens2.7/lib/python2.7/site-packages/sklearn/utils/deprecation.py:122: FutureWarning: You are accessing a training score ('split3_train_score'), which will not be available by default any more in 0.21. If you need training scores, please set return_train_score=True\n",
      "  warnings.warn(*warn_args, **warn_kwargs)\n",
      "/home/felipe/miniconda2/envs/siemens2.7/lib/python2.7/site-packages/sklearn/utils/deprecation.py:122: FutureWarning: You are accessing a training score ('split4_train_score'), which will not be available by default any more in 0.21. If you need training scores, please set return_train_score=True\n",
      "  warnings.warn(*warn_args, **warn_kwargs)\n",
      "/home/felipe/miniconda2/envs/siemens2.7/lib/python2.7/site-packages/sklearn/utils/deprecation.py:122: FutureWarning: You are accessing a training score ('split5_train_score'), which will not be available by default any more in 0.21. If you need training scores, please set return_train_score=True\n",
      "  warnings.warn(*warn_args, **warn_kwargs)\n",
      "/home/felipe/miniconda2/envs/siemens2.7/lib/python2.7/site-packages/sklearn/utils/deprecation.py:122: FutureWarning: You are accessing a training score ('split6_train_score'), which will not be available by default any more in 0.21. If you need training scores, please set return_train_score=True\n",
      "  warnings.warn(*warn_args, **warn_kwargs)\n",
      "/home/felipe/miniconda2/envs/siemens2.7/lib/python2.7/site-packages/sklearn/utils/deprecation.py:122: FutureWarning: You are accessing a training score ('split7_train_score'), which will not be available by default any more in 0.21. If you need training scores, please set return_train_score=True\n",
      "  warnings.warn(*warn_args, **warn_kwargs)\n",
      "/home/felipe/miniconda2/envs/siemens2.7/lib/python2.7/site-packages/sklearn/utils/deprecation.py:122: FutureWarning: You are accessing a training score ('split8_train_score'), which will not be available by default any more in 0.21. If you need training scores, please set return_train_score=True\n",
      "  warnings.warn(*warn_args, **warn_kwargs)\n",
      "/home/felipe/miniconda2/envs/siemens2.7/lib/python2.7/site-packages/sklearn/utils/deprecation.py:122: FutureWarning: You are accessing a training score ('split9_train_score'), which will not be available by default any more in 0.21. If you need training scores, please set return_train_score=True\n",
      "  warnings.warn(*warn_args, **warn_kwargs)\n",
      "/home/felipe/miniconda2/envs/siemens2.7/lib/python2.7/site-packages/sklearn/utils/deprecation.py:122: FutureWarning: You are accessing a training score ('std_train_score'), which will not be available by default any more in 0.21. If you need training scores, please set return_train_score=True\n",
      "  warnings.warn(*warn_args, **warn_kwargs)\n"
     ]
    },
    {
     "data": {
      "text/plain": [
       "{'mean_fit_time': array([  2.26221404,   5.04060414,   5.11627204,   3.6488157 ,\n",
       "          5.47646999,   8.84273689,   1.64930611,  12.5075052 ,\n",
       "          6.06463246,   7.53174486]),\n",
       " 'mean_score_time': array([ 0.15694287,  0.17305019,  0.17364562,  0.16664994,  0.17420309,\n",
       "         0.20549386,  0.15267997,  0.24516902,  0.18244097,  0.19837503]),\n",
       " 'mean_test_score': array([ 0.97093701,  0.96306376,  0.97569984,  0.97229782,  0.97375583,\n",
       "         0.97054821,  0.97074261,  0.9681182 ,  0.96957621,  0.97443624]),\n",
       " 'mean_train_score': array([ 0.9999136 ,  1.        ,  0.9999352 ,  0.9999676 ,  0.9999892 ,\n",
       "         1.        ,  0.99944918,  1.        ,  0.9999892 ,  1.        ]),\n",
       " 'param_pca__n_components': masked_array(data = [49 193 177 119 184 305 19 419 218 255],\n",
       "              mask = [False False False False False False False False False False],\n",
       "        fill_value = ?),\n",
       " 'param_rf__criterion': masked_array(data = ['gini' 'gini' 'gini' 'gini' 'gini' 'gini' 'gini' 'gini' 'gini' 'gini'],\n",
       "              mask = [False False False False False False False False False False],\n",
       "        fill_value = ?),\n",
       " 'param_rf__min_samples_leaf': masked_array(data = [26 6 73 27 27 6 59 4 14 56],\n",
       "              mask = [False False False False False False False False False False],\n",
       "        fill_value = ?),\n",
       " 'param_rf__n_estimators': masked_array(data = [52 34 30 26 17 62 37 59 17 57],\n",
       "              mask = [False False False False False False False False False False],\n",
       "        fill_value = ?),\n",
       " 'param_rf__n_jobs': masked_array(data = [-1 -1 -1 -1 -1 -1 -1 -1 -1 -1],\n",
       "              mask = [False False False False False False False False False False],\n",
       "        fill_value = ?),\n",
       " 'params': [{'pca__n_components': 49,\n",
       "   'rf__criterion': 'gini',\n",
       "   'rf__min_samples_leaf': 26,\n",
       "   'rf__n_estimators': 52,\n",
       "   'rf__n_jobs': -1},\n",
       "  {'pca__n_components': 193,\n",
       "   'rf__criterion': 'gini',\n",
       "   'rf__min_samples_leaf': 6,\n",
       "   'rf__n_estimators': 34,\n",
       "   'rf__n_jobs': -1},\n",
       "  {'pca__n_components': 177,\n",
       "   'rf__criterion': 'gini',\n",
       "   'rf__min_samples_leaf': 73,\n",
       "   'rf__n_estimators': 30,\n",
       "   'rf__n_jobs': -1},\n",
       "  {'pca__n_components': 119,\n",
       "   'rf__criterion': 'gini',\n",
       "   'rf__min_samples_leaf': 27,\n",
       "   'rf__n_estimators': 26,\n",
       "   'rf__n_jobs': -1},\n",
       "  {'pca__n_components': 184,\n",
       "   'rf__criterion': 'gini',\n",
       "   'rf__min_samples_leaf': 27,\n",
       "   'rf__n_estimators': 17,\n",
       "   'rf__n_jobs': -1},\n",
       "  {'pca__n_components': 305,\n",
       "   'rf__criterion': 'gini',\n",
       "   'rf__min_samples_leaf': 6,\n",
       "   'rf__n_estimators': 62,\n",
       "   'rf__n_jobs': -1},\n",
       "  {'pca__n_components': 19,\n",
       "   'rf__criterion': 'gini',\n",
       "   'rf__min_samples_leaf': 59,\n",
       "   'rf__n_estimators': 37,\n",
       "   'rf__n_jobs': -1},\n",
       "  {'pca__n_components': 419,\n",
       "   'rf__criterion': 'gini',\n",
       "   'rf__min_samples_leaf': 4,\n",
       "   'rf__n_estimators': 59,\n",
       "   'rf__n_jobs': -1},\n",
       "  {'pca__n_components': 218,\n",
       "   'rf__criterion': 'gini',\n",
       "   'rf__min_samples_leaf': 14,\n",
       "   'rf__n_estimators': 17,\n",
       "   'rf__n_jobs': -1},\n",
       "  {'pca__n_components': 255,\n",
       "   'rf__criterion': 'gini',\n",
       "   'rf__min_samples_leaf': 56,\n",
       "   'rf__n_estimators': 57,\n",
       "   'rf__n_jobs': -1}],\n",
       " 'rank_test_score': array([ 5, 10,  1,  4,  3,  7,  6,  9,  8,  2], dtype=int32),\n",
       " 'split0_test_score': array([ 0.99514563,  0.97087379,  1.        ,  0.99902913,  0.98252427,\n",
       "         0.98834951,  1.        ,  0.96019417,  0.99126214,  1.        ]),\n",
       " 'split0_train_score': array([ 1.        ,  1.        ,  0.99989199,  1.        ,  1.        ,\n",
       "         1.        ,  1.        ,  1.        ,  1.        ,  1.        ]),\n",
       " 'split1_test_score': array([ 0.99029126,  0.95339806,  0.96504854,  0.98543689,  0.99029126,\n",
       "         0.95145631,  0.98932039,  0.96699029,  0.97669903,  0.98640777]),\n",
       " 'split1_train_score': array([ 1.        ,  1.        ,  1.        ,  1.        ,  1.        ,\n",
       "         1.        ,  0.99978397,  1.        ,  1.        ,  1.        ]),\n",
       " 'split2_test_score': array([ 1.        ,  0.99805825,  0.99708738,  0.99126214,  1.        ,\n",
       "         0.99902913,  0.99708738,  0.99126214,  0.9961165 ,  1.        ]),\n",
       " 'split2_train_score': array([ 1.        ,  1.        ,  0.99978397,  1.        ,  0.99989199,\n",
       "         1.        ,  0.99870382,  1.        ,  1.        ,  1.        ]),\n",
       " 'split3_test_score': array([ 0.94655005,  0.93100097,  0.94849368,  0.94266278,  0.94752187,\n",
       "         0.93294461,  0.94849368,  0.93002915,  0.93877551,  0.94557823]),\n",
       " 'split3_train_score': array([ 1.      ,  1.      ,  1.      ,  1.      ,  1.      ,  1.      ,\n",
       "         0.999892,  1.      ,  1.      ,  1.      ]),\n",
       " 'split4_test_score': array([ 0.98445092,  0.98347911,  0.98542274,  0.99805637,  0.99222546,\n",
       "         0.98250729,  0.98736638,  0.98153547,  0.97667638,  0.98250729]),\n",
       " 'split4_train_score': array([ 0.99978399,  1.        ,  1.        ,  1.        ,  1.        ,\n",
       "         1.        ,  0.99751593,  1.        ,  1.        ,  1.        ]),\n",
       " 'split5_test_score': array([ 1.        ,  0.97081712,  1.        ,  0.99610895,  0.99610895,\n",
       "         0.98929961,  1.        ,  0.98249027,  0.97957198,  1.        ]),\n",
       " 'split5_train_score': array([ 1.,  1.,  1.,  1.,  1.,  1.,  1.,  1.,  1.,  1.]),\n",
       " 'split6_test_score': array([ 0.99805447,  0.99902724,  0.99902724,  0.99902724,  0.99610895,\n",
       "         0.99319066,  0.99416342,  0.99513619,  0.99124514,  1.        ]),\n",
       " 'split6_train_score': array([ 1.        ,  1.        ,  1.        ,  1.        ,  1.        ,\n",
       "         1.        ,  0.99978402,  1.        ,  0.99989201,  1.        ]),\n",
       " 'split7_test_score': array([ 1.        ,  1.        ,  1.        ,  1.        ,  1.        ,\n",
       "         1.        ,  1.        ,  1.        ,  0.99902724,  1.        ]),\n",
       " 'split7_train_score': array([ 1.        ,  1.        ,  0.99989201,  1.        ,  1.        ,\n",
       "         1.        ,  0.99989201,  1.        ,  1.        ,  1.        ]),\n",
       " 'split8_test_score': array([ 1.,  1.,  1.,  1.,  1.,  1.,  1.,  1.,  1.,  1.]),\n",
       " 'split8_train_score': array([ 1.        ,  1.        ,  0.99989201,  1.        ,  1.        ,\n",
       "         1.        ,  0.99967603,  1.        ,  1.        ,  1.        ]),\n",
       " 'split9_test_score': array([ 0.79474708,  0.82392996,  0.8618677 ,  0.81128405,  0.83268482,\n",
       "         0.86867704,  0.79085603,  0.87354086,  0.8463035 ,  0.82976654]),\n",
       " 'split9_train_score': array([ 0.99935205,  1.        ,  0.99989201,  0.99967603,  1.        ,\n",
       "         1.        ,  0.99924406,  1.        ,  1.        ,  1.        ]),\n",
       " 'std_fit_time': array([ 0.30985656,  0.64499901,  0.49219102,  0.59552446,  1.07824827,\n",
       "         1.14491694,  0.18835934,  1.74963058,  1.08254661,  1.49387826]),\n",
       " 'std_score_time': array([ 0.01322009,  0.01389463,  0.01069755,  0.0086197 ,  0.01607007,\n",
       "         0.02241784,  0.0085884 ,  0.04491893,  0.01333056,  0.01063231]),\n",
       " 'std_test_score': array([ 0.06072104,  0.05123259,  0.04154412,  0.05613348,  0.04932582,\n",
       "         0.04002299,  0.06173898,  0.03759861,  0.04446465,  0.05086763]),\n",
       " 'std_train_score': array([  1.97952961e-04,   0.00000000e+00,   7.16446200e-05,\n",
       "          9.71922246e-05,   3.24044070e-05,   0.00000000e+00,\n",
       "          7.48981515e-04,   0.00000000e+00,   3.23974082e-05,\n",
       "          0.00000000e+00])}"
      ]
     },
     "execution_count": 12,
     "metadata": {},
     "output_type": "execute_result"
    }
   ],
   "source": [
    "gridsearchcv.cv_results_"
   ]
  },
  {
   "cell_type": "code",
   "execution_count": 13,
   "metadata": {},
   "outputs": [
    {
     "name": "stdout",
     "output_type": "stream",
     "text": [
      "{'pca__n_components': 177, 'rf__n_jobs': -1, 'rf__criterion': 'gini', 'rf__n_estimators': 30, 'rf__min_samples_leaf': 73}\n",
      "(array([ 0.97093701,  0.96306376,  0.97569984,  0.97229782,  0.97375583,\n",
      "        0.97054821,  0.97074261,  0.9681182 ,  0.96957621,  0.97443624]), array([ 0.06072104,  0.05123259,  0.04154412,  0.05613348,  0.04932582,\n",
      "        0.04002299,  0.06173898,  0.03759861,  0.04446465,  0.05086763]))\n",
      "Confusion matrix, without normalization\n",
      "[[ 965  201]\n",
      " [   9 3633]]\n"
     ]
    },
    {
     "data": {
      "image/png": "[encoded data removed]",
      "text/plain": [
       "<matplotlib.figure.Figure at 0x7f4cbc842cd0>"
      ]
     },
     "metadata": {},
     "output_type": "display_data"
    }
   ],
   "source": [
    "best_n_components = gridsearchcv.best_params_['pca__n_components']\n",
    "\n",
    "xMatrixTestExtended,y_testExtended = increase_samples(X_test, windowLength, 1, y_test)\n",
    "xMatrixUnknownExtended,_ = increase_samples(X_unknown, windowLength, 1)\n",
    "\n",
    "print(gridsearchcv.best_params_)\n",
    "means = gridsearchcv.cv_results_['mean_test_score']\n",
    "stds = gridsearchcv.cv_results_['std_test_score']\n",
    "\n",
    "print(means,stds)\n",
    "# print(zip(gridsearchcv.best_estimator_.predict_proba(xMatrixTestExtended), np.array(y_testExtended)))\n",
    "acc = metrics.accuracy_score(y_testExtended, gridsearchcv.best_estimator_.predict(xMatrixTestExtended))\n",
    "F1 = metrics.f1_score(y_testExtended, gridsearchcv.best_estimator_.predict(xMatrixTestExtended), average='weighted')\n",
    "prec = metrics.precision_score(y_testExtended, gridsearchcv.best_estimator_.predict(xMatrixTestExtended), average='weighted')\n",
    "\n",
    "confusionMatrix = metrics.confusion_matrix(y_testExtended, gridsearchcv.best_estimator_.predict(xMatrixTestExtended))\n",
    "\n",
    "plt.figure()\n",
    "plot_confusion_matrix(confusionMatrix,normalize=False, classes=['F', 'DEH'])\n",
    "# print(np.max(resultsTest,axis=1))\n"
   ]
  },
  {
   "cell_type": "code",
   "execution_count": 14,
   "metadata": {},
   "outputs": [
    {
     "data": {
      "image/png": "[encoded data removed]",
      "text/plain": [
       "<matplotlib.figure.Figure at 0x7f4ca0fc2250>"
      ]
     },
     "metadata": {},
     "output_type": "display_data"
    },
    {
     "data": {
      "image/png": "[encoded data removed]",
      "text/plain": [
       "<matplotlib.figure.Figure at 0x7f4cbc763090>"
      ]
     },
     "metadata": {},
     "output_type": "display_data"
    },
    {
     "name": "stdout",
     "output_type": "stream",
     "text": [
      "[[ 0.27312679  0.72687321]\n",
      " [ 0.19601334  0.80398666]\n",
      " [ 0.18922507  0.81077493]\n",
      " [ 0.19181767  0.80818233]\n",
      " [ 0.20466144  0.79533856]\n",
      " [ 0.18029152  0.81970848]\n",
      " [ 0.19502821  0.80497179]\n",
      " [ 0.22153543  0.77846457]\n",
      " [ 0.23246352  0.76753648]\n",
      " [ 0.27013551  0.72986449]\n",
      " [ 0.28699058  0.71300942]\n",
      " [ 0.27426267  0.72573733]\n",
      " [ 0.26280675  0.73719325]\n",
      " [ 0.26607596  0.73392404]\n",
      " [ 0.26543427  0.73456573]\n",
      " [ 0.30865212  0.69134788]\n",
      " [ 0.30987916  0.69012084]\n",
      " [ 0.31154973  0.68845027]\n",
      " [ 0.27393807  0.72606193]\n",
      " [ 0.24280779  0.75719221]]\n"
     ]
    }
   ],
   "source": [
    "resultsTestProb = gridsearchcv.best_estimator_.predict_proba(xMatrixTestExtended)\n",
    "resultsTest = gridsearchcv.best_estimator_.predict(xMatrixTestExtended)\n",
    "resultsTrainProb = gridsearchcv.best_estimator_.predict_proba(xMatrixTrainExtended)\n",
    "\n",
    "\n",
    "# print(resultsTestProb)\n",
    "# print()\n",
    "resultsUnknown = gridsearchcv.best_estimator_.predict_proba(xMatrixUnknownExtended)\n",
    "\n",
    "# print(resultsUnknown)\n",
    "\n",
    "x = np.abs(resultsTest - y_testExtended)\n",
    "# print(np.where(x !=0))\n",
    "\n",
    "aux2 = np.array(resultsTestProb)\n",
    "aux3 = np.array(y_testExtended)\n",
    "\n",
    "indexA = (aux3 == 0) \n",
    "indexB = (aux3 == 1) & (x == 0)\n",
    "indexC = (aux3 == 2) & (x == 0)\n",
    "indexH = (aux3 == 3) & (x == 0)\n",
    "\n",
    "# print(indexA)\n",
    "\n",
    "\n",
    "acertos_A = resultsTestProb[indexA,0]\n",
    "acertos_B = resultsTestProb[indexB,1]\n",
    "\n",
    "index = np.where(x == 0)\n",
    "\n",
    "\n",
    "aux = aux2[np.where(x==0),aux3[np.where(x==0)]]\n",
    "plt.figure()\n",
    "plt.hist(resultsTestProb[indexA,0], bins=50, facecolor='blue', alpha=0.75)\n",
    "plt.show()\n",
    "\n",
    "plt.figure()\n",
    "plt.hist(resultsUnknown[:,1], 50, facecolor='blue', alpha=0.75)\n",
    "plt.show()\n",
    "\n",
    "print(resultsUnknown[:20,:])"
   ]
  },
  {
   "cell_type": "code",
   "execution_count": 15,
   "metadata": {},
   "outputs": [],
   "source": [
    "dictionary = {'acc': acc, 'f1': F1, 'prec': prec, 'mean_test_score': means, 'std_test_score': stds, \n",
    "              'confMatrix': confusionMatrix, 'bestParams': gridsearchcv.best_params_, 'testData': xMatrixTestExtended,\n",
    "             'testLabels': y_testExtended}\n",
    "\n",
    "sio.savemat('results_class3_line.mat', dictionary)\n",
    "\n",
    "pickle.dump( gridsearchcv, open( \"model_class3_line.p\", \"wb\" ) )"
   ]
  }
 ],
 "metadata": {
  "kernelspec": {
   "display_name": "Python 2",
   "language": "python",
   "name": "python2"
  },
  "language_info": {
   "codemirror_mode": {
    "name": "ipython",
    "version": 2
   },
   "file_extension": ".py",
   "mimetype": "text/x-python",
   "name": "python",
   "nbconvert_exporter": "python",
   "pygments_lexer": "ipython2",
   "version": "2.7.14"
  }
 },
 "nbformat": 4,
 "nbformat_minor": 2
}
