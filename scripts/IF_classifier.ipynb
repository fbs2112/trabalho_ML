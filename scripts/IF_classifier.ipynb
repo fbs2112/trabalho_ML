{
 "cells": [
  {
   "cell_type": "code",
   "execution_count": 1,
   "metadata": {},
   "outputs": [],
   "source": [
    "from six.moves import cPickle as pickle\n",
    "\n",
    "import sys\n",
    "# reload(sys)\n",
    "# sys.setdefaultencoding('utf-8')\n",
    "\n",
    "import os as os\n",
    "import fnmatch\n",
    "import argparse\n",
    "import pathlib\n",
    "import time\n",
    "\n",
    "import numpy as np\n",
    "if \"DISPLAY\" not in os.environ:\n",
    "    mpl.use('Agg')\n",
    "import matplotlib.pyplot as plt\n",
    "import seaborn as sns\n",
    "import pandas as pd\n",
    "\n",
    "import scipy.io as sio\n",
    "import glob \n",
    "\n",
    "from sklearn.preprocessing import LabelEncoder\n",
    "from sklearn.decomposition import PCA\n",
    "from sklearn.model_selection import GridSearchCV\n",
    "from sklearn.model_selection import KFold  # k-fold cross validation\n",
    "from sklearn.preprocessing import StandardScaler  # data normalization\n",
    "from sklearn.ensemble import IsolationForest  # random forest model\n",
    "from sklearn.pipeline import Pipeline # model pipeline\n",
    "from sklearn.model_selection import train_test_split\n",
    "from sklearn import metrics, tree\n",
    "\n",
    "%reload_ext autoreload\n",
    "\n",
    "%matplotlib inline\n",
    "plt.rcParams['figure.figsize'] = (10.0, 8.0) # set default size of plots\n",
    "plt.rcParams['image.interpolation'] = 'nearest'\n",
    "plt.rcParams['image.cmap'] = 'gray'\n",
    "plt.rc('text', usetex=True)\n",
    "plt.rc('font', family='times')\n",
    "\n",
    "plt.rcParams.update({'font.size': 22})\n",
    "# for auto-reloading external modules\n",
    "# see http://stackoverflow.com/questions/1907993/autoreload-of-modules-in-ipython\n",
    "%reload_ext autoreload\n",
    "%autoreload 2\n",
    "\n"
   ]
  },
  {
   "cell_type": "code",
   "execution_count": 2,
   "metadata": {},
   "outputs": [
    {
     "name": "stdout",
     "output_type": "stream",
     "text": [
      "29\n"
     ]
    }
   ],
   "source": [
    "knownNames = glob.glob(\"../dataset/Dados_SONAR/[A-CH]*.mat\")\n",
    "\n",
    "unknownNames = glob.glob(\"../dataset/Dados_SONAR/[DEFG]*.mat\")\n",
    "\n",
    "X = [sio.loadmat(x)['ent_norm'] for x in knownNames]\n",
    "Y = [x.split('/')[-1][0] for x in knownNames]\n",
    "X2 = [sio.loadmat(x)['ent_norm'] for x in unknownNames]\n",
    "# print(X)\n",
    "\n",
    "minLengthVector = [np.shape(x)[0] for x in X]\n",
    "minLengthKnown = int(np.min(minLengthVector))\n",
    "\n",
    "minLengthVector = [np.shape(x)[0] for x in X2]\n",
    "minLengthUnknown = int(np.min(minLengthVector))\n",
    "\n",
    "minLength = np.minimum(minLengthKnown, minLengthUnknown)\n",
    "print(minLength)\n",
    "\n",
    "\n",
    "\n",
    "# le = LabelEncoder()\n",
    "# target = le.fit_transform(Y)\n",
    "\n",
    "target = np.ones(len(X))\n",
    "\n",
    "# minLength = np.zeros(len(names))\n",
    "\n",
    "# for i in range(len(names)):\n",
    "#     x = sio.loadmat(str(names[i]))\n",
    "#     y = x[\"ent_norm\"]\n",
    "#     minLength[i] = np.shape(y)[0]\n",
    "# print(np.min(minLength))"
   ]
  },
  {
   "cell_type": "code",
   "execution_count": 3,
   "metadata": {},
   "outputs": [],
   "source": [
    "xMatrix = np.stack([x[:minLength,:].reshape(-1) for x in X])\n",
    "\n",
    "xMatrix2 = np.stack([x[:minLength,:].reshape(-1) for x in X2])\n",
    "\n",
    "X_train, X_test, y_train, y_test = train_test_split(xMatrix, target, test_size=0.3, random_state=42)\n",
    "\n",
    "# pca = PCA(10)\n",
    "# X_train = pca.fit_transform(X_train)\n",
    "# X_test = pca.fit_transform(X_test)\n",
    "\n",
    "model = Pipeline([('pca', PCA()), ('if', IsolationForest(random_state=42, n_jobs=-1))])\n"
   ]
  },
  {
   "cell_type": "code",
   "execution_count": 4,
   "metadata": {},
   "outputs": [],
   "source": [
    "fold = KFold(5)"
   ]
  },
  {
   "cell_type": "code",
   "execution_count": 5,
   "metadata": {},
   "outputs": [],
   "source": [
    "def test(estimator, X_test, **kwargs):\n",
    "    anomalies = estimator.predict(X_test)\n",
    "    return np.sum(anomalies)\n",
    "    "
   ]
  },
  {
   "cell_type": "code",
   "execution_count": 11,
   "metadata": {},
   "outputs": [
    {
     "name": "stderr",
     "output_type": "stream",
     "text": [
      "/home/felipe/miniconda2/envs/siemens2.7/lib/python2.7/site-packages/sklearn/externals/joblib/parallel.py:547: UserWarning: Multiprocessing-backed parallel loops cannot be nested, setting n_jobs=1\n",
      "  **self._backend_args)\n",
      "/home/felipe/miniconda2/envs/siemens2.7/lib/python2.7/site-packages/sklearn/externals/joblib/parallel.py:547: UserWarning: Multiprocessing-backed parallel loops cannot be nested, setting n_jobs=1\n",
      "  **self._backend_args)\n",
      "/home/felipe/miniconda2/envs/siemens2.7/lib/python2.7/site-packages/sklearn/externals/joblib/parallel.py:547: UserWarning: Multiprocessing-backed parallel loops cannot be nested, setting n_jobs=1\n",
      "  **self._backend_args)\n"
     ]
    },
    {
     "data": {
      "text/plain": [
       "GridSearchCV(cv=KFold(n_splits=5, random_state=None, shuffle=False),\n",
       "       error_score='raise',\n",
       "       estimator=Pipeline(memory=None,\n",
       "     steps=[('pca', PCA(copy=True, iterated_power='auto', n_components=None, random_state=None,\n",
       "  svd_solver='auto', tol=0.0, whiten=False)), ('if', IsolationForest(bootstrap=False, contamination=0.1, max_features=1.0,\n",
       "        max_samples='auto', n_estimators=100, n_jobs=-1, random_state=42,\n",
       "        verbose=0))]),\n",
       "       fit_params=None, iid=True, n_jobs=3,\n",
       "       param_grid={'pca__n_components': [50, 100], 'if__n_estimators': [10, 50, 100], 'if__contamination': [0, 0.1, 0.2, 0.3]},\n",
       "       pre_dispatch='2*n_jobs', refit=True, return_train_score='warn',\n",
       "       scoring=make_scorer(homogeneity_score), verbose=0)"
      ]
     },
     "execution_count": 11,
     "metadata": {},
     "output_type": "execute_result"
    }
   ],
   "source": [
    "# f1sc = test\n",
    "f1sc = metrics.make_scorer(metrics.homogeneity_score)\n",
    "parameters = {'pca__n_components': [50, 100], 'if__n_estimators': [10, 50, 100], \n",
    "              'if__contamination': [0]}\n",
    "gridsearchcv = GridSearchCV(model, parameters, n_jobs=3, scoring=f1sc, cv=fold)\n",
    "gridsearchcv.fit(X_train, y_train)"
   ]
  },
  {
   "cell_type": "code",
   "execution_count": 14,
   "metadata": {},
   "outputs": [
    {
     "name": "stderr",
     "output_type": "stream",
     "text": [
      "/home/felipe/miniconda2/envs/siemens2.7/lib/python2.7/site-packages/sklearn/model_selection/_search.py:761: DeprecationWarning: The grid_scores_ attribute was deprecated in version 0.18 in favor of the more elaborate cv_results_ attribute. The grid_scores_ attribute will not be available from 0.20\n",
      "  DeprecationWarning)\n"
     ]
    },
    {
     "data": {
      "text/plain": [
       "[mean: 1.00000, std: 0.00000, params: {'pca__n_components': 50, 'if__n_estimators': 10, 'if__contamination': 0},\n",
       " mean: 1.00000, std: 0.00000, params: {'pca__n_components': 100, 'if__n_estimators': 10, 'if__contamination': 0},\n",
       " mean: 1.00000, std: 0.00000, params: {'pca__n_components': 50, 'if__n_estimators': 50, 'if__contamination': 0},\n",
       " mean: 1.00000, std: 0.00000, params: {'pca__n_components': 100, 'if__n_estimators': 50, 'if__contamination': 0},\n",
       " mean: 1.00000, std: 0.00000, params: {'pca__n_components': 50, 'if__n_estimators': 100, 'if__contamination': 0},\n",
       " mean: 1.00000, std: 0.00000, params: {'pca__n_components': 100, 'if__n_estimators': 100, 'if__contamination': 0},\n",
       " mean: 1.00000, std: 0.00000, params: {'pca__n_components': 50, 'if__n_estimators': 10, 'if__contamination': 0.1},\n",
       " mean: 1.00000, std: 0.00000, params: {'pca__n_components': 100, 'if__n_estimators': 10, 'if__contamination': 0.1},\n",
       " mean: 1.00000, std: 0.00000, params: {'pca__n_components': 50, 'if__n_estimators': 50, 'if__contamination': 0.1},\n",
       " mean: 1.00000, std: 0.00000, params: {'pca__n_components': 100, 'if__n_estimators': 50, 'if__contamination': 0.1},\n",
       " mean: 1.00000, std: 0.00000, params: {'pca__n_components': 50, 'if__n_estimators': 100, 'if__contamination': 0.1},\n",
       " mean: 1.00000, std: 0.00000, params: {'pca__n_components': 100, 'if__n_estimators': 100, 'if__contamination': 0.1},\n",
       " mean: 1.00000, std: 0.00000, params: {'pca__n_components': 50, 'if__n_estimators': 10, 'if__contamination': 0.2},\n",
       " mean: 1.00000, std: 0.00000, params: {'pca__n_components': 100, 'if__n_estimators': 10, 'if__contamination': 0.2},\n",
       " mean: 1.00000, std: 0.00000, params: {'pca__n_components': 50, 'if__n_estimators': 50, 'if__contamination': 0.2},\n",
       " mean: 1.00000, std: 0.00000, params: {'pca__n_components': 100, 'if__n_estimators': 50, 'if__contamination': 0.2},\n",
       " mean: 1.00000, std: 0.00000, params: {'pca__n_components': 50, 'if__n_estimators': 100, 'if__contamination': 0.2},\n",
       " mean: 1.00000, std: 0.00000, params: {'pca__n_components': 100, 'if__n_estimators': 100, 'if__contamination': 0.2},\n",
       " mean: 1.00000, std: 0.00000, params: {'pca__n_components': 50, 'if__n_estimators': 10, 'if__contamination': 0.3},\n",
       " mean: 1.00000, std: 0.00000, params: {'pca__n_components': 100, 'if__n_estimators': 10, 'if__contamination': 0.3},\n",
       " mean: 1.00000, std: 0.00000, params: {'pca__n_components': 50, 'if__n_estimators': 50, 'if__contamination': 0.3},\n",
       " mean: 1.00000, std: 0.00000, params: {'pca__n_components': 100, 'if__n_estimators': 50, 'if__contamination': 0.3},\n",
       " mean: 1.00000, std: 0.00000, params: {'pca__n_components': 50, 'if__n_estimators': 100, 'if__contamination': 0.3},\n",
       " mean: 1.00000, std: 0.00000, params: {'pca__n_components': 100, 'if__n_estimators': 100, 'if__contamination': 0.3}]"
      ]
     },
     "execution_count": 14,
     "metadata": {},
     "output_type": "execute_result"
    }
   ],
   "source": [
    "gridsearchcv.grid_scores_"
   ]
  },
  {
   "cell_type": "code",
   "execution_count": 13,
   "metadata": {},
   "outputs": [
    {
     "name": "stdout",
     "output_type": "stream",
     "text": [
      "{'pca__n_components': 50, 'if__n_estimators': 10, 'if__contamination': 0}\n",
      "[1 1 1 1 1 1 1 1 1 1 1 1 1 1 1 1 1 1 1 1 1 1 1 1 1 1 1 1 1 1 1 1 1 1 1 1 1\n",
      " 1 1 1 1 1 1 1 1 1 1 1 1 1 1 1 1 1 1 1 1 1 1 1 1 1 1 1 1 1 1 1 1 1 1 1 1 1\n",
      " 1 1 1 1 1 1 1 1 1 1 1 1 1 1 1 1 1 1 1 1 1 1 1 1 1 1 1 1 1 1 1 1 1 1 1 1 1\n",
      " 1 1 1 1 1 1 1 1 1 1 1 1 1 1 1 1 1 1 1 1 1 1 1 1 1 1 1 1 1 1]\n"
     ]
    }
   ],
   "source": [
    "print(gridsearchcv.best_params_)\n",
    "\n",
    "metrics.accuracy_score(y_test, gridsearchcv.best_estimator_.predict(X_test))\n",
    "# metrics.accuracy_score(y_test, gridsearchcv.best_estimator_.predict(X_test))\n",
    "\n",
    "# gridsearchcv.best_estimator_predict(X2)\n",
    "\n",
    "\n",
    "print(gridsearchcv.best_estimator_.predict(xMatrix2))\n"
   ]
  },
  {
   "cell_type": "code",
   "execution_count": null,
   "metadata": {},
   "outputs": [],
   "source": []
  }
 ],
 "metadata": {
  "kernelspec": {
   "display_name": "Python 2",
   "language": "python",
   "name": "python2"
  },
  "language_info": {
   "codemirror_mode": {
    "name": "ipython",
    "version": 2
   },
   "file_extension": ".py",
   "mimetype": "text/x-python",
   "name": "python",
   "nbconvert_exporter": "python",
   "pygments_lexer": "ipython2",
   "version": "2.7.14"
  }
 },
 "nbformat": 4,
 "nbformat_minor": 2
}
