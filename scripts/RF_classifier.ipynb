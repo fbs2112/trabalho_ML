{
 "cells": [
  {
   "cell_type": "code",
   "execution_count": 1,
   "metadata": {},
   "outputs": [],
   "source": [
    "from six.moves import cPickle as pickle\n",
    "\n",
    "import sys\n",
    "# reload(sys)\n",
    "# sys.setdefaultencoding('utf-8')\n",
    "\n",
    "import os as os\n",
    "import fnmatch\n",
    "import argparse\n",
    "import pathlib\n",
    "import time\n",
    "import itertools\n",
    "\n",
    "import numpy as np\n",
    "if \"DISPLAY\" not in os.environ:\n",
    "    mpl.use('Agg')\n",
    "import matplotlib.pyplot as plt\n",
    "import seaborn as sns\n",
    "import pandas as pd\n",
    "\n",
    "import scipy.io as sio\n",
    "import glob \n",
    "\n",
    "from scipy.stats import randint as sp_randint\n",
    "from sklearn.preprocessing import LabelEncoder\n",
    "from sklearn.decomposition import PCA\n",
    "from sklearn.model_selection import GridSearchCV\n",
    "from sklearn.model_selection import RandomizedSearchCV\n",
    "from sklearn.model_selection import KFold  # k-fold cross validation StratifiedKFold\n",
    "from sklearn.model_selection import StratifiedKFold\n",
    "from sklearn.preprocessing import StandardScaler  # data normalization\n",
    "from sklearn import svm\n",
    "from sklearn.ensemble import RandomForestClassifier  # random forest model\n",
    "from sklearn.pipeline import Pipeline # model pipeline\n",
    "from sklearn.model_selection import train_test_split\n",
    "from sklearn import metrics\n",
    "from sklearn.metrics import make_scorer\n",
    "\n",
    "\n",
    "%reload_ext autoreload\n",
    "\n",
    "%matplotlib inline\n",
    "plt.rcParams['figure.figsize'] = (10.0, 8.0) # set default size of plots\n",
    "plt.rcParams['image.interpolation'] = 'nearest'\n",
    "plt.rcParams['image.cmap'] = 'gray'\n",
    "plt.rc('text', usetex=True)\n",
    "plt.rc('font', family='times')\n",
    "\n",
    "plt.rcParams.update({'font.size': 22})\n",
    "# for auto-reloading external modules\n",
    "# see http://stackoverflow.com/questions/1907993/autoreload-of-modules-in-ipython\n",
    "%reload_ext autoreload\n",
    "%autoreload 2\n",
    "\n"
   ]
  },
  {
   "cell_type": "code",
   "execution_count": 2,
   "metadata": {},
   "outputs": [],
   "source": [
    "def plot_confusion_matrix(cm, classes,\n",
    "                          normalize=False,\n",
    "                          title='Confusion matrix',\n",
    "                          cmap=plt.cm.Blues):\n",
    "    \"\"\"\n",
    "    This function prints and plots the confusion matrix.\n",
    "    Normalization can be applied by setting `normalize=True`.\n",
    "    \"\"\"\n",
    "    if normalize:\n",
    "        cm = cm.astype('float') / cm.sum(axis=1)[:, np.newaxis]\n",
    "        print(\"Normalized confusion matrix\")\n",
    "    else:\n",
    "        print('Confusion matrix, without normalization')\n",
    "\n",
    "    print(cm)\n",
    "\n",
    "    plt.imshow(cm, interpolation='nearest', cmap=cmap)\n",
    "    plt.title(title)\n",
    "    plt.colorbar()\n",
    "    tick_marks = np.arange(len(classes))\n",
    "    plt.xticks(tick_marks, classes, rotation=45)\n",
    "    plt.yticks(tick_marks, classes)\n",
    "\n",
    "    fmt = '.2f' if normalize else 'd'\n",
    "    thresh = cm.max() / 2.\n",
    "    for i, j in itertools.product(range(cm.shape[0]), range(cm.shape[1])):\n",
    "        plt.text(j, i, format(cm[i, j], fmt),\n",
    "                 horizontalalignment=\"center\",\n",
    "                 color=\"white\" if cm[i, j] > thresh else \"black\")\n",
    "\n",
    "    plt.tight_layout()\n",
    "    plt.ylabel('True label')\n",
    "    plt.xlabel('Predicted label')"
   ]
  },
  {
   "cell_type": "code",
   "execution_count": 3,
   "metadata": {},
   "outputs": [
    {
     "name": "stdout",
     "output_type": "stream",
     "text": [
      "[0 0 0 0 0 0 0 0 0 0 0 0 0 0 0 0 0 0 0 0 0 1 1 1 1 1 1 1 1 1 1 1 1 1 1 1 1\n",
      " 1 1 1 1 3 3 3 3 3 3 3 3 3 3 3 3 3 3 3 3 3 3 3 3 3 3 3 3 3 3 3 3 3 3 0 1 2\n",
      " 2 3 2 2 2 2 2 2 2 2 2 2 2 2 2 2 2 2 2 2 2 2 2 2 2 2 2 2 2 2 2 2 1 1 1 1 1\n",
      " 2 2 2 2 2 2 2 2 2 2 2]\n"
     ]
    }
   ],
   "source": [
    "\n",
    "knownNames = glob.glob(\"../dataset/Dados_SONAR/[A-CH]*.mat\")\n",
    "\n",
    "unknownNames = glob.glob(\"../dataset/Dados_SONAR/[DEFG]*.mat\")\n",
    "\n",
    "X = [sio.loadmat(x)['ent_norm'] for x in knownNames]\n",
    "Y = [(x.split('/')[-1][0]) for x in knownNames]\n",
    "\n",
    "\n",
    "X2 = [sio.loadmat(x)['ent_norm'] for x in unknownNames]\n",
    "# print(X)\n",
    "\n",
    "minLengthVector = [np.shape(x)[0] for x in X]\n",
    "minLengthKnown = int(np.min(minLengthVector))\n",
    "\n",
    "minLengthVector = [np.shape(x)[0] for x in X2]\n",
    "minLengthUnknown = int(np.min(minLengthVector))\n",
    "\n",
    "minLength = np.minimum(minLengthKnown, minLengthUnknown)\n",
    "\n",
    "le = LabelEncoder()\n",
    "target = le.fit_transform(Y)\n",
    "\n",
    "print(target)\n",
    "\n",
    "\n",
    "\n",
    "# minLength = np.zeros(len(names))\n",
    "\n",
    "# for i in range(len(names)):\n",
    "#     x = sio.loadmat(str(names[i]))\n",
    "#     y = x[\"ent_norm\"]\n",
    "#     minLength[i] = np.shape(y)[0]\n",
    "# print(np.min(minLength))"
   ]
  },
  {
   "cell_type": "code",
   "execution_count": 4,
   "metadata": {},
   "outputs": [
    {
     "name": "stdout",
     "output_type": "stream",
     "text": [
      "(122, 31749)\n",
      "(122,)\n"
     ]
    }
   ],
   "source": [
    "xMatrix = np.stack([x[:minLengthKnown,:].reshape(-1) for x in X])\n",
    "# xMatrix2 = np.stack([x[:minLength,:].reshape(-1) for x in X2])\n",
    "\n",
    "\n",
    "print(xMatrix.shape)\n",
    "\n",
    "print(target.shape)\n",
    "# xMatrix = np.stack([x.reshape(-1) for x in X])\n",
    "\n",
    "\n",
    "X_train, X_test, y_train, y_test = train_test_split(xMatrix, target, test_size=0.3, random_state=42)\n",
    "\n",
    "# pca = PCA(10)\n",
    "# X_train = pca.fit_transform(X_train)\n",
    "# X_test = pca.fit_transform(X_test)\n",
    "\n",
    "model = Pipeline([('pca', PCA()), ('rf', RandomForestClassifier(random_state=42, class_weight='balanced'))])\n",
    "# model = Pipeline([('pca', PCA()), ('svm', svm.LinearSVC())])\n"
   ]
  },
  {
   "cell_type": "code",
   "execution_count": 5,
   "metadata": {},
   "outputs": [],
   "source": [
    "fold = StratifiedKFold(5)\n"
   ]
  },
  {
   "cell_type": "code",
   "execution_count": 6,
   "metadata": {},
   "outputs": [
    {
     "data": {
      "text/plain": [
       "RandomizedSearchCV(cv=StratifiedKFold(n_splits=5, random_state=None, shuffle=False),\n",
       "          error_score='raise',\n",
       "          estimator=Pipeline(memory=None,\n",
       "     steps=[('pca', PCA(copy=True, iterated_power='auto', n_components=None, random_state=None,\n",
       "  svd_solver='auto', tol=0.0, whiten=False)), ('rf', RandomForestClassifier(bootstrap=True, class_weight='balanced',\n",
       "            criterion='gini', max_depth=None, max_features='auto',\n",
       "            max_leaf_node...stimators=10, n_jobs=1, oob_score=False, random_state=42,\n",
       "            verbose=0, warm_start=False))]),\n",
       "          fit_params=None, iid=True, n_iter=20, n_jobs=1,\n",
       "          param_distributions={'pca__n_components': <scipy.stats._distn_infrastructure.rv_frozen object at 0x7fd370ee5290>, 'rf__criterion': ['gini'], 'rf__n_jobs': [-1], 'rf__n_estimators': <scipy.stats._distn_infrastructure.rv_frozen object at 0x7fd3422ab050>, 'rf__min_samples_leaf': <scipy.stats._distn_infrastructure.rv_frozen object at 0x7fd3422ab090>},\n",
       "          pre_dispatch='2*n_jobs', random_state=None, refit=True,\n",
       "          return_train_score='warn', scoring=make_scorer(accuracy_score),\n",
       "          verbose=0)"
      ]
     },
     "execution_count": 6,
     "metadata": {},
     "output_type": "execute_result"
    }
   ],
   "source": [
    "# parameters = {'pca__n_components': [10, 20, 30], 'rf__n_estimators': [10, 50, 100], 'rf__n_jobs': [-1],\n",
    "#               'rf__min_samples_leaf': [1, 10, 20, 30], 'rf__criterion': ['gini'], 'rf__max_depth': [3, 6, 9 , None]}\n",
    "metric = metrics.make_scorer(metrics.accuracy_score)\n",
    "parameters = {'pca__n_components': sp_randint(10, 200), 'rf__n_estimators': sp_randint(10, 100), 'rf__n_jobs': [-1],\n",
    "              'rf__min_samples_leaf': sp_randint(1, 100), 'rf__criterion': ['gini']}\n",
    "\n",
    "# parameters = {'pca__n_components': sp_randint(10, 200)}\n",
    "\n",
    "gridsearchcv = RandomizedSearchCV(model, parameters, scoring=metric, cv=fold, n_iter=20)\n",
    "\n",
    "# gridsearchcv = GridSearchCV(model, parameters, n_jobs=3, cv=fold, scoring='f1score')\n",
    "gridsearchcv.fit(X_train, y_train)"
   ]
  },
  {
   "cell_type": "code",
   "execution_count": 7,
   "metadata": {},
   "outputs": [
    {
     "name": "stderr",
     "output_type": "stream",
     "text": [
      "/home/felipe/miniconda2/envs/siemens2.7/lib/python2.7/site-packages/sklearn/model_selection/_search.py:761: DeprecationWarning: The grid_scores_ attribute was deprecated in version 0.18 in favor of the more elaborate cv_results_ attribute. The grid_scores_ attribute will not be available from 0.20\n",
      "  DeprecationWarning)\n"
     ]
    },
    {
     "data": {
      "text/plain": [
       "[mean: 0.23529, std: 0.07983, params: {'pca__n_components': 79, 'rf__n_jobs': -1, 'rf__criterion': 'gini', 'rf__n_estimators': 43, 'rf__min_samples_leaf': 45},\n",
       " mean: 0.21176, std: 0.08088, params: {'pca__n_components': 136, 'rf__n_jobs': -1, 'rf__criterion': 'gini', 'rf__n_estimators': 58, 'rf__min_samples_leaf': 87},\n",
       " mean: 0.22353, std: 0.03579, params: {'pca__n_components': 137, 'rf__n_jobs': -1, 'rf__criterion': 'gini', 'rf__n_estimators': 19, 'rf__min_samples_leaf': 55},\n",
       " mean: 0.69412, std: 0.02848, params: {'pca__n_components': 13, 'rf__n_jobs': -1, 'rf__criterion': 'gini', 'rf__n_estimators': 43, 'rf__min_samples_leaf': 18},\n",
       " mean: 0.75294, std: 0.04216, params: {'pca__n_components': 15, 'rf__n_jobs': -1, 'rf__criterion': 'gini', 'rf__n_estimators': 89, 'rf__min_samples_leaf': 18},\n",
       " mean: 0.21176, std: 0.08088, params: {'pca__n_components': 141, 'rf__n_jobs': -1, 'rf__criterion': 'gini', 'rf__n_estimators': 45, 'rf__min_samples_leaf': 88},\n",
       " mean: 0.28235, std: 0.07913, params: {'pca__n_components': 170, 'rf__n_jobs': -1, 'rf__criterion': 'gini', 'rf__n_estimators': 26, 'rf__min_samples_leaf': 47},\n",
       " mean: 0.22353, std: 0.07722, params: {'pca__n_components': 13, 'rf__n_jobs': -1, 'rf__criterion': 'gini', 'rf__n_estimators': 63, 'rf__min_samples_leaf': 42},\n",
       " mean: 0.24706, std: 0.08815, params: {'pca__n_components': 91, 'rf__n_jobs': -1, 'rf__criterion': 'gini', 'rf__n_estimators': 99, 'rf__min_samples_leaf': 27},\n",
       " mean: 0.69412, std: 0.05605, params: {'pca__n_components': 177, 'rf__n_jobs': -1, 'rf__criterion': 'gini', 'rf__n_estimators': 45, 'rf__min_samples_leaf': 12},\n",
       " mean: 0.61176, std: 0.10537, params: {'pca__n_components': 171, 'rf__n_jobs': -1, 'rf__criterion': 'gini', 'rf__n_estimators': 15, 'rf__min_samples_leaf': 3},\n",
       " mean: 0.22353, std: 0.07722, params: {'pca__n_components': 92, 'rf__n_jobs': -1, 'rf__criterion': 'gini', 'rf__n_estimators': 88, 'rf__min_samples_leaf': 50},\n",
       " mean: 0.67059, std: 0.06992, params: {'pca__n_components': 127, 'rf__n_jobs': -1, 'rf__criterion': 'gini', 'rf__n_estimators': 98, 'rf__min_samples_leaf': 1},\n",
       " mean: 0.29412, std: 0.07164, params: {'pca__n_components': 101, 'rf__n_jobs': -1, 'rf__criterion': 'gini', 'rf__n_estimators': 30, 'rf__min_samples_leaf': 46},\n",
       " mean: 0.74118, std: 0.07085, params: {'pca__n_components': 161, 'rf__n_jobs': -1, 'rf__criterion': 'gini', 'rf__n_estimators': 52, 'rf__min_samples_leaf': 5},\n",
       " mean: 0.24706, std: 0.08815, params: {'pca__n_components': 194, 'rf__n_jobs': -1, 'rf__criterion': 'gini', 'rf__n_estimators': 99, 'rf__min_samples_leaf': 72},\n",
       " mean: 0.62353, std: 0.11544, params: {'pca__n_components': 53, 'rf__n_jobs': -1, 'rf__criterion': 'gini', 'rf__n_estimators': 25, 'rf__min_samples_leaf': 10},\n",
       " mean: 0.25882, std: 0.06935, params: {'pca__n_components': 138, 'rf__n_jobs': -1, 'rf__criterion': 'gini', 'rf__n_estimators': 32, 'rf__min_samples_leaf': 35},\n",
       " mean: 0.71765, std: 0.07335, params: {'pca__n_components': 142, 'rf__n_jobs': -1, 'rf__criterion': 'gini', 'rf__n_estimators': 35, 'rf__min_samples_leaf': 5},\n",
       " mean: 0.67059, std: 0.08562, params: {'pca__n_components': 54, 'rf__n_jobs': -1, 'rf__criterion': 'gini', 'rf__n_estimators': 88, 'rf__min_samples_leaf': 7}]"
      ]
     },
     "execution_count": 7,
     "metadata": {},
     "output_type": "execute_result"
    }
   ],
   "source": [
    "gridsearchcv.grid_scores_"
   ]
  },
  {
   "cell_type": "code",
   "execution_count": 8,
   "metadata": {},
   "outputs": [
    {
     "name": "stdout",
     "output_type": "stream",
     "text": [
      "{'pca__n_components': 15, 'rf__n_jobs': -1, 'rf__criterion': 'gini', 'rf__n_estimators': 89, 'rf__min_samples_leaf': 18}\n",
      "0.783783783784\n",
      "Confusion matrix, without normalization\n",
      "[[6 0 1 0]\n",
      " [0 9 0 0]\n",
      " [2 2 7 1]\n",
      " [0 2 0 7]]\n"
     ]
    },
    {
     "data": {
      "image/png": "[encoded data removed]",
      "text/plain": [
       "<matplotlib.figure.Figure at 0x7fd33df554d0>"
      ]
     },
     "metadata": {},
     "output_type": "display_data"
    }
   ],
   "source": [
    "best_n_components = gridsearchcv.best_params_['pca__n_components']\n",
    "\n",
    "# \n",
    "print(gridsearchcv.best_params_)\n",
    "# metrics.accuracy_score(y_test, gridsearchcv.best_estimator_.predict(X_test))\n",
    "zip(gridsearchcv.best_estimator_.predict(X_test), np.array(y_test))\n",
    "\n",
    "print(metrics.accuracy_score(y_test, gridsearchcv.best_estimator_.predict(X_test)))\n",
    "\n",
    "confusionMatrix = metrics.confusion_matrix(y_test, gridsearchcv.best_estimator_.predict(X_test))\n",
    "\n",
    "plt.figure()\n",
    "plot_confusion_matrix(confusionMatrix,classes=['A', 'B', 'C', 'H'])\n",
    "# resultsTest = gridsearchcv.best_estimator_.predict_proba(X_test)\n",
    "# print(np.max(resultsTest,axis=1))\n"
   ]
  },
  {
   "cell_type": "code",
   "execution_count": 9,
   "metadata": {},
   "outputs": [],
   "source": [
    "# results = gridsearchcv.best_estimator_.predict_proba(xMatrix2)\n",
    "\n",
    "# print(np.max(results,axis=1))"
   ]
  },
  {
   "cell_type": "code",
   "execution_count": null,
   "metadata": {},
   "outputs": [],
   "source": []
  }
 ],
 "metadata": {
  "kernelspec": {
   "display_name": "Python 2",
   "language": "python",
   "name": "python2"
  },
  "language_info": {
   "codemirror_mode": {
    "name": "ipython",
    "version": 2
   },
   "file_extension": ".py",
   "mimetype": "text/x-python",
   "name": "python",
   "nbconvert_exporter": "python",
   "pygments_lexer": "ipython2",
   "version": "2.7.14"
  }
 },
 "nbformat": 4,
 "nbformat_minor": 2
}
