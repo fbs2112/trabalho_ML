{
 "cells": [
  {
   "cell_type": "code",
   "execution_count": 1,
   "metadata": {},
   "outputs": [],
   "source": [
    "from six.moves import cPickle as pickle\n",
    "\n",
    "import sys\n",
    "# reload(sys)\n",
    "# sys.setdefaultencoding('utf-8')\n",
    "\n",
    "import os as os\n",
    "import fnmatch\n",
    "import argparse\n",
    "import pathlib\n",
    "import time\n",
    "import itertools\n",
    "\n",
    "import numpy as np\n",
    "if \"DISPLAY\" not in os.environ:\n",
    "    mpl.use('Agg')\n",
    "import matplotlib.pyplot as plt\n",
    "import seaborn as sns\n",
    "import pandas as pd\n",
    "\n",
    "import scipy.io as sio\n",
    "import glob \n",
    "\n",
    "from scipy.stats import randint as sp_randint\n",
    "from sklearn.preprocessing import LabelEncoder\n",
    "from sklearn.decomposition import PCA, KernelPCA\n",
    "from sklearn.model_selection import GridSearchCV\n",
    "from sklearn.model_selection import RandomizedSearchCV\n",
    "from sklearn.model_selection import KFold  # k-fold cross validation StratifiedKFold\n",
    "from sklearn.model_selection import StratifiedKFold\n",
    "from sklearn.preprocessing import StandardScaler  # data normalization\n",
    "from sklearn import svm\n",
    "from sklearn.ensemble import RandomForestClassifier  # random forest model\n",
    "from sklearn.pipeline import Pipeline # model pipeline\n",
    "from sklearn.model_selection import train_test_split\n",
    "from sklearn import metrics\n",
    "from sklearn.metrics import make_scorer\n",
    "\n",
    "\n",
    "%reload_ext autoreload\n",
    "\n",
    "%matplotlib inline\n",
    "plt.rcParams['figure.figsize'] = (10.0, 8.0) # set default size of plots\n",
    "plt.rcParams['image.interpolation'] = 'nearest'\n",
    "plt.rcParams['image.cmap'] = 'gray'\n",
    "plt.rc('text', usetex=True)\n",
    "plt.rc('font', family='times')\n",
    "\n",
    "plt.rcParams.update({'font.size': 22})\n",
    "# for auto-reloading external modules\n",
    "# see http://stackoverflow.com/questions/1907993/autoreload-of-modules-in-ipython\n",
    "%reload_ext autoreload\n",
    "%autoreload 2\n",
    "\n"
   ]
  },
  {
   "cell_type": "code",
   "execution_count": 2,
   "metadata": {},
   "outputs": [],
   "source": [
    "def plot_confusion_matrix(cm, classes,\n",
    "                          normalize=False,\n",
    "                          title='Confusion matrix',\n",
    "                          cmap=plt.cm.Blues):\n",
    "    \"\"\"\n",
    "    This function prints and plots the confusion matrix.\n",
    "    Normalization can be applied by setting `normalize=True`.\n",
    "    \"\"\"\n",
    "    if normalize:\n",
    "        cm = cm.astype('float') / cm.sum(axis=1)[:, np.newaxis]\n",
    "        print(\"Normalized confusion matrix\")\n",
    "    else:\n",
    "        print('Confusion matrix, without normalization')\n",
    "\n",
    "    print(cm)\n",
    "\n",
    "    plt.imshow(cm, interpolation='nearest', cmap=cmap)\n",
    "    plt.title(title)\n",
    "    plt.colorbar()\n",
    "    tick_marks = np.arange(len(classes))\n",
    "    plt.xticks(tick_marks, classes, rotation=45)\n",
    "    plt.yticks(tick_marks, classes)\n",
    "\n",
    "    fmt = '.2f' if normalize else 'd'\n",
    "    thresh = cm.max() / 2.\n",
    "    for i, j in itertools.product(range(cm.shape[0]), range(cm.shape[1])):\n",
    "        plt.text(j, i, format(cm[i, j], fmt),\n",
    "                 horizontalalignment=\"center\",\n",
    "                 color=\"white\" if cm[i, j] > thresh else \"black\")\n",
    "\n",
    "    plt.tight_layout()\n",
    "    plt.ylabel('True label')\n",
    "    plt.xlabel('Predicted label')"
   ]
  },
  {
   "cell_type": "code",
   "execution_count": 3,
   "metadata": {},
   "outputs": [
    {
     "name": "stdout",
     "output_type": "stream",
     "text": [
      "['B', 'B', 'B', 'B', 'B', 'B', 'B', 'B', 'B', 'B', 'B', 'B', 'B', 'B', 'B', 'B', 'B', 'B', 'B', 'B', 'B', 'B', 'B', 'B', 'B', 'B', 'B', 'B', 'B', 'B', 'B', 'B', 'A', 'A', 'A', 'A', 'B', 'B', 'A', 'A', 'A', 'A', 'A', 'A', 'A', 'A', 'A', 'A', 'A', 'A', 'A', 'A', 'A', 'A', 'A', 'B', 'B', 'B', 'B', 'B', 'B', 'B', 'B', 'B', 'B', 'B', 'B', 'B', 'B', 'B', 'B', 'A', 'A', 'A', 'A', 'A', 'A', 'B', 'B', 'B', 'B', 'B', 'B', 'B', 'B', 'B', 'B', 'A', 'A', 'A', 'A', 'A', 'A', 'A', 'A', 'A', 'A', 'A', 'A', 'A', 'A', 'A', 'A', 'A', 'A', 'A', 'A', 'A', 'A', 'A', 'A', 'A', 'A', 'A', 'A', 'A', 'A', 'A', 'A', 'B', 'B', 'B', 'B', 'B', 'B', 'B', 'B', 'B', 'A', 'A', 'A', 'A', 'A', 'A', 'A', 'B', 'B', 'B', 'B', 'B', 'B', 'B', 'B', 'B', 'B', 'B', 'B', 'B', 'B', 'B', 'B', 'B', 'B']\n",
      "[1 1 1 1 1 1 1 1 1 1 1 1 1 1 1 1 1 1 1 1 1 1 1 1 1 1 1 1 1 1 1 1 0 0 0 0 1\n",
      " 1 0 0 0 0 0 0 0 0 0 0 0 0 0 0 0 0 0 1 1 1 1 1 1 1 1 1 1 1 1 1 1 1 1 0 0 0\n",
      " 0 0 0 1 1 1 1 1 1 1 1 1 1 0 0 0 0 0 0 0 0 0 0 0 0 0 0 0 0 0 0 0 0 0 0 0 0\n",
      " 0 0 0 0 0 0 0 0 1 1 1 1 1 1 1 1 1 0 0 0 0 0 0 0 1 1 1 1 1 1 1 1 1 1 1 1 1\n",
      " 1 1 1 1 1]\n"
     ]
    }
   ],
   "source": [
    "knownNames = glob.glob(\"../dataset/Dados_SONAR/[DEFH]*.mat\")\n",
    "\n",
    "unknownNames = glob.glob(\"../dataset/Dados_SONAR/[ABCG]*.mat\")\n",
    "\n",
    "X = [sio.loadmat(x)['ent_norm'] for x in knownNames]\n",
    "\n",
    "X_unknown = [sio.loadmat(x)['ent_norm'] for x in unknownNames]\n",
    "\n",
    "\n",
    "\n",
    "Y = [(x.split('/')[-1][0]) for x in knownNames]\n",
    "Y = ['A' if y=='E' else y for y in Y]\n",
    "Y = ['B' if y!='A' else y for y in Y]\n",
    "\n",
    "print(Y)\n",
    "\n",
    "le = LabelEncoder()\n",
    "target = le.fit_transform(Y)\n",
    "\n",
    "print(target)\n"
   ]
  },
  {
   "cell_type": "code",
   "execution_count": 4,
   "metadata": {},
   "outputs": [],
   "source": [
    "def increase_samples(data, wLength, ovSamples, label=None):\n",
    "    \n",
    "    y = []\n",
    "    newLabel = []\n",
    "    for counter, x in enumerate(data):\n",
    "        size = np.shape(x)[0]\n",
    "        beginWindowIndex = 0\n",
    "        endWindowIndex = wLength\n",
    "        if label is None:\n",
    "            label2 = []\n",
    "        else:    \n",
    "            label2 = label[counter]\n",
    "        \n",
    "        while True:\n",
    "            vector = np.reshape(x[beginWindowIndex:endWindowIndex,:], -1)\n",
    "            y.append(vector)\n",
    "            beginWindowIndex = beginWindowIndex + ovSamples\n",
    "            endWindowIndex = endWindowIndex + ovSamples\n",
    "            newLabel.append(label2)\n",
    "            if endWindowIndex > size:\n",
    "                break\n",
    "            \n",
    "    y = np.stack(y)\n",
    "    return y, newLabel "
   ]
  },
  {
   "cell_type": "code",
   "execution_count": 5,
   "metadata": {},
   "outputs": [],
   "source": [
    "windowLength = 1"
   ]
  },
  {
   "cell_type": "code",
   "execution_count": 6,
   "metadata": {},
   "outputs": [],
   "source": [
    "X_train, X_test, y_train, y_test = train_test_split(X, target, test_size=0.3, random_state=42)\n"
   ]
  },
  {
   "cell_type": "code",
   "execution_count": 7,
   "metadata": {},
   "outputs": [],
   "source": [
    "xMatrixTrainExtended,y_trainExtended = increase_samples(X_train, windowLength, 1, y_train)\n",
    "# print(xMatrixTrainExtended.shape)\n",
    "# print(xMatrix.shape)\n",
    "# print(len(y_trainExtended))"
   ]
  },
  {
   "cell_type": "code",
   "execution_count": 8,
   "metadata": {},
   "outputs": [],
   "source": [
    "model = Pipeline([('pca', PCA()), ('rf', RandomForestClassifier(random_state=42, class_weight='balanced'))])\n",
    "# model = Pipeline([('reduce_dim', PCA()), ('rf', RandomForestClassifier(random_state=42, class_weight='balanced'))])\n"
   ]
  },
  {
   "cell_type": "code",
   "execution_count": 9,
   "metadata": {},
   "outputs": [],
   "source": [
    "xMatrixTest = np.stack([x[:windowLength,:].reshape(-1) for x in X_test])\n"
   ]
  },
  {
   "cell_type": "code",
   "execution_count": 10,
   "metadata": {},
   "outputs": [],
   "source": [
    "fold = StratifiedKFold(10)\n"
   ]
  },
  {
   "cell_type": "code",
   "execution_count": 11,
   "metadata": {},
   "outputs": [
    {
     "name": "stdout",
     "output_type": "stream",
     "text": [
      "(11251, 557)\n"
     ]
    },
    {
     "data": {
      "text/plain": [
       "RandomizedSearchCV(cv=StratifiedKFold(n_splits=10, random_state=None, shuffle=False),\n",
       "          error_score='raise',\n",
       "          estimator=Pipeline(memory=None,\n",
       "     steps=[('pca', PCA(copy=True, iterated_power='auto', n_components=None, random_state=None,\n",
       "  svd_solver='auto', tol=0.0, whiten=False)), ('rf', RandomForestClassifier(bootstrap=True, class_weight='balanced',\n",
       "            criterion='gini', max_depth=None, max_features='auto',\n",
       "            max_leaf_node...stimators=10, n_jobs=1, oob_score=False, random_state=42,\n",
       "            verbose=0, warm_start=False))]),\n",
       "          fit_params=None, iid=True, n_iter=10, n_jobs=1,\n",
       "          param_distributions={'pca__n_components': <scipy.stats._distn_infrastructure.rv_frozen object at 0x7fe81f370710>, 'rf__criterion': ['gini'], 'rf__n_jobs': [-1], 'rf__n_estimators': <scipy.stats._distn_infrastructure.rv_frozen object at 0x7fe81f370210>, 'rf__min_samples_leaf': <scipy.stats._distn_infrastructure.rv_frozen object at 0x7fe81f370150>},\n",
       "          pre_dispatch='2*n_jobs', random_state=None, refit=True,\n",
       "          return_train_score='warn', scoring=make_scorer(accuracy_score),\n",
       "          verbose=0)"
      ]
     },
     "execution_count": 11,
     "metadata": {},
     "output_type": "execute_result"
    }
   ],
   "source": [
    "# parameters = {'pca__n_components': [252], 'rf__n_estimators': [82], 'rf__n_jobs': [-1],\n",
    "#               'rf__min_samples_leaf': [35], 'rf__criterion': ['gini']}\n",
    "metric = metrics.make_scorer(metrics.accuracy_score)\n",
    "# metric = metrics.make_scorer(metrics.precision_score, average='weighted')\n",
    "\n",
    "\n",
    "\n",
    "parameters = {'pca__n_components': sp_randint(10, 500), 'rf__n_estimators': sp_randint(10, 100), 'rf__n_jobs': [-1],\n",
    "              'rf__min_samples_leaf': sp_randint(1, 100), 'rf__criterion': ['gini']}\n",
    "\n",
    "\n",
    "# parameters = {'pca__n_components': sp_randint(10, 200)}\n",
    "\n",
    "gridsearchcv = RandomizedSearchCV(model, parameters, scoring=metric, cv=fold, n_iter=10)\n",
    "\n",
    "print(xMatrixTrainExtended.shape)\n",
    "\n",
    "# gridsearchcv = GridSearchCV(model, parameters, n_jobs=3, cv=fold, scoring=metric)\n",
    "gridsearchcv.fit(xMatrixTrainExtended, y_trainExtended)"
   ]
  },
  {
   "cell_type": "code",
   "execution_count": 12,
   "metadata": {},
   "outputs": [
    {
     "name": "stderr",
     "output_type": "stream",
     "text": [
      "/home/felipe/miniconda2/envs/siemens2.7/lib/python2.7/site-packages/sklearn/utils/deprecation.py:122: FutureWarning: You are accessing a training score ('mean_train_score'), which will not be available by default any more in 0.21. If you need training scores, please set return_train_score=True\n",
      "  warnings.warn(*warn_args, **warn_kwargs)\n",
      "/home/felipe/miniconda2/envs/siemens2.7/lib/python2.7/site-packages/sklearn/utils/deprecation.py:122: FutureWarning: You are accessing a training score ('split0_train_score'), which will not be available by default any more in 0.21. If you need training scores, please set return_train_score=True\n",
      "  warnings.warn(*warn_args, **warn_kwargs)\n",
      "/home/felipe/miniconda2/envs/siemens2.7/lib/python2.7/site-packages/sklearn/utils/deprecation.py:122: FutureWarning: You are accessing a training score ('split1_train_score'), which will not be available by default any more in 0.21. If you need training scores, please set return_train_score=True\n",
      "  warnings.warn(*warn_args, **warn_kwargs)\n",
      "/home/felipe/miniconda2/envs/siemens2.7/lib/python2.7/site-packages/sklearn/utils/deprecation.py:122: FutureWarning: You are accessing a training score ('split2_train_score'), which will not be available by default any more in 0.21. If you need training scores, please set return_train_score=True\n",
      "  warnings.warn(*warn_args, **warn_kwargs)\n",
      "/home/felipe/miniconda2/envs/siemens2.7/lib/python2.7/site-packages/sklearn/utils/deprecation.py:122: FutureWarning: You are accessing a training score ('split3_train_score'), which will not be available by default any more in 0.21. If you need training scores, please set return_train_score=True\n",
      "  warnings.warn(*warn_args, **warn_kwargs)\n",
      "/home/felipe/miniconda2/envs/siemens2.7/lib/python2.7/site-packages/sklearn/utils/deprecation.py:122: FutureWarning: You are accessing a training score ('split4_train_score'), which will not be available by default any more in 0.21. If you need training scores, please set return_train_score=True\n",
      "  warnings.warn(*warn_args, **warn_kwargs)\n",
      "/home/felipe/miniconda2/envs/siemens2.7/lib/python2.7/site-packages/sklearn/utils/deprecation.py:122: FutureWarning: You are accessing a training score ('split5_train_score'), which will not be available by default any more in 0.21. If you need training scores, please set return_train_score=True\n",
      "  warnings.warn(*warn_args, **warn_kwargs)\n",
      "/home/felipe/miniconda2/envs/siemens2.7/lib/python2.7/site-packages/sklearn/utils/deprecation.py:122: FutureWarning: You are accessing a training score ('split6_train_score'), which will not be available by default any more in 0.21. If you need training scores, please set return_train_score=True\n",
      "  warnings.warn(*warn_args, **warn_kwargs)\n",
      "/home/felipe/miniconda2/envs/siemens2.7/lib/python2.7/site-packages/sklearn/utils/deprecation.py:122: FutureWarning: You are accessing a training score ('split7_train_score'), which will not be available by default any more in 0.21. If you need training scores, please set return_train_score=True\n",
      "  warnings.warn(*warn_args, **warn_kwargs)\n",
      "/home/felipe/miniconda2/envs/siemens2.7/lib/python2.7/site-packages/sklearn/utils/deprecation.py:122: FutureWarning: You are accessing a training score ('split8_train_score'), which will not be available by default any more in 0.21. If you need training scores, please set return_train_score=True\n",
      "  warnings.warn(*warn_args, **warn_kwargs)\n",
      "/home/felipe/miniconda2/envs/siemens2.7/lib/python2.7/site-packages/sklearn/utils/deprecation.py:122: FutureWarning: You are accessing a training score ('split9_train_score'), which will not be available by default any more in 0.21. If you need training scores, please set return_train_score=True\n",
      "  warnings.warn(*warn_args, **warn_kwargs)\n",
      "/home/felipe/miniconda2/envs/siemens2.7/lib/python2.7/site-packages/sklearn/utils/deprecation.py:122: FutureWarning: You are accessing a training score ('std_train_score'), which will not be available by default any more in 0.21. If you need training scores, please set return_train_score=True\n",
      "  warnings.warn(*warn_args, **warn_kwargs)\n"
     ]
    },
    {
     "data": {
      "text/plain": [
       "{'mean_fit_time': array([ 3.58657069,  2.80271661,  1.56071692,  4.05908103,  2.53735693,\n",
       "         1.16298685,  3.37169902,  2.15643101,  2.42724469,  2.61929784]),\n",
       " 'mean_score_time': array([ 0.14759839,  0.14476552,  0.13907077,  0.15555046,  0.14660027,\n",
       "         0.14531043,  0.15283375,  0.14148216,  0.14863439,  0.15243351]),\n",
       " 'mean_test_score': array([ 0.92516221,  0.9224069 ,  0.93582793,  0.91289663,  0.9176962 ,\n",
       "         0.93396143,  0.92009599,  0.92640654,  0.91654075,  0.93849436]),\n",
       " 'mean_train_score': array([ 0.97726619,  0.98741839,  0.99686942,  0.97109389,  0.98487049,\n",
       "         0.98965033,  0.97074823,  0.98201647,  0.97049154,  0.99894331]),\n",
       " 'param_pca__n_components': masked_array(data = [307 391 169 431 282 59 435 283 287 124],\n",
       "              mask = [False False False False False False False False False False],\n",
       "        fill_value = ?),\n",
       " 'param_rf__criterion': masked_array(data = ['gini' 'gini' 'gini' 'gini' 'gini' 'gini' 'gini' 'gini' 'gini' 'gini'],\n",
       "              mask = [False False False False False False False False False False],\n",
       "        fill_value = ?),\n",
       " 'param_rf__min_samples_leaf': masked_array(data = [63 21 7 87 31 26 86 43 87 4],\n",
       "              mask = [False False False False False False False False False False],\n",
       "        fill_value = ?),\n",
       " 'param_rf__n_estimators': masked_array(data = [96 42 43 84 61 69 66 47 69 87],\n",
       "              mask = [False False False False False False False False False False],\n",
       "        fill_value = ?),\n",
       " 'param_rf__n_jobs': masked_array(data = [-1 -1 -1 -1 -1 -1 -1 -1 -1 -1],\n",
       "              mask = [False False False False False False False False False False],\n",
       "        fill_value = ?),\n",
       " 'params': [{'pca__n_components': 307,\n",
       "   'rf__criterion': 'gini',\n",
       "   'rf__min_samples_leaf': 63,\n",
       "   'rf__n_estimators': 96,\n",
       "   'rf__n_jobs': -1},\n",
       "  {'pca__n_components': 391,\n",
       "   'rf__criterion': 'gini',\n",
       "   'rf__min_samples_leaf': 21,\n",
       "   'rf__n_estimators': 42,\n",
       "   'rf__n_jobs': -1},\n",
       "  {'pca__n_components': 169,\n",
       "   'rf__criterion': 'gini',\n",
       "   'rf__min_samples_leaf': 7,\n",
       "   'rf__n_estimators': 43,\n",
       "   'rf__n_jobs': -1},\n",
       "  {'pca__n_components': 431,\n",
       "   'rf__criterion': 'gini',\n",
       "   'rf__min_samples_leaf': 87,\n",
       "   'rf__n_estimators': 84,\n",
       "   'rf__n_jobs': -1},\n",
       "  {'pca__n_components': 282,\n",
       "   'rf__criterion': 'gini',\n",
       "   'rf__min_samples_leaf': 31,\n",
       "   'rf__n_estimators': 61,\n",
       "   'rf__n_jobs': -1},\n",
       "  {'pca__n_components': 59,\n",
       "   'rf__criterion': 'gini',\n",
       "   'rf__min_samples_leaf': 26,\n",
       "   'rf__n_estimators': 69,\n",
       "   'rf__n_jobs': -1},\n",
       "  {'pca__n_components': 435,\n",
       "   'rf__criterion': 'gini',\n",
       "   'rf__min_samples_leaf': 86,\n",
       "   'rf__n_estimators': 66,\n",
       "   'rf__n_jobs': -1},\n",
       "  {'pca__n_components': 283,\n",
       "   'rf__criterion': 'gini',\n",
       "   'rf__min_samples_leaf': 43,\n",
       "   'rf__n_estimators': 47,\n",
       "   'rf__n_jobs': -1},\n",
       "  {'pca__n_components': 287,\n",
       "   'rf__criterion': 'gini',\n",
       "   'rf__min_samples_leaf': 87,\n",
       "   'rf__n_estimators': 69,\n",
       "   'rf__n_jobs': -1},\n",
       "  {'pca__n_components': 124,\n",
       "   'rf__criterion': 'gini',\n",
       "   'rf__min_samples_leaf': 4,\n",
       "   'rf__n_estimators': 87,\n",
       "   'rf__n_jobs': -1}],\n",
       " 'rank_test_score': array([ 5,  6,  2, 10,  8,  3,  7,  4,  9,  1], dtype=int32),\n",
       " 'split0_test_score': array([ 0.94138544,  0.96003552,  0.96269982,  0.94760213,  0.93072824,\n",
       "         0.97158082,  0.95026643,  0.95559503,  0.92184725,  0.97335702]),\n",
       " 'split0_train_score': array([ 0.97560494,  0.98508642,  0.99614815,  0.96908642,  0.98182716,\n",
       "         0.99032099,  0.96780247,  0.98054321,  0.96987654,  0.99891358]),\n",
       " 'split1_test_score': array([ 0.96714032,  0.97246892,  0.98579041,  0.96092362,  0.97513321,\n",
       "         0.98312611,  0.95914742,  0.97158082,  0.96802842,  0.98134991]),\n",
       " 'split1_train_score': array([ 0.97807407,  0.98637037,  0.99664198,  0.97382716,  0.984     ,\n",
       "         0.98864198,  0.96997531,  0.9817284 ,  0.97244444,  0.99911111]),\n",
       " 'split2_test_score': array([ 0.93072824,  0.92451155,  0.94227353,  0.92095915,  0.93250444,\n",
       "         0.94316163,  0.92717584,  0.93516874,  0.92273535,  0.94493783]),\n",
       " 'split2_train_score': array([ 0.98044444,  0.98982716,  0.99762963,  0.97441975,  0.98795062,\n",
       "         0.99081481,  0.97935802,  0.9862716 ,  0.97530864,  0.99940741]),\n",
       " 'split3_test_score': array([ 0.96891652,  0.98579041,  0.9928952 ,  0.96714032,  0.97779751,\n",
       "         0.99111901,  0.96625222,  0.97335702,  0.97424512,  0.9928952 ]),\n",
       " 'split3_train_score': array([ 0.9731358 ,  0.98874074,  0.99703704,  0.96720988,  0.98538272,\n",
       "         0.98982716,  0.96424691,  0.98044444,  0.96592593,  0.99911111]),\n",
       " 'split4_test_score': array([ 0.85511111,  0.83822222,  0.77866667,  0.81866667,  0.76      ,\n",
       "         0.73777778,  0.80088889,  0.80266667,  0.80977778,  0.792     ]),\n",
       " 'split4_train_score': array([ 0.97787873,  0.98735927,  0.9973336 ,  0.97145961,  0.98469287,\n",
       "         0.98913688,  0.97057081,  0.98498914,  0.97165712,  0.99861742]),\n",
       " 'split5_test_score': array([ 0.92977778,  0.89955556,  0.93244444,  0.90844444,  0.91911111,\n",
       "         0.91911111,  0.90933333,  0.91466667,  0.91288889,  0.92266667]),\n",
       " 'split5_train_score': array([ 0.98163144,  0.98735927,  0.99683982,  0.97402726,  0.98824807,\n",
       "         0.99121074,  0.97491606,  0.98489038,  0.97639739,  0.99851866]),\n",
       " 'split6_test_score': array([ 0.88444444,  0.85866667,  0.93244444,  0.84355556,  0.88533333,\n",
       "         0.95377778,  0.86666667,  0.91022222,  0.87377778,  0.94755556]),\n",
       " 'split6_train_score': array([ 0.97333597,  0.98577918,  0.99693857,  0.9634604 ,  0.98340905,\n",
       "         0.98893936,  0.96504049,  0.9799526 ,  0.96267035,  0.99901244]),\n",
       " 'split7_test_score': array([ 0.95462633,  0.96352313,  0.99822064,  0.92259786,  0.95996441,\n",
       "         0.99822064,  0.97241993,  0.96352313,  0.92437722,  1.        ]),\n",
       " 'split7_train_score': array([ 0.97758467,  0.98844673,  0.99713637,  0.97817715,  0.98587933,\n",
       "         0.98913795,  0.97136368,  0.97847339,  0.969685  ,  0.99881505]),\n",
       " 'split8_test_score': array([ 0.99644128,  0.99021352,  0.99911032,  0.99466192,  1.        ,\n",
       "         1.        ,  0.99288256,  0.99644128,  0.99466192,  1.        ]),\n",
       " 'split8_train_score': array([ 0.97472104,  0.98627432,  0.99664264,  0.96741384,  0.98153451,\n",
       "         0.98943419,  0.97086995,  0.9782759 ,  0.96356275,  0.99930878]),\n",
       " 'split9_test_score': array([ 0.82295374,  0.83096085,  0.83362989,  0.84430605,  0.83629893,\n",
       "         0.84163701,  0.85587189,  0.84074733,  0.86298932,  0.83007117]),\n",
       " 'split9_train_score': array([ 0.98025081,  0.98894046,  0.9963464 ,  0.97185741,  0.98578059,\n",
       "         0.9890392 ,  0.9733386 ,  0.98459564,  0.97738718,  0.99861756]),\n",
       " 'std_fit_time': array([ 0.78683471,  0.36508507,  0.24532046,  0.50520641,  0.45946213,\n",
       "         0.20371548,  0.65271985,  0.40939469,  0.43173468,  0.53668047]),\n",
       " 'std_score_time': array([ 0.01017695,  0.00741764,  0.00270156,  0.0160927 ,  0.00543374,\n",
       "         0.0097667 ,  0.0089379 ,  0.00558878,  0.00839985,  0.01073453]),\n",
       " 'std_test_score': array([ 0.05190293,  0.05853011,  0.07040324,  0.05630528,  0.06956469,\n",
       "         0.07955189,  0.05826435,  0.05873206,  0.05321143,  0.06866708]),\n",
       " 'std_train_score': array([ 0.00284497,  0.00146507,  0.00042371,  0.00411041,  0.00215219,\n",
       "         0.00082101,  0.00427498,  0.0027818 ,  0.00491791,  0.00028636])}"
      ]
     },
     "execution_count": 12,
     "metadata": {},
     "output_type": "execute_result"
    }
   ],
   "source": [
    "gridsearchcv.cv_results_"
   ]
  },
  {
   "cell_type": "code",
   "execution_count": 16,
   "metadata": {},
   "outputs": [
    {
     "name": "stdout",
     "output_type": "stream",
     "text": [
      "{'pca__n_components': 124, 'rf__n_jobs': -1, 'rf__criterion': 'gini', 'rf__n_estimators': 87, 'rf__min_samples_leaf': 4}\n",
      "(array([ 0.92516221,  0.9224069 ,  0.93582793,  0.91289663,  0.9176962 ,\n",
      "        0.93396143,  0.92009599,  0.92640654,  0.91654075,  0.93849436]), array([ 0.05190293,  0.05853011,  0.07040324,  0.05630528,  0.06956469,\n",
      "        0.07955189,  0.05826435,  0.05873206,  0.05321143,  0.06866708]))\n",
      "Normalized confusion matrix\n",
      "[[ 0.93446852  0.06553148]\n",
      " [ 0.01431181  0.98568819]]\n"
     ]
    },
    {
     "data": {
      "image/png": "[encoded data removed]",
      "text/plain": [
       "<matplotlib.figure.Figure at 0x7fe85b9a2190>"
      ]
     },
     "metadata": {},
     "output_type": "display_data"
    }
   ],
   "source": [
    "best_n_components = gridsearchcv.best_params_['pca__n_components']\n",
    "\n",
    "xMatrixTestExtended,y_testExtended = increase_samples(X_test, windowLength, 1, y_test)\n",
    "xMatrixUnknownExtended,_ = increase_samples(X_unknown, windowLength, 1)\n",
    "\n",
    "print(gridsearchcv.best_params_)\n",
    "means = gridsearchcv.cv_results_['mean_test_score']\n",
    "stds = gridsearchcv.cv_results_['std_test_score']\n",
    "\n",
    "print(means,stds)\n",
    "# print(zip(gridsearchcv.best_estimator_.predict_proba(xMatrixTestExtended), np.array(y_testExtended)))\n",
    "acc = metrics.accuracy_score(y_testExtended, gridsearchcv.best_estimator_.predict(xMatrixTestExtended))\n",
    "F1 = metrics.f1_score(y_testExtended, gridsearchcv.best_estimator_.predict(xMatrixTestExtended), average='weighted')\n",
    "prec = metrics.precision_score(y_testExtended, gridsearchcv.best_estimator_.predict(xMatrixTestExtended), average='weighted')\n",
    "\n",
    "confusionMatrix = metrics.confusion_matrix(y_testExtended, gridsearchcv.best_estimator_.predict(xMatrixTestExtended))\n",
    "\n",
    "plt.figure()\n",
    "plot_confusion_matrix(confusionMatrix,normalize=True, classes=['E', 'DFH'])\n",
    "# print(np.max(resultsTest,axis=1))\n"
   ]
  },
  {
   "cell_type": "code",
   "execution_count": 17,
   "metadata": {},
   "outputs": [
    {
     "data": {
      "image/png": "[encoded data removed]",
      "text/plain": [
       "<matplotlib.figure.Figure at 0x7fe81b979710>"
      ]
     },
     "metadata": {},
     "output_type": "display_data"
    },
    {
     "data": {
      "image/png": "[encoded data removed]",
      "text/plain": [
       "<matplotlib.figure.Figure at 0x7fe81b888ed0>"
      ]
     },
     "metadata": {},
     "output_type": "display_data"
    },
    {
     "name": "stdout",
     "output_type": "stream",
     "text": [
      "[[ 0.14830095  0.85169905]\n",
      " [ 0.09826027  0.90173973]\n",
      " [ 0.20643581  0.79356419]\n",
      " [ 0.25574459  0.74425541]\n",
      " [ 0.19702974  0.80297026]\n",
      " [ 0.13921727  0.86078273]\n",
      " [ 0.18507067  0.81492933]\n",
      " [ 0.08176065  0.91823935]\n",
      " [ 0.17218657  0.82781343]\n",
      " [ 0.18369475  0.81630525]\n",
      " [ 0.22080967  0.77919033]\n",
      " [ 0.38383834  0.61616166]\n",
      " [ 0.81692522  0.18307478]\n",
      " [ 0.30160929  0.69839071]\n",
      " [ 0.09550084  0.90449916]\n",
      " [ 0.21266363  0.78733637]\n",
      " [ 0.34415772  0.65584228]\n",
      " [ 0.20250477  0.79749523]\n",
      " [ 0.27026721  0.72973279]\n",
      " [ 0.13342159  0.86657841]]\n"
     ]
    }
   ],
   "source": [
    "resultsTestProb = gridsearchcv.best_estimator_.predict_proba(xMatrixTestExtended)\n",
    "resultsTest = gridsearchcv.best_estimator_.predict(xMatrixTestExtended)\n",
    "resultsTrainProb = gridsearchcv.best_estimator_.predict_proba(xMatrixTrainExtended)\n",
    "\n",
    "\n",
    "# print(resultsTestProb)\n",
    "# print()\n",
    "resultsUnknown = gridsearchcv.best_estimator_.predict_proba(xMatrixUnknownExtended)\n",
    "\n",
    "# print(resultsUnknown)\n",
    "\n",
    "x = np.abs(resultsTest - y_testExtended)\n",
    "# print(np.where(x !=0))\n",
    "\n",
    "aux2 = np.array(resultsTestProb)\n",
    "aux3 = np.array(y_testExtended)\n",
    "\n",
    "indexA = (aux3 == 0) & (x == 0)\n",
    "indexB = (aux3 == 1) & (x == 0)\n",
    "indexC = (aux3 == 2) & (x == 0)\n",
    "indexH = (aux3 == 3) & (x == 0)\n",
    "\n",
    "# print(indexA)\n",
    "\n",
    "\n",
    "acertos_A = resultsTestProb[indexA,0]\n",
    "acertos_B = resultsTestProb[indexB,1]\n",
    "\n",
    "index = np.where(x == 0)\n",
    "\n",
    "\n",
    "aux = aux2[np.where(x==0),aux3[np.where(x==0)]]\n",
    "plt.figure()\n",
    "plt.hist(acertos_A, bins=50, facecolor='blue', alpha=0.75)\n",
    "plt.show()\n",
    "\n",
    "\n",
    "plt.figure()\n",
    "plt.hist(resultsUnknown[:,1], 50, facecolor='blue', alpha=0.75)\n",
    "plt.show()\n",
    "\n",
    "print(resultsUnknown[:20,:])"
   ]
  },
  {
   "cell_type": "code",
   "execution_count": 15,
   "metadata": {},
   "outputs": [],
   "source": [
    "dictionary = {'acc': acc, 'f1': F1, 'prec': prec, 'mean_test_score': means, 'std_test_score': stds, \n",
    "              'confMatrix': confusionMatrix, 'bestParams': gridsearchcv.best_params_, 'testData': xMatrixTestExtended,\n",
    "             'testLabels': y_testExtended}\n",
    "sio.savemat('results_class2_line.mat', dictionary)\n",
    "\n",
    "pickle.dump( gridsearchcv, open( \"model_class2_line.p\", \"wb\" ) )"
   ]
  }
 ],
 "metadata": {
  "kernelspec": {
   "display_name": "Python 2",
   "language": "python",
   "name": "python2"
  },
  "language_info": {
   "codemirror_mode": {
    "name": "ipython",
    "version": 2
   },
   "file_extension": ".py",
   "mimetype": "text/x-python",
   "name": "python",
   "nbconvert_exporter": "python",
   "pygments_lexer": "ipython2",
   "version": "2.7.14"
  }
 },
 "nbformat": 4,
 "nbformat_minor": 2
}
