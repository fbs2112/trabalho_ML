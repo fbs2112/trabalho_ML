{
 "cells": [
  {
   "cell_type": "code",
   "execution_count": 1,
   "metadata": {},
   "outputs": [],
   "source": [
    "from six.moves import cPickle as pickle\n",
    "\n",
    "import sys\n",
    "# reload(sys)\n",
    "# sys.setdefaultencoding('utf-8')\n",
    "\n",
    "import os as os\n",
    "import fnmatch\n",
    "import argparse\n",
    "import pathlib\n",
    "import time\n",
    "\n",
    "import numpy as np\n",
    "if \"DISPLAY\" not in os.environ:\n",
    "    mpl.use('Agg')\n",
    "import matplotlib.pyplot as plt\n",
    "import seaborn as sns\n",
    "import pandas as pd\n",
    "\n",
    "import scipy.io as sio\n",
    "import glob \n",
    "\n",
    "from sklearn.preprocessing import LabelEncoder\n",
    "from sklearn.decomposition import PCA\n",
    "from sklearn.model_selection import GridSearchCV\n",
    "from sklearn.model_selection import KFold  # k-fold cross validation\n",
    "from sklearn.preprocessing import StandardScaler  # data normalization\n",
    "from sklearn.ensemble import RandomForestClassifier  # random forest model\n",
    "from sklearn.pipeline import Pipeline # model pipeline\n",
    "from sklearn.model_selection import train_test_split\n",
    "from sklearn import metrics, tree\n",
    "\n",
    "%reload_ext autoreload\n",
    "\n",
    "%matplotlib inline\n",
    "plt.rcParams['figure.figsize'] = (10.0, 8.0) # set default size of plots\n",
    "plt.rcParams['image.interpolation'] = 'nearest'\n",
    "plt.rcParams['image.cmap'] = 'gray'\n",
    "plt.rc('text', usetex=True)\n",
    "plt.rc('font', family='times')\n",
    "\n",
    "plt.rcParams.update({'font.size': 22})\n",
    "# for auto-reloading external modules\n",
    "# see http://stackoverflow.com/questions/1907993/autoreload-of-modules-in-ipython\n",
    "%reload_ext autoreload\n",
    "%autoreload 2\n",
    "\n"
   ]
  },
  {
   "cell_type": "code",
   "execution_count": 2,
   "metadata": {},
   "outputs": [
    {
     "name": "stdout",
     "output_type": "stream",
     "text": [
      "[0 0 0 0 0 0 0 0 0 0 0 0 0 0 0 0 0 0 0 0 0 1 1 1 1 1 1 1 1 1 1 1 1 1 1 1 1\n",
      " 1 1 1 1 3 3 3 3 3 3 3 3 3 3 3 3 3 3 3 3 3 3 3 3 3 3 3 3 3 3 3 3 3 3 0 1 2\n",
      " 2 3 2 2 2 2 2 2 2 2 2 2 2 2 2 2 2 2 2 2 2 2 2 2 2 2 2 2 2 2 2 2 1 1 1 1 1\n",
      " 2 2 2 2 2 2 2 2 2 2 2]\n"
     ]
    }
   ],
   "source": [
    "knownNames = glob.glob(\"../dataset/Dados_SONAR/[A-CH]*.mat\")\n",
    "\n",
    "X = [sio.loadmat(x)['ent_norm'] for x in knownNames]\n",
    "\n",
    "# print(X)\n",
    "\n",
    "minLengthVector = [np.shape(x)[0] for x in X]\n",
    "Y = [x.split('/')[-1][0] for x in knownNames]\n",
    "minLength = int(np.min(minLengthVector))\n",
    "\n",
    "le = LabelEncoder()\n",
    "target = le.fit_transform(Y)\n",
    "\n",
    "print(target)\n",
    "\n",
    "# namesA = glob.glob(\"../dataset/Dados_SONAR/A*\")\n",
    "# X_A = [sio.loadmat(x)['ent_norm'] for x in namesA]\n",
    "# namesB = glob.glob(\"../dataset/Dados_SONAR/B*\")\n",
    "# X_B = [sio.loadmat(x)['ent_norm'] for x in namesB]\n",
    "# namesC = glob.glob(\"../dataset/Dados_SONAR/C*\")\n",
    "# X_C = [sio.loadmat(x)['ent_norm'] for x in namesC]\n",
    "# namesH = glob.glob(\"../dataset/Dados_SONAR/H*\")\n",
    "# X_H = [sio.loadmat(x)['ent_norm'] for x in namesH]\n",
    "\n",
    "# x2 = X_A.append(X_B)\n",
    "\n",
    "\n",
    "\n",
    "\n",
    "# minLength = np.zeros(len(names))\n",
    "\n",
    "# for i in range(len(names)):\n",
    "#     x = sio.loadmat(str(names[i]))\n",
    "#     y = x[\"ent_norm\"]\n",
    "#     minLength[i] = np.shape(y)[0]\n",
    "# print(np.min(minLength))"
   ]
  },
  {
   "cell_type": "code",
   "execution_count": 34,
   "metadata": {},
   "outputs": [],
   "source": [
    "xMatrix = np.stack([x[:minLength,:].reshape(-1) for x in X])\n",
    "\n",
    "X_train, X_test, y_train, y_test = train_test_split(xMatrix, target, test_size=0.3, random_state=42)\n",
    "\n",
    "pca = PCA(10)\n",
    "X_train = pca.fit_transform(X_train)\n",
    "X_test = pca.fit_transform(X_test)\n",
    "\n",
    "model = Pipeline([('pca', PCA()), ('rf', RandomForestClassifier(random_state=42, class_weight='balanced'))])\n"
   ]
  },
  {
   "cell_type": "code",
   "execution_count": 35,
   "metadata": {},
   "outputs": [],
   "source": [
    "fold = KFold(5)\n"
   ]
  },
  {
   "cell_type": "code",
   "execution_count": 36,
   "metadata": {},
   "outputs": [
    {
     "data": {
      "text/plain": [
       "GridSearchCV(cv=KFold(n_splits=5, random_state=None, shuffle=False),\n",
       "       error_score='raise',\n",
       "       estimator=Pipeline(memory=None,\n",
       "     steps=[('pca', PCA(copy=True, iterated_power='auto', n_components=None, random_state=None,\n",
       "  svd_solver='auto', tol=0.0, whiten=False)), ('rf', RandomForestClassifier(bootstrap=True, class_weight='balanced',\n",
       "            criterion='gini', max_depth=None, max_features='auto',\n",
       "            max_leaf_node...stimators=10, n_jobs=1, oob_score=False, random_state=42,\n",
       "            verbose=0, warm_start=False))]),\n",
       "       fit_params=None, iid=True, n_jobs=1,\n",
       "       param_grid={'pca__n_components': [1, 2, 3, 4, 5, 6, 7, 8, 9, 10], 'rf__n_jobs': [-1], 'rf__n_estimators': [100], 'rf__min_samples_leaf': [1, 10, 20, 30]},\n",
       "       pre_dispatch='2*n_jobs', refit=True, return_train_score='warn',\n",
       "       scoring=None, verbose=0)"
      ]
     },
     "execution_count": 36,
     "metadata": {},
     "output_type": "execute_result"
    }
   ],
   "source": [
    "parameters = {'pca__n_components': [1, 2, 3, 4, 5, 6 , 7, 8, 9, 10], 'rf__n_estimators': [100], 'rf__n_jobs': [-1],\n",
    "              'rf__min_samples_leaf': [1, 10, 20, 30]}\n",
    "gridsearchcv = GridSearchCV(model, parameters, cv=fold)\n",
    "gridsearchcv.fit(X_train, y_train)"
   ]
  },
  {
   "cell_type": "code",
   "execution_count": 31,
   "metadata": {},
   "outputs": [
    {
     "name": "stderr",
     "output_type": "stream",
     "text": [
      "/home/felipe/miniconda2/envs/siemens2.7/lib/python2.7/site-packages/sklearn/model_selection/_search.py:761: DeprecationWarning: The grid_scores_ attribute was deprecated in version 0.18 in favor of the more elaborate cv_results_ attribute. The grid_scores_ attribute will not be available from 0.20\n",
      "  DeprecationWarning)\n"
     ]
    },
    {
     "data": {
      "text/plain": [
       "[mean: 0.27059, std: 0.04706, params: {'pca__n_components': 1, 'rf__min_samples_leaf': 1, 'rf__n_estimators': 100, 'rf__n_jobs': -1},\n",
       " mean: 0.32941, std: 0.12113, params: {'pca__n_components': 1, 'rf__min_samples_leaf': 10, 'rf__n_estimators': 100, 'rf__n_jobs': -1},\n",
       " mean: 0.22353, std: 0.07804, params: {'pca__n_components': 1, 'rf__min_samples_leaf': 20, 'rf__n_estimators': 100, 'rf__n_jobs': -1},\n",
       " mean: 0.36471, std: 0.14600, params: {'pca__n_components': 1, 'rf__min_samples_leaf': 30, 'rf__n_estimators': 100, 'rf__n_jobs': -1},\n",
       " mean: 0.60000, std: 0.10120, params: {'pca__n_components': 2, 'rf__min_samples_leaf': 1, 'rf__n_estimators': 100, 'rf__n_jobs': -1},\n",
       " mean: 0.60000, std: 0.11406, params: {'pca__n_components': 2, 'rf__min_samples_leaf': 10, 'rf__n_estimators': 100, 'rf__n_jobs': -1},\n",
       " mean: 0.54118, std: 0.10783, params: {'pca__n_components': 2, 'rf__min_samples_leaf': 20, 'rf__n_estimators': 100, 'rf__n_jobs': -1},\n",
       " mean: 0.36471, std: 0.14600, params: {'pca__n_components': 2, 'rf__min_samples_leaf': 30, 'rf__n_estimators': 100, 'rf__n_jobs': -1},\n",
       " mean: 0.68235, std: 0.08804, params: {'pca__n_components': 3, 'rf__min_samples_leaf': 1, 'rf__n_estimators': 100, 'rf__n_jobs': -1},\n",
       " mean: 0.64706, std: 0.06444, params: {'pca__n_components': 3, 'rf__min_samples_leaf': 10, 'rf__n_estimators': 100, 'rf__n_jobs': -1},\n",
       " mean: 0.45882, std: 0.15519, params: {'pca__n_components': 3, 'rf__min_samples_leaf': 20, 'rf__n_estimators': 100, 'rf__n_jobs': -1},\n",
       " mean: 0.36471, std: 0.14600, params: {'pca__n_components': 3, 'rf__min_samples_leaf': 30, 'rf__n_estimators': 100, 'rf__n_jobs': -1},\n",
       " mean: 0.67059, std: 0.05999, params: {'pca__n_components': 4, 'rf__min_samples_leaf': 1, 'rf__n_estimators': 100, 'rf__n_jobs': -1},\n",
       " mean: 0.63529, std: 0.07804, params: {'pca__n_components': 4, 'rf__min_samples_leaf': 10, 'rf__n_estimators': 100, 'rf__n_jobs': -1},\n",
       " mean: 0.52941, std: 0.09843, params: {'pca__n_components': 4, 'rf__min_samples_leaf': 20, 'rf__n_estimators': 100, 'rf__n_jobs': -1},\n",
       " mean: 0.36471, std: 0.14600, params: {'pca__n_components': 4, 'rf__min_samples_leaf': 30, 'rf__n_estimators': 100, 'rf__n_jobs': -1},\n",
       " mean: 0.65882, std: 0.08645, params: {'pca__n_components': 5, 'rf__min_samples_leaf': 1, 'rf__n_estimators': 100, 'rf__n_jobs': -1},\n",
       " mean: 0.61176, std: 0.09558, params: {'pca__n_components': 5, 'rf__min_samples_leaf': 10, 'rf__n_estimators': 100, 'rf__n_jobs': -1},\n",
       " mean: 0.50588, std: 0.14215, params: {'pca__n_components': 5, 'rf__min_samples_leaf': 20, 'rf__n_estimators': 100, 'rf__n_jobs': -1},\n",
       " mean: 0.36471, std: 0.14600, params: {'pca__n_components': 5, 'rf__min_samples_leaf': 30, 'rf__n_estimators': 100, 'rf__n_jobs': -1},\n",
       " mean: 0.68235, std: 0.05999, params: {'pca__n_components': 6, 'rf__min_samples_leaf': 1, 'rf__n_estimators': 100, 'rf__n_jobs': -1},\n",
       " mean: 0.60000, std: 0.08645, params: {'pca__n_components': 6, 'rf__min_samples_leaf': 10, 'rf__n_estimators': 100, 'rf__n_jobs': -1},\n",
       " mean: 0.49412, std: 0.10910, params: {'pca__n_components': 6, 'rf__min_samples_leaf': 20, 'rf__n_estimators': 100, 'rf__n_jobs': -1},\n",
       " mean: 0.36471, std: 0.14600, params: {'pca__n_components': 6, 'rf__min_samples_leaf': 30, 'rf__n_estimators': 100, 'rf__n_jobs': -1},\n",
       " mean: 0.68235, std: 0.04706, params: {'pca__n_components': 7, 'rf__min_samples_leaf': 1, 'rf__n_estimators': 100, 'rf__n_jobs': -1},\n",
       " mean: 0.61176, std: 0.07979, params: {'pca__n_components': 7, 'rf__min_samples_leaf': 10, 'rf__n_estimators': 100, 'rf__n_jobs': -1},\n",
       " mean: 0.48235, std: 0.14118, params: {'pca__n_components': 7, 'rf__min_samples_leaf': 20, 'rf__n_estimators': 100, 'rf__n_jobs': -1},\n",
       " mean: 0.36471, std: 0.14600, params: {'pca__n_components': 7, 'rf__min_samples_leaf': 30, 'rf__n_estimators': 100, 'rf__n_jobs': -1},\n",
       " mean: 0.67059, std: 0.04706, params: {'pca__n_components': 8, 'rf__min_samples_leaf': 1, 'rf__n_estimators': 100, 'rf__n_jobs': -1},\n",
       " mean: 0.57647, std: 0.06860, params: {'pca__n_components': 8, 'rf__min_samples_leaf': 10, 'rf__n_estimators': 100, 'rf__n_jobs': -1},\n",
       " mean: 0.49412, std: 0.10910, params: {'pca__n_components': 8, 'rf__min_samples_leaf': 20, 'rf__n_estimators': 100, 'rf__n_jobs': -1},\n",
       " mean: 0.36471, std: 0.14600, params: {'pca__n_components': 8, 'rf__min_samples_leaf': 30, 'rf__n_estimators': 100, 'rf__n_jobs': -1},\n",
       " mean: 0.64706, std: 0.06444, params: {'pca__n_components': 9, 'rf__min_samples_leaf': 1, 'rf__n_estimators': 100, 'rf__n_jobs': -1},\n",
       " mean: 0.61176, std: 0.09558, params: {'pca__n_components': 9, 'rf__min_samples_leaf': 10, 'rf__n_estimators': 100, 'rf__n_jobs': -1},\n",
       " mean: 0.49412, std: 0.12113, params: {'pca__n_components': 9, 'rf__min_samples_leaf': 20, 'rf__n_estimators': 100, 'rf__n_jobs': -1},\n",
       " mean: 0.36471, std: 0.14600, params: {'pca__n_components': 9, 'rf__min_samples_leaf': 30, 'rf__n_estimators': 100, 'rf__n_jobs': -1},\n",
       " mean: 0.65882, std: 0.06860, params: {'pca__n_components': 10, 'rf__min_samples_leaf': 1, 'rf__n_estimators': 100, 'rf__n_jobs': -1},\n",
       " mean: 0.56471, std: 0.09558, params: {'pca__n_components': 10, 'rf__min_samples_leaf': 10, 'rf__n_estimators': 100, 'rf__n_jobs': -1},\n",
       " mean: 0.44706, std: 0.18073, params: {'pca__n_components': 10, 'rf__min_samples_leaf': 20, 'rf__n_estimators': 100, 'rf__n_jobs': -1},\n",
       " mean: 0.36471, std: 0.14600, params: {'pca__n_components': 10, 'rf__min_samples_leaf': 30, 'rf__n_estimators': 100, 'rf__n_jobs': -1}]"
      ]
     },
     "execution_count": 31,
     "metadata": {},
     "output_type": "execute_result"
    }
   ],
   "source": [
    "gridsearchcv.grid_scores_"
   ]
  },
  {
   "cell_type": "code",
   "execution_count": 33,
   "metadata": {},
   "outputs": [
    {
     "data": {
      "text/plain": [
       "0.6216216216216216"
      ]
     },
     "execution_count": 33,
     "metadata": {},
     "output_type": "execute_result"
    }
   ],
   "source": [
    "metrics.accuracy_score(y_test, gridsearchcv.best_estimator_.predict(X_test))"
   ]
  }
 ],
 "metadata": {
  "kernelspec": {
   "display_name": "Python 2",
   "language": "python",
   "name": "python2"
  },
  "language_info": {
   "codemirror_mode": {
    "name": "ipython",
    "version": 2
   },
   "file_extension": ".py",
   "mimetype": "text/x-python",
   "name": "python",
   "nbconvert_exporter": "python",
   "pygments_lexer": "ipython2",
   "version": "2.7.14"
  }
 },
 "nbformat": 4,
 "nbformat_minor": 2
}
