{
 "cells": [
  {
   "cell_type": "code",
   "execution_count": 1,
   "metadata": {
    "collapsed": true
   },
   "outputs": [],
   "source": [
    "from six.moves import cPickle as pickle\n",
    "\n",
    "import sys\n",
    "# reload(sys)\n",
    "# sys.setdefaultencoding('utf-8')\n",
    "\n",
    "import os as os\n",
    "import fnmatch\n",
    "import argparse\n",
    "import pathlib\n",
    "import time\n",
    "\n",
    "import numpy as np\n",
    "if \"DISPLAY\" not in os.environ:\n",
    "    mpl.use('Agg')\n",
    "import matplotlib.pyplot as plt\n",
    "import seaborn as sns\n",
    "import pandas as pd\n",
    "\n",
    "import scipy.io as sio\n",
    "import glob \n",
    "\n",
    "from sklearn.preprocessing import LabelEncoder\n",
    "from sklearn.decomposition import PCA\n",
    "from sklearn.model_selection import GridSearchCV\n",
    "from sklearn.model_selection import KFold  # k-fold cross validation\n",
    "from sklearn.preprocessing import StandardScaler  # data normalization\n",
    "from sklearn.ensemble import RandomForestClassifier  # random forest model\n",
    "from sklearn.pipeline import Pipeline # model pipeline\n",
    "from sklearn import metrics, tree\n",
    "\n",
    "%reload_ext autoreload\n",
    "\n",
    "%matplotlib inline\n",
    "plt.rcParams['figure.figsize'] = (10.0, 8.0) # set default size of plots\n",
    "plt.rcParams['image.interpolation'] = 'nearest'\n",
    "plt.rcParams['image.cmap'] = 'gray'\n",
    "plt.rc('text', usetex=True)\n",
    "plt.rc('font', family='times')\n",
    "\n",
    "plt.rcParams.update({'font.size': 22})\n",
    "# for auto-reloading external modules\n",
    "# see http://stackoverflow.com/questions/1907993/autoreload-of-modules-in-ipython\n",
    "%reload_ext autoreload\n",
    "%autoreload 2\n",
    "\n"
   ]
  },
  {
   "cell_type": "code",
   "execution_count": 2,
   "metadata": {},
   "outputs": [],
   "source": [
    "names = glob.glob(\"../dataset/Dados_SONAR/*.mat\")\n",
    "\n",
    "\n",
    "X = [sio.loadmat(x)['ent_norm'] for x in names]\n",
    "minLengthVector = [np.shape(x)[0] for x in X]\n",
    "Y = [x.split('/')[-1][0] for x in names]\n",
    "minLength = int(np.min(minLengthVector))\n",
    "\n",
    "le = LabelEncoder()\n",
    "target = le.fit_transform(Y)\n",
    "\n",
    "\n",
    "namesA = glob.glob(\"../dataset/Dados_SONAR/A*\")\n",
    "X_A = [sio.loadmat(x)['ent_norm'] for x in namesA]\n",
    "namesB = glob.glob(\"../dataset/Dados_SONAR/B*\")\n",
    "X_B = [sio.loadmat(x)['ent_norm'] for x in namesB]\n",
    "namesC = glob.glob(\"../dataset/Dados_SONAR/C*\")\n",
    "X_C = [sio.loadmat(x)['ent_norm'] for x in namesC]\n",
    "namesH = glob.glob(\"../dataset/Dados_SONAR/H*\")\n",
    "X_H = [sio.loadmat(x)['ent_norm'] for x in namesH]\n",
    "\n",
    "\n",
    "\n",
    "\n",
    "# minLength = np.zeros(len(names))\n",
    "\n",
    "# for i in range(len(names)):\n",
    "#     x = sio.loadmat(str(names[i]))\n",
    "#     y = x[\"ent_norm\"]\n",
    "#     minLength[i] = np.shape(y)[0]\n",
    "# print(np.min(minLength))"
   ]
  },
  {
   "cell_type": "code",
   "execution_count": 5,
   "metadata": {},
   "outputs": [
    {
     "ename": "TypeError",
     "evalue": "stack() takes at most 2 arguments (4 given)",
     "output_type": "error",
     "traceback": [
      "\u001b[0;31m---------------------------------------------------------------------------\u001b[0m",
      "\u001b[0;31mTypeError\u001b[0m                                 Traceback (most recent call last)",
      "\u001b[0;32m<ipython-input-5-af328b83d155>\u001b[0m in \u001b[0;36m<module>\u001b[0;34m()\u001b[0m\n\u001b[1;32m      7\u001b[0m \u001b[0;34m\u001b[0m\u001b[0m\n\u001b[1;32m      8\u001b[0m \u001b[0;34m\u001b[0m\u001b[0m\n\u001b[0;32m----> 9\u001b[0;31m \u001b[0mxMatrixTrain\u001b[0m \u001b[0;34m=\u001b[0m \u001b[0mnp\u001b[0m\u001b[0;34m.\u001b[0m\u001b[0mstack\u001b[0m\u001b[0;34m(\u001b[0m\u001b[0mxMatrix_A\u001b[0m\u001b[0;34m,\u001b[0m \u001b[0mxMatrix_B\u001b[0m\u001b[0;34m,\u001b[0m \u001b[0mxMatrix_C\u001b[0m\u001b[0;34m,\u001b[0m \u001b[0mxMatrix_H\u001b[0m\u001b[0;34m)\u001b[0m\u001b[0;34m\u001b[0m\u001b[0m\n\u001b[0m\u001b[1;32m     10\u001b[0m \u001b[0;34m\u001b[0m\u001b[0m\n\u001b[1;32m     11\u001b[0m \u001b[0;31m# X_train, X_test, y_train, y_test = train_test_split(X,, test_size=63)\u001b[0m\u001b[0;34m\u001b[0m\u001b[0;34m\u001b[0m\u001b[0m\n",
      "\u001b[0;31mTypeError\u001b[0m: stack() takes at most 2 arguments (4 given)"
     ]
    }
   ],
   "source": [
    "xMatrix = np.stack([x[:minLength,:].reshape(-1) for x in X])\n",
    "\n",
    "xMatrix_A = np.stack([x[:minLength,:].reshape(-1) for x in X_A])\n",
    "xMatrix_B = np.stack([x[:minLength,:].reshape(-1) for x in X_B])\n",
    "xMatrix_C = np.stack([x[:minLength,:].reshape(-1) for x in X_C])\n",
    "xMatrix_H = np.stack([x[:minLength,:].reshape(-1) for x in X_H])\n",
    "\n",
    "\n",
    "xMatrixTrain = np.concatenate(xMatrix_A, xMatrix_B, xMatrix_C, xMatrix_H)\n",
    "\n",
    "# X_train, X_test, y_train, y_test = train_test_split(X,, test_size=63)"
   ]
  },
  {
   "cell_type": "code",
   "execution_count": null,
   "metadata": {
    "collapsed": true
   },
   "outputs": [],
   "source": []
  }
 ],
 "metadata": {
  "kernelspec": {
   "display_name": "Python 2",
   "language": "python",
   "name": "python2"
  },
  "language_info": {
   "codemirror_mode": {
    "name": "ipython",
    "version": 2
   },
   "file_extension": ".py",
   "mimetype": "text/x-python",
   "name": "python",
   "nbconvert_exporter": "python",
   "pygments_lexer": "ipython2",
   "version": "2.7.13"
  }
 },
 "nbformat": 4,
 "nbformat_minor": 2
}
