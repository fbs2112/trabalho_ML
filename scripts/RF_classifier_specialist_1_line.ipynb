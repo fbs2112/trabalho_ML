{
 "cells": [
  {
   "cell_type": "code",
   "execution_count": 1,
   "metadata": {},
   "outputs": [],
   "source": [
    "from six.moves import cPickle as pickle\n",
    "\n",
    "import sys\n",
    "# reload(sys)\n",
    "# sys.setdefaultencoding('utf-8')\n",
    "\n",
    "import os as os\n",
    "import fnmatch\n",
    "import argparse\n",
    "import pathlib\n",
    "import time\n",
    "import itertools\n",
    "\n",
    "import numpy as np\n",
    "if \"DISPLAY\" not in os.environ:\n",
    "    mpl.use('Agg')\n",
    "import matplotlib.pyplot as plt\n",
    "import seaborn as sns\n",
    "import pandas as pd\n",
    "\n",
    "import scipy.io as sio\n",
    "import glob \n",
    "\n",
    "from scipy.stats import randint as sp_randint\n",
    "from sklearn.preprocessing import LabelEncoder\n",
    "from sklearn.decomposition import PCA, KernelPCA\n",
    "from sklearn.model_selection import GridSearchCV\n",
    "from sklearn.model_selection import RandomizedSearchCV\n",
    "from sklearn.model_selection import KFold  # k-fold cross validation StratifiedKFold\n",
    "from sklearn.model_selection import StratifiedKFold\n",
    "from sklearn.preprocessing import StandardScaler  # data normalization\n",
    "from sklearn import svm\n",
    "from sklearn.ensemble import RandomForestClassifier  # random forest model\n",
    "from sklearn.pipeline import Pipeline # model pipeline\n",
    "from sklearn.model_selection import train_test_split\n",
    "from sklearn import metrics\n",
    "from sklearn.metrics import make_scorer\n",
    "\n",
    "\n",
    "%reload_ext autoreload\n",
    "\n",
    "%matplotlib inline\n",
    "plt.rcParams['figure.figsize'] = (10.0, 8.0) # set default size of plots\n",
    "plt.rcParams['image.interpolation'] = 'nearest'\n",
    "plt.rcParams['image.cmap'] = 'gray'\n",
    "plt.rc('text', usetex=True)\n",
    "plt.rc('font', family='times')\n",
    "\n",
    "plt.rcParams.update({'font.size': 22})\n",
    "# for auto-reloading external modules\n",
    "# see http://stackoverflow.com/questions/1907993/autoreload-of-modules-in-ipython\n",
    "%reload_ext autoreload\n",
    "%autoreload 2\n",
    "\n"
   ]
  },
  {
   "cell_type": "code",
   "execution_count": 2,
   "metadata": {},
   "outputs": [],
   "source": [
    "def plot_confusion_matrix(cm, classes,\n",
    "                          normalize=False,\n",
    "                          title='Confusion matrix',\n",
    "                          cmap=plt.cm.Blues):\n",
    "    \"\"\"\n",
    "    This function prints and plots the confusion matrix.\n",
    "    Normalization can be applied by setting `normalize=True`.\n",
    "    \"\"\"\n",
    "    if normalize:\n",
    "        cm = cm.astype('float') / cm.sum(axis=1)[:, np.newaxis]\n",
    "        print(\"Normalized confusion matrix\")\n",
    "    else:\n",
    "        print('Confusion matrix, without normalization')\n",
    "\n",
    "    print(cm)\n",
    "\n",
    "    plt.imshow(cm, interpolation='nearest', cmap=cmap)\n",
    "    plt.title(title)\n",
    "    plt.colorbar()\n",
    "    tick_marks = np.arange(len(classes))\n",
    "    plt.xticks(tick_marks, classes, rotation=45)\n",
    "    plt.yticks(tick_marks, classes)\n",
    "\n",
    "    fmt = '.2f' if normalize else 'd'\n",
    "    thresh = cm.max() / 2.\n",
    "    for i, j in itertools.product(range(cm.shape[0]), range(cm.shape[1])):\n",
    "        plt.text(j, i, format(cm[i, j], fmt),\n",
    "                 horizontalalignment=\"center\",\n",
    "                 color=\"white\" if cm[i, j] > thresh else \"black\")\n",
    "\n",
    "    plt.tight_layout()\n",
    "    plt.ylabel('True label')\n",
    "    plt.xlabel('Predicted label')"
   ]
  },
  {
   "cell_type": "code",
   "execution_count": 3,
   "metadata": {},
   "outputs": [
    {
     "name": "stdout",
     "output_type": "stream",
     "text": [
      "['B', 'B', 'B', 'B', 'B', 'B', 'B', 'B', 'B', 'B', 'B', 'B', 'B', 'B', 'B', 'B', 'B', 'B', 'B', 'B', 'B', 'B', 'B', 'B', 'B', 'B', 'B', 'B', 'B', 'B', 'A', 'A', 'B', 'B', 'B', 'B', 'B', 'B', 'B', 'B', 'B', 'B', 'B', 'B', 'B', 'B', 'B', 'B', 'B', 'B', 'B', 'B', 'B', 'B', 'B', 'B', 'B', 'B', 'B', 'B', 'B', 'B', 'B', 'B', 'B', 'B', 'B', 'B', 'B', 'B', 'B', 'B', 'B', 'B', 'B', 'B', 'B', 'B', 'B', 'B', 'B', 'B', 'B', 'B', 'B', 'B', 'B', 'B', 'B', 'B', 'B', 'B', 'B', 'B', 'B', 'B', 'B', 'B', 'B', 'B', 'B', 'B', 'B', 'B', 'B', 'B', 'B', 'B', 'B', 'B', 'B', 'B', 'B', 'B', 'B', 'B', 'B', 'B', 'B', 'A', 'A', 'A', 'A', 'A', 'A', 'A', 'A', 'A', 'B', 'B', 'B', 'B', 'B', 'B', 'B', 'A', 'A', 'A', 'A', 'A', 'A', 'A', 'A', 'A', 'A', 'A', 'A', 'A', 'A', 'A', 'A', 'A', 'A']\n",
      "[1 1 1 1 1 1 1 1 1 1 1 1 1 1 1 1 1 1 1 1 1 1 1 1 1 1 1 1 1 1 0 0 1 1 1 1 1\n",
      " 1 1 1 1 1 1 1 1 1 1 1 1 1 1 1 1 1 1 1 1 1 1 1 1 1 1 1 1 1 1 1 1 1 1 1 1 1\n",
      " 1 1 1 1 1 1 1 1 1 1 1 1 1 1 1 1 1 1 1 1 1 1 1 1 1 1 1 1 1 1 1 1 1 1 1 1 1\n",
      " 1 1 1 1 1 1 1 1 0 0 0 0 0 0 0 0 0 1 1 1 1 1 1 1 0 0 0 0 0 0 0 0 0 0 0 0 0\n",
      " 0 0 0 0 0]\n"
     ]
    }
   ],
   "source": [
    "knownNames = glob.glob(\"../dataset/Dados_SONAR/[DEFH]*.mat\")\n",
    "\n",
    "unknownNames = glob.glob(\"../dataset/Dados_SONAR/[ABCG]*.mat\")\n",
    "\n",
    "X = [sio.loadmat(x)['ent_norm'] for x in knownNames]\n",
    "\n",
    "X_unknown = [sio.loadmat(x)['ent_norm'] for x in unknownNames]\n",
    "\n",
    "\n",
    "\n",
    "Y = [(x.split('/')[-1][0]) for x in knownNames]\n",
    "Y = ['A' if y=='D' else y for y in Y]\n",
    "Y = ['B' if y!='A' else y for y in Y]\n",
    "\n",
    "print(Y)\n",
    "\n",
    "le = LabelEncoder()\n",
    "target = le.fit_transform(Y)\n",
    "\n",
    "print(target)\n"
   ]
  },
  {
   "cell_type": "code",
   "execution_count": 4,
   "metadata": {},
   "outputs": [],
   "source": [
    "def increase_samples(data, wLength, ovSamples, label=None):\n",
    "    \n",
    "    y = []\n",
    "    newLabel = []\n",
    "    for counter, x in enumerate(data):\n",
    "        size = np.shape(x)[0]\n",
    "        beginWindowIndex = 0\n",
    "        endWindowIndex = wLength\n",
    "        if label is None:\n",
    "            label2 = []\n",
    "        else:    \n",
    "            label2 = label[counter]\n",
    "        \n",
    "        while True:\n",
    "            vector = np.reshape(x[beginWindowIndex:endWindowIndex,:], -1)\n",
    "            y.append(vector)\n",
    "            beginWindowIndex = beginWindowIndex + ovSamples\n",
    "            endWindowIndex = endWindowIndex + ovSamples\n",
    "            newLabel.append(label2)\n",
    "            if endWindowIndex > size:\n",
    "                break\n",
    "            \n",
    "    y = np.stack(y)\n",
    "    return y, newLabel "
   ]
  },
  {
   "cell_type": "code",
   "execution_count": 5,
   "metadata": {},
   "outputs": [],
   "source": [
    "windowLength = 1"
   ]
  },
  {
   "cell_type": "code",
   "execution_count": 6,
   "metadata": {},
   "outputs": [],
   "source": [
    "X_train, X_test, y_train, y_test = train_test_split(X, target, test_size=0.3, random_state=42)\n"
   ]
  },
  {
   "cell_type": "code",
   "execution_count": 7,
   "metadata": {},
   "outputs": [],
   "source": [
    "xMatrixTrainExtended,y_trainExtended = increase_samples(X_train, windowLength, 1, y_train)\n",
    "# print(xMatrixTrainExtended.shape)\n",
    "# print(xMatrix.shape)\n",
    "# print(len(y_trainExtended))"
   ]
  },
  {
   "cell_type": "code",
   "execution_count": 8,
   "metadata": {},
   "outputs": [],
   "source": [
    "model = Pipeline([('pca', PCA()), ('rf', RandomForestClassifier(random_state=42, class_weight='balanced'))])\n",
    "# model = Pipeline([('reduce_dim', PCA()), ('rf', RandomForestClassifier(random_state=42, class_weight='balanced'))])\n"
   ]
  },
  {
   "cell_type": "code",
   "execution_count": 17,
   "metadata": {},
   "outputs": [
    {
     "name": "stdout",
     "output_type": "stream",
     "text": [
      "(46, 557)\n"
     ]
    }
   ],
   "source": [
    "xMatrixTest = np.stack([x[:windowLength,:].reshape(-1) for x in X_test])\n",
    "print(xMatrixTest.shape)"
   ]
  },
  {
   "cell_type": "code",
   "execution_count": 10,
   "metadata": {},
   "outputs": [],
   "source": [
    "fold = StratifiedKFold(10)\n"
   ]
  },
  {
   "cell_type": "code",
   "execution_count": 11,
   "metadata": {},
   "outputs": [
    {
     "name": "stdout",
     "output_type": "stream",
     "text": [
      "(11251, 557)\n"
     ]
    },
    {
     "data": {
      "text/plain": [
       "RandomizedSearchCV(cv=StratifiedKFold(n_splits=10, random_state=None, shuffle=False),\n",
       "          error_score='raise',\n",
       "          estimator=Pipeline(memory=None,\n",
       "     steps=[('pca', PCA(copy=True, iterated_power='auto', n_components=None, random_state=None,\n",
       "  svd_solver='auto', tol=0.0, whiten=False)), ('rf', RandomForestClassifier(bootstrap=True, class_weight='balanced',\n",
       "            criterion='gini', max_depth=None, max_features='auto',\n",
       "            max_leaf_node...stimators=10, n_jobs=1, oob_score=False, random_state=42,\n",
       "            verbose=0, warm_start=False))]),\n",
       "          fit_params=None, iid=True, n_iter=10, n_jobs=1,\n",
       "          param_distributions={'pca__n_components': <scipy.stats._distn_infrastructure.rv_frozen object at 0x7efc21176190>, 'rf__criterion': ['gini'], 'rf__n_jobs': [-1], 'rf__n_estimators': <scipy.stats._distn_infrastructure.rv_frozen object at 0x7efbf254f110>, 'rf__min_samples_leaf': <scipy.stats._distn_infrastructure.rv_frozen object at 0x7efbf254f210>},\n",
       "          pre_dispatch='2*n_jobs', random_state=None, refit=True,\n",
       "          return_train_score='warn', scoring=make_scorer(accuracy_score),\n",
       "          verbose=0)"
      ]
     },
     "execution_count": 11,
     "metadata": {},
     "output_type": "execute_result"
    }
   ],
   "source": [
    "# parameters = {'pca__n_components': [252], 'rf__n_estimators': [82], 'rf__n_jobs': [-1],\n",
    "#               'rf__min_samples_leaf': [35], 'rf__criterion': ['gini']}\n",
    "metric = metrics.make_scorer(metrics.accuracy_score)\n",
    "# metric = metrics.make_scorer(metrics.precision_score, average='weighted')\n",
    "\n",
    "\n",
    "\n",
    "parameters = {'pca__n_components': sp_randint(10, 500), 'rf__n_estimators': sp_randint(10, 100), 'rf__n_jobs': [-1],\n",
    "              'rf__min_samples_leaf': sp_randint(1, 100), 'rf__criterion': ['gini']}\n",
    "\n",
    "\n",
    "# parameters = {'pca__n_components': sp_randint(10, 200)}\n",
    "\n",
    "gridsearchcv = RandomizedSearchCV(model, parameters, scoring=metric, cv=fold, n_iter=10)\n",
    "\n",
    "print(xMatrixTrainExtended.shape)\n",
    "\n",
    "# gridsearchcv = GridSearchCV(model, parameters, n_jobs=3, cv=fold, scoring=metric)\n",
    "gridsearchcv.fit(xMatrixTrainExtended, y_trainExtended)"
   ]
  },
  {
   "cell_type": "code",
   "execution_count": 12,
   "metadata": {},
   "outputs": [
    {
     "name": "stderr",
     "output_type": "stream",
     "text": [
      "/home/felipe/miniconda2/envs/siemens2.7/lib/python2.7/site-packages/sklearn/utils/deprecation.py:122: FutureWarning: You are accessing a training score ('mean_train_score'), which will not be available by default any more in 0.21. If you need training scores, please set return_train_score=True\n",
      "  warnings.warn(*warn_args, **warn_kwargs)\n",
      "/home/felipe/miniconda2/envs/siemens2.7/lib/python2.7/site-packages/sklearn/utils/deprecation.py:122: FutureWarning: You are accessing a training score ('split0_train_score'), which will not be available by default any more in 0.21. If you need training scores, please set return_train_score=True\n",
      "  warnings.warn(*warn_args, **warn_kwargs)\n",
      "/home/felipe/miniconda2/envs/siemens2.7/lib/python2.7/site-packages/sklearn/utils/deprecation.py:122: FutureWarning: You are accessing a training score ('split1_train_score'), which will not be available by default any more in 0.21. If you need training scores, please set return_train_score=True\n",
      "  warnings.warn(*warn_args, **warn_kwargs)\n",
      "/home/felipe/miniconda2/envs/siemens2.7/lib/python2.7/site-packages/sklearn/utils/deprecation.py:122: FutureWarning: You are accessing a training score ('split2_train_score'), which will not be available by default any more in 0.21. If you need training scores, please set return_train_score=True\n",
      "  warnings.warn(*warn_args, **warn_kwargs)\n",
      "/home/felipe/miniconda2/envs/siemens2.7/lib/python2.7/site-packages/sklearn/utils/deprecation.py:122: FutureWarning: You are accessing a training score ('split3_train_score'), which will not be available by default any more in 0.21. If you need training scores, please set return_train_score=True\n",
      "  warnings.warn(*warn_args, **warn_kwargs)\n",
      "/home/felipe/miniconda2/envs/siemens2.7/lib/python2.7/site-packages/sklearn/utils/deprecation.py:122: FutureWarning: You are accessing a training score ('split4_train_score'), which will not be available by default any more in 0.21. If you need training scores, please set return_train_score=True\n",
      "  warnings.warn(*warn_args, **warn_kwargs)\n",
      "/home/felipe/miniconda2/envs/siemens2.7/lib/python2.7/site-packages/sklearn/utils/deprecation.py:122: FutureWarning: You are accessing a training score ('split5_train_score'), which will not be available by default any more in 0.21. If you need training scores, please set return_train_score=True\n",
      "  warnings.warn(*warn_args, **warn_kwargs)\n",
      "/home/felipe/miniconda2/envs/siemens2.7/lib/python2.7/site-packages/sklearn/utils/deprecation.py:122: FutureWarning: You are accessing a training score ('split6_train_score'), which will not be available by default any more in 0.21. If you need training scores, please set return_train_score=True\n",
      "  warnings.warn(*warn_args, **warn_kwargs)\n",
      "/home/felipe/miniconda2/envs/siemens2.7/lib/python2.7/site-packages/sklearn/utils/deprecation.py:122: FutureWarning: You are accessing a training score ('split7_train_score'), which will not be available by default any more in 0.21. If you need training scores, please set return_train_score=True\n",
      "  warnings.warn(*warn_args, **warn_kwargs)\n",
      "/home/felipe/miniconda2/envs/siemens2.7/lib/python2.7/site-packages/sklearn/utils/deprecation.py:122: FutureWarning: You are accessing a training score ('split8_train_score'), which will not be available by default any more in 0.21. If you need training scores, please set return_train_score=True\n",
      "  warnings.warn(*warn_args, **warn_kwargs)\n",
      "/home/felipe/miniconda2/envs/siemens2.7/lib/python2.7/site-packages/sklearn/utils/deprecation.py:122: FutureWarning: You are accessing a training score ('split9_train_score'), which will not be available by default any more in 0.21. If you need training scores, please set return_train_score=True\n",
      "  warnings.warn(*warn_args, **warn_kwargs)\n",
      "/home/felipe/miniconda2/envs/siemens2.7/lib/python2.7/site-packages/sklearn/utils/deprecation.py:122: FutureWarning: You are accessing a training score ('std_train_score'), which will not be available by default any more in 0.21. If you need training scores, please set return_train_score=True\n",
      "  warnings.warn(*warn_args, **warn_kwargs)\n"
     ]
    },
    {
     "data": {
      "text/plain": [
       "{'mean_fit_time': array([ 0.60437467,  3.64752128,  1.8115581 ,  2.16352391,  0.5819983 ,\n",
       "         1.7512778 ,  2.92875896,  2.10122178,  2.91706228,  1.66722913]),\n",
       " 'mean_score_time': array([ 0.14046154,  0.14715233,  0.14652233,  0.1391866 ,  0.12951109,\n",
       "         0.13421941,  0.14975691,  0.13748319,  0.15068202,  0.14657388]),\n",
       " 'mean_test_score': array([ 0.95724824,  0.96062572,  0.9513821 ,  0.95200427,  0.9457826 ,\n",
       "         0.94498267,  0.94604924,  0.95395965,  0.94880455,  0.95289308]),\n",
       " 'mean_train_score': array([ 0.98486065,  0.99188219,  0.98435698,  0.98769496,  0.98060425,\n",
       "         0.98922574,  0.98294477,  0.99705705,  0.98256949,  0.98475195]),\n",
       " 'param_pca__n_components': masked_array(data = [19 369 196 337 91 422 396 375 369 132],\n",
       "              mask = [False False False False False False False False False False],\n",
       "        fill_value = ?),\n",
       " 'param_rf__criterion': masked_array(data = ['gini' 'gini' 'gini' 'gini' 'gini' 'gini' 'gini' 'gini' 'gini' 'gini'],\n",
       "              mask = [False False False False False False False False False False],\n",
       "        fill_value = ?),\n",
       " 'param_rf__min_samples_leaf': masked_array(data = [40 23 60 27 63 15 83 7 84 61],\n",
       "              mask = [False False False False False False False False False False],\n",
       "        fill_value = ?),\n",
       " 'param_rf__n_estimators': masked_array(data = [57 91 63 33 16 11 62 25 71 80],\n",
       "              mask = [False False False False False False False False False False],\n",
       "        fill_value = ?),\n",
       " 'param_rf__n_jobs': masked_array(data = [-1 -1 -1 -1 -1 -1 -1 -1 -1 -1],\n",
       "              mask = [False False False False False False False False False False],\n",
       "        fill_value = ?),\n",
       " 'params': [{'pca__n_components': 19,\n",
       "   'rf__criterion': 'gini',\n",
       "   'rf__min_samples_leaf': 40,\n",
       "   'rf__n_estimators': 57,\n",
       "   'rf__n_jobs': -1},\n",
       "  {'pca__n_components': 369,\n",
       "   'rf__criterion': 'gini',\n",
       "   'rf__min_samples_leaf': 23,\n",
       "   'rf__n_estimators': 91,\n",
       "   'rf__n_jobs': -1},\n",
       "  {'pca__n_components': 196,\n",
       "   'rf__criterion': 'gini',\n",
       "   'rf__min_samples_leaf': 60,\n",
       "   'rf__n_estimators': 63,\n",
       "   'rf__n_jobs': -1},\n",
       "  {'pca__n_components': 337,\n",
       "   'rf__criterion': 'gini',\n",
       "   'rf__min_samples_leaf': 27,\n",
       "   'rf__n_estimators': 33,\n",
       "   'rf__n_jobs': -1},\n",
       "  {'pca__n_components': 91,\n",
       "   'rf__criterion': 'gini',\n",
       "   'rf__min_samples_leaf': 63,\n",
       "   'rf__n_estimators': 16,\n",
       "   'rf__n_jobs': -1},\n",
       "  {'pca__n_components': 422,\n",
       "   'rf__criterion': 'gini',\n",
       "   'rf__min_samples_leaf': 15,\n",
       "   'rf__n_estimators': 11,\n",
       "   'rf__n_jobs': -1},\n",
       "  {'pca__n_components': 396,\n",
       "   'rf__criterion': 'gini',\n",
       "   'rf__min_samples_leaf': 83,\n",
       "   'rf__n_estimators': 62,\n",
       "   'rf__n_jobs': -1},\n",
       "  {'pca__n_components': 375,\n",
       "   'rf__criterion': 'gini',\n",
       "   'rf__min_samples_leaf': 7,\n",
       "   'rf__n_estimators': 25,\n",
       "   'rf__n_jobs': -1},\n",
       "  {'pca__n_components': 369,\n",
       "   'rf__criterion': 'gini',\n",
       "   'rf__min_samples_leaf': 84,\n",
       "   'rf__n_estimators': 71,\n",
       "   'rf__n_jobs': -1},\n",
       "  {'pca__n_components': 132,\n",
       "   'rf__criterion': 'gini',\n",
       "   'rf__min_samples_leaf': 61,\n",
       "   'rf__n_estimators': 80,\n",
       "   'rf__n_jobs': -1}],\n",
       " 'rank_test_score': array([ 2,  1,  6,  5,  9, 10,  8,  3,  7,  4], dtype=int32),\n",
       " 'split0_test_score': array([ 0.93872114,  0.94671403,  0.92717584,  0.93072824,  0.92717584,\n",
       "         0.92806394,  0.92273535,  0.94227353,  0.91829485,  0.92184725]),\n",
       " 'split0_train_score': array([ 0.98706173,  0.99219753,  0.98488889,  0.98982716,  0.98103704,\n",
       "         0.9922963 ,  0.98498765,  0.99683951,  0.9817284 ,  0.98340741]),\n",
       " 'split1_test_score': array([ 0.98845471,  0.99023091,  0.98756661,  0.98490231,  0.98401421,\n",
       "         0.96358792,  0.98667851,  0.98223801,  0.98934281,  0.98756661]),\n",
       " 'split1_train_score': array([ 0.98123457,  0.98883951,  0.98064198,  0.9842963 ,  0.97797531,\n",
       "         0.98814815,  0.97807407,  0.99585185,  0.9785679 ,  0.98014815]),\n",
       " 'split2_test_score': array([ 0.98223801,  0.97158082,  0.93872114,  0.95026643,  0.96802842,\n",
       "         0.95026643,  0.93694494,  0.95825933,  0.97513321,  0.96625222]),\n",
       " 'split2_train_score': array([ 0.98706173,  0.99209877,  0.98676543,  0.98923457,  0.98716049,\n",
       "         0.9917037 ,  0.98558025,  0.99792593,  0.98637037,  0.98696296]),\n",
       " 'split3_test_score': array([ 0.89066667,  0.89688889,  0.90488889,  0.91288889,  0.89244444,\n",
       "         0.90755556,  0.88177778,  0.91111111,  0.88088889,  0.89777778]),\n",
       " 'split3_train_score': array([ 0.98271776,  0.98992692,  0.98281651,  0.98795181,  0.98074264,\n",
       "         0.9886431 ,  0.97896504,  0.99604977,  0.97985384,  0.98311278]),\n",
       " 'split4_test_score': array([ 0.992     ,  0.99022222,  0.98933333,  0.98133333,  0.98755556,\n",
       "         0.97955556,  0.99022222,  0.97511111,  0.98933333,  0.99111111]),\n",
       " 'split4_train_score': array([ 0.98469287,  0.99190203,  0.98518665,  0.98765554,  0.98094015,\n",
       "         0.98795181,  0.98044638,  0.99792613,  0.98054513,  0.98538416]),\n",
       " 'split5_test_score': array([ 0.90222222,  0.94933333,  0.92711111,  0.93777778,  0.91377778,\n",
       "         0.91911111,  0.928     ,  0.94577778,  0.93244444,  0.91555556]),\n",
       " 'split5_train_score': array([ 0.98370531,  0.99358088,  0.98548292,  0.98972941,  0.97382975,\n",
       "         0.9904207 ,  0.98617421,  0.9973336 ,  0.9852854 ,  0.98558167]),\n",
       " 'split6_test_score': array([ 0.98755556,  0.98755556,  0.98044444,  0.968     ,  0.97511111,\n",
       "         0.96888889,  0.97688889,  0.97066667,  0.98133333,  0.98044444]),\n",
       " 'split6_train_score': array([ 0.98666798,  0.99229706,  0.98538416,  0.98617421,  0.98005135,\n",
       "         0.98874185,  0.98370531,  0.99723484,  0.98518665,  0.98607545]),\n",
       " 'split7_test_score': array([ 0.93866667,  0.93155556,  0.92977778,  0.93155556,  0.93422222,\n",
       "         0.92088889,  0.93511111,  0.91733333,  0.93066667,  0.93244444]),\n",
       " 'split7_train_score': array([ 0.98992692,  0.99506222,  0.98745803,  0.99081572,  0.98429785,\n",
       "         0.99101323,  0.99022319,  0.99812364,  0.98814932,  0.98884061]),\n",
       " 'split8_test_score': array([ 0.99288256,  0.98309609,  0.97686833,  0.97686833,  0.92081851,\n",
       "         0.96263345,  0.95640569,  0.97953737,  0.93950178,  0.97864769]),\n",
       " 'split8_train_score': array([ 0.97876963,  0.98992792,  0.97946085,  0.98015207,  0.97531352,\n",
       "         0.98587933,  0.97709094,  0.99614891,  0.97432606,  0.98034956]),\n",
       " 'split9_test_score': array([ 0.95907473,  0.95907473,  0.9519573 ,  0.94572954,  0.95462633,\n",
       "         0.94928826,  0.94572954,  0.95729537,  0.95106762,  0.95729537]),\n",
       " 'split9_train_score': array([ 0.98676805,  0.99298904,  0.98548435,  0.99111287,  0.98469438,\n",
       "         0.98745927,  0.98420065,  0.99713637,  0.98568184,  0.98765676]),\n",
       " 'std_fit_time': array([ 0.04928276,  0.68890152,  0.31194766,  0.41736513,  0.10193389,\n",
       "         0.22529118,  0.63781868,  0.31515626,  0.5950377 ,  0.39131874]),\n",
       " 'std_score_time': array([ 0.00265216,  0.00788677,  0.0059088 ,  0.00574254,  0.00542655,\n",
       "         0.0036829 ,  0.00959883,  0.00586466,  0.00877823,  0.01348587]),\n",
       " 'std_test_score': array([ 0.03625826,  0.02886754,  0.02865017,  0.02337194,  0.03100449,\n",
       "         0.02325435,  0.03140724,  0.02364479,  0.03357194,  0.03177649]),\n",
       " 'std_train_score': array([ 0.00313792,  0.0017732 ,  0.00245211,  0.00321408,  0.00393419,\n",
       "         0.00194598,  0.00395917,  0.00078111,  0.0040699 ,  0.00279203])}"
      ]
     },
     "execution_count": 12,
     "metadata": {},
     "output_type": "execute_result"
    }
   ],
   "source": [
    "gridsearchcv.cv_results_"
   ]
  },
  {
   "cell_type": "code",
   "execution_count": 16,
   "metadata": {},
   "outputs": [
    {
     "name": "stdout",
     "output_type": "stream",
     "text": [
      "{'pca__n_components': 369, 'rf__n_jobs': -1, 'rf__criterion': 'gini', 'rf__n_estimators': 91, 'rf__min_samples_leaf': 23}\n",
      "(array([ 0.95724824,  0.96062572,  0.9513821 ,  0.95200427,  0.9457826 ,\n",
      "        0.94498267,  0.94604924,  0.95395965,  0.94880455,  0.95289308]), array([ 0.03625826,  0.02886754,  0.02865017,  0.02337194,  0.03100449,\n",
      "        0.02325435,  0.03140724,  0.02364479,  0.03357194,  0.03177649]))\n",
      "Normalized confusion matrix\n",
      "[[ 0.9729364   0.0270636 ]\n",
      " [ 0.01048405  0.98951595]]\n"
     ]
    },
    {
     "data": {
      "image/png": "[encoded data removed]",
      "text/plain": [
       "<matplotlib.figure.Figure at 0x7efc0a6acf50>"
      ]
     },
     "metadata": {},
     "output_type": "display_data"
    }
   ],
   "source": [
    "best_n_components = gridsearchcv.best_params_['pca__n_components']\n",
    "\n",
    "xMatrixTestExtended,y_testExtended = increase_samples(X_test, windowLength, 1, y_test)\n",
    "xMatrixUnknownExtended,_ = increase_samples(X_unknown, windowLength, 1)\n",
    "\n",
    "print(gridsearchcv.best_params_)\n",
    "means = gridsearchcv.cv_results_['mean_test_score']\n",
    "stds = gridsearchcv.cv_results_['std_test_score']\n",
    "\n",
    "print(means,stds)\n",
    "# print(zip(gridsearchcv.best_estimator_.predict_proba(xMatrixTestExtended), np.array(y_testExtended)))\n",
    "acc = metrics.accuracy_score(y_testExtended, gridsearchcv.best_estimator_.predict(xMatrixTestExtended))\n",
    "F1 = metrics.f1_score(y_testExtended, gridsearchcv.best_estimator_.predict(xMatrixTestExtended), average='weighted')\n",
    "prec = metrics.precision_score(y_testExtended, gridsearchcv.best_estimator_.predict(xMatrixTestExtended), average='weighted')\n",
    "\n",
    "confusionMatrix = metrics.confusion_matrix(y_testExtended, gridsearchcv.best_estimator_.predict(xMatrixTestExtended))\n",
    "\n",
    "plt.figure()\n",
    "plot_confusion_matrix(confusionMatrix,normalize=True, classes=['D', 'EFH'])\n",
    "# print(np.max(resultsTest,axis=1))\n"
   ]
  },
  {
   "cell_type": "code",
   "execution_count": 20,
   "metadata": {},
   "outputs": [
    {
     "data": {
      "image/png": "[encoded data removed]",
      "text/plain": [
       "<matplotlib.figure.Figure at 0x7efbee7eaed0>"
      ]
     },
     "metadata": {},
     "output_type": "display_data"
    },
    {
     "data": {
      "image/png": "[encoded data removed]",
      "text/plain": [
       "<matplotlib.figure.Figure at 0x7efbee6e8fd0>"
      ]
     },
     "metadata": {},
     "output_type": "display_data"
    },
    {
     "name": "stdout",
     "output_type": "stream",
     "text": [
      "[[ 0.17398009  0.82601991]\n",
      " [ 0.21447923  0.78552077]\n",
      " [ 0.18110308  0.81889692]\n",
      " [ 0.19199495  0.80800505]\n",
      " [ 0.28681337  0.71318663]\n",
      " [ 0.15221029  0.84778971]\n",
      " [ 0.1907401   0.8092599 ]\n",
      " [ 0.24968389  0.75031611]\n",
      " [ 0.24132533  0.75867467]\n",
      " [ 0.32303076  0.67696924]\n",
      " [ 0.1628286   0.8371714 ]\n",
      " [ 0.19198824  0.80801176]\n",
      " [ 0.13718948  0.86281052]\n",
      " [ 0.26574697  0.73425303]\n",
      " [ 0.30087625  0.69912375]\n",
      " [ 0.18268428  0.81731572]\n",
      " [ 0.23867299  0.76132701]\n",
      " [ 0.24260501  0.75739499]\n",
      " [ 0.22805412  0.77194588]\n",
      " [ 0.17624     0.82376   ]]\n"
     ]
    }
   ],
   "source": [
    "resultsTestProb = gridsearchcv.best_estimator_.predict_proba(xMatrixTestExtended)\n",
    "resultsTest = gridsearchcv.best_estimator_.predict(xMatrixTestExtended)\n",
    "resultsTrainProb = gridsearchcv.best_estimator_.predict_proba(xMatrixTrainExtended)\n",
    "\n",
    "\n",
    "# print(resultsTestProb)\n",
    "# print()\n",
    "resultsUnknown = gridsearchcv.best_estimator_.predict_proba(xMatrixUnknownExtended)\n",
    "\n",
    "# print(resultsUnknown)\n",
    "\n",
    "x = np.abs(resultsTest - y_testExtended)\n",
    "# print(np.where(x !=0))\n",
    "\n",
    "aux2 = np.array(resultsTestProb)\n",
    "aux3 = np.array(y_testExtended)\n",
    "\n",
    "indexA = (aux3 == 0) \n",
    "indexB = (aux3 == 1) & (x == 0)\n",
    "indexC = (aux3 == 2) & (x == 0)\n",
    "indexH = (aux3 == 3) & (x == 0)\n",
    "\n",
    "# print(indexA)\n",
    "\n",
    "\n",
    "acertos_A = resultsTestProb[indexA,0]\n",
    "acertos_B = resultsTestProb[indexB,1]\n",
    "\n",
    "index = np.where(x == 0)\n",
    "\n",
    "\n",
    "aux = aux2[np.where(x==0),aux3[np.where(x==0)]]\n",
    "plt.figure()\n",
    "plt.hist(resultsTestProb[indexA,0], bins=50, facecolor='blue', alpha=0.75)\n",
    "plt.show()\n",
    "\n",
    "plt.figure()\n",
    "plt.hist(resultsUnknown[:,1], 50, facecolor='blue', alpha=0.75)\n",
    "plt.show()\n",
    "\n",
    "print(resultsUnknown[:20,:])"
   ]
  },
  {
   "cell_type": "code",
   "execution_count": 15,
   "metadata": {},
   "outputs": [],
   "source": [
    "dictionary = {'acc': acc, 'f1': F1, 'prec': prec, 'mean_test_score': means, 'std_test_score': stds, \n",
    "              'confMatrix': confusionMatrix, 'bestParams': gridsearchcv.best_params_}\n",
    "\n",
    "sio.savemat('results_class_line1.mat', dictionary)\n",
    "\n",
    "pickle.dump( gridsearchcv, open( \"model_class_line1.p\", \"wb\" ) )"
   ]
  }
 ],
 "metadata": {
  "kernelspec": {
   "display_name": "Python 2",
   "language": "python",
   "name": "python2"
  },
  "language_info": {
   "codemirror_mode": {
    "name": "ipython",
    "version": 2
   },
   "file_extension": ".py",
   "mimetype": "text/x-python",
   "name": "python",
   "nbconvert_exporter": "python",
   "pygments_lexer": "ipython2",
   "version": "2.7.14"
  }
 },
 "nbformat": 4,
 "nbformat_minor": 2
}
